{
  "nbformat": 4,
  "nbformat_minor": 0,
  "metadata": {
    "kernelspec": {
      "display_name": "Python 3",
      "language": "python",
      "name": "python3"
    },
    "language_info": {
      "codemirror_mode": {
        "name": "ipython",
        "version": 3
      },
      "file_extension": ".py",
      "mimetype": "text/x-python",
      "name": "python",
      "nbconvert_exporter": "python",
      "pygments_lexer": "ipython3",
      "version": "3.7.4"
    },
    "colab": {
      "name": "to_frame.ipynb",
      "provenance": []
    }
  },
  "cells": [
    {
      "cell_type": "code",
      "metadata": {
        "id": "XMDOm_JwgAjd"
      },
      "source": [
        "import os\n",
        "import shutil\n",
        "import cv2\n",
        "from tqdm.notebook import tqdm\n",
        "import time"
      ],
      "execution_count": null,
      "outputs": []
    },
    {
      "cell_type": "code",
      "metadata": {
        "id": "lJUQRC1OgAjl"
      },
      "source": [
        "#VIDEO FOLDER PATH\n",
        "PATH = [\"/Users/ellsafiorenza/Downloads/tracking/video\"]\n",
        "#FOLDER OUTPUT\n",
        "FRAMES_DIR = \"frames\"\n",
        "\n",
        "CLEAN = True"
      ],
      "execution_count": null,
      "outputs": []
    },
    {
      "cell_type": "code",
      "metadata": {
        "id": "xd2lBfRxgAjm"
      },
      "source": [
        "if CLEAN:\n",
        "    if os.path.isdir(FRAMES_DIR):\n",
        "        shutil.rmtree(FRAMES_DIR)\n",
        "\n",
        "if not os.path.isdir(FRAMES_DIR):\n",
        "    os.mkdir(FRAMES_DIR)"
      ],
      "execution_count": null,
      "outputs": []
    },
    {
      "cell_type": "code",
      "metadata": {
        "id": "aOc-CA8ugAjm"
      },
      "source": [
        "def FrameCapture(path,filename): \n",
        "      \n",
        "    # Path to video file \n",
        "    vidObj = cv2.VideoCapture(path) \n",
        "    total_frames = int(vidObj.get(cv2.CAP_PROP_FRAME_COUNT))\n",
        "    print(\"Total Frame : %d\" % total_frames)\n",
        "    # Used as counter variable \n",
        "    count = 1\n",
        "  \n",
        "    # checks whether frames were extracted \n",
        "    #success = 1\n",
        "    pbar = tqdm(total = total_frames)\n",
        "    while count <= total_frames: \n",
        "\n",
        "        # vidObj object calls read \n",
        "        # function extract frames \n",
        "        success, image = vidObj.read() \n",
        "        if count % 360 == 0 or count == 1:\n",
        "            # Saves the frames with frame-count \n",
        "            file = (\"%s_frame%d.jpg\" % (filename, count))\n",
        "            #print(os.path.join(FRAMES_DIR,file))\n",
        "            cv2.imwrite(os.path.join(FRAMES_DIR,file), image) \n",
        "  \n",
        "        count += 1\n",
        "        pbar.update(1)\n",
        "    pbar.close()"
      ],
      "execution_count": null,
      "outputs": []
    },
    {
      "cell_type": "code",
      "metadata": {
        "scrolled": true,
        "id": "OF4xUpMEgAjm",
        "colab": {
          "referenced_widgets": [
            "591e84b2c2ba48fa9934d581de81e28a",
            "8a571aba98be4e6f8d8b5484ee37283f"
          ]
        },
        "outputId": "1852df7b-4f21-42ca-e742-c5a3a4f971a8"
      },
      "source": [
        "for i in PATH:\n",
        "#     if not os.path.isdir(FRAMES_DIR + '/' + i):\n",
        "#         os.mkdir(FRAMES_DIR + '/' + i)\n",
        "    for r, d, f in os.walk(i):\n",
        "        for x in f:\n",
        "            start_time = time.time()\n",
        "            filename, file_extension = os.path.splitext(x)\n",
        "            print(filename)\n",
        "            #os.mkdir(os.path.join(FRAMES_DIR,filename))\n",
        "            FrameCapture(os.path.join(r,x) , filename)\n",
        "            #vidlist.append(os.path.join(r,x))\n",
        "            print(\"--- %s seconds ---\" % (time.time() - start_time))\n",
        "    #FrameCapture(vidlist[4])"
      ],
      "execution_count": null,
      "outputs": [
        {
          "output_type": "stream",
          "text": [
            ".DS_Store\n",
            "Total Frame : 0\n"
          ],
          "name": "stdout"
        },
        {
          "output_type": "display_data",
          "data": {
            "application/vnd.jupyter.widget-view+json": {
              "model_id": "591e84b2c2ba48fa9934d581de81e28a",
              "version_major": 2,
              "version_minor": 0
            },
            "text/plain": [
              "HBox(children=(IntProgress(value=1, bar_style='info', max=1), HTML(value='')))"
            ]
          },
          "metadata": {
            "tags": []
          }
        },
        {
          "output_type": "stream",
          "text": [
            "\n",
            "--- 0.10282588005065918 seconds ---\n",
            "videoplayback\n",
            "Total Frame : 2047\n"
          ],
          "name": "stdout"
        },
        {
          "output_type": "display_data",
          "data": {
            "application/vnd.jupyter.widget-view+json": {
              "model_id": "8a571aba98be4e6f8d8b5484ee37283f",
              "version_major": 2,
              "version_minor": 0
            },
            "text/plain": [
              "HBox(children=(IntProgress(value=0, max=2047), HTML(value='')))"
            ]
          },
          "metadata": {
            "tags": []
          }
        },
        {
          "output_type": "stream",
          "text": [
            "\n",
            "--- 1.8323147296905518 seconds ---\n"
          ],
          "name": "stdout"
        }
      ]
    },
    {
      "cell_type": "code",
      "metadata": {
        "id": "NVN6nzpSgAjn"
      },
      "source": [
        ""
      ],
      "execution_count": null,
      "outputs": []
    },
    {
      "cell_type": "code",
      "metadata": {
        "id": "AmRy6wt7gAjo"
      },
      "source": [
        ""
      ],
      "execution_count": null,
      "outputs": []
    }
  ]
}