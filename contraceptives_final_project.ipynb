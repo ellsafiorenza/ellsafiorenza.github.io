{
  "nbformat": 4,
  "nbformat_minor": 0,
  "metadata": {
    "kernelspec": {
      "display_name": "Python 3",
      "language": "python",
      "name": "python3"
    },
    "language_info": {
      "codemirror_mode": {
        "name": "ipython",
        "version": 3
      },
      "file_extension": ".py",
      "mimetype": "text/x-python",
      "name": "python",
      "nbconvert_exporter": "python",
      "pygments_lexer": "ipython3",
      "version": "3.6.11"
    },
    "colab": {
      "name": "contraceptives-final-project.ipynb",
      "provenance": [],
      "include_colab_link": true
    }
  },
  "cells": [
    {
      "cell_type": "markdown",
      "metadata": {
        "id": "view-in-github",
        "colab_type": "text"
      },
      "source": [
        "<a href=\"https://colab.research.google.com/github/ellsafiorenza/ellsafiorenza.github.io/blob/main/contraceptives_final_project.ipynb\" target=\"_parent\"><img src=\"https://colab.research.google.com/assets/colab-badge.svg\" alt=\"Open In Colab\"/></a>"
      ]
    },
    {
      "cell_type": "code",
      "metadata": {
        "id": "7xaKuH8iLDiy",
        "colab": {
          "base_uri": "https://localhost:8080/",
          "height": 105
        },
        "outputId": "9dc62cd2-2476-461c-b120-0b0dfbc69e6e"
      },
      "source": [
        "# modules for research report\n",
        "from datascience import *\n",
        "import numpy as np\n",
        "import random\n",
        "%matplotlib inline\n",
        "import matplotlib.pyplot as plots\n",
        "plots.style.use('fivethirtyeight')\n",
        "\n",
        "# module for YouTube video\n",
        "from IPython.display import YouTubeVideo\n",
        "\n",
        "# okpy config\n",
        "from client.api.notebook import Notebook\n",
        "ok = Notebook('contraceptives-final-project.ok')\n",
        "_ = ok.auth(inline=True)"
      ],
      "execution_count": null,
      "outputs": [
        {
          "output_type": "stream",
          "text": [
            "/usr/local/lib/python3.6/dist-packages/datascience/tables.py:17: MatplotlibDeprecationWarning: The 'warn' parameter of use() is deprecated since Matplotlib 3.1 and will be removed in 3.3.  If any parameter follows 'warn', they should be pass as keyword, not positionally.\n",
            "  matplotlib.use('agg', warn=False)\n",
            "/usr/local/lib/python3.6/dist-packages/datascience/util.py:10: MatplotlibDeprecationWarning: The 'warn' parameter of use() is deprecated since Matplotlib 3.1 and will be removed in 3.3.  If any parameter follows 'warn', they should be pass as keyword, not positionally.\n",
            "  matplotlib.use('agg', warn=False)\n"
          ],
          "name": "stderr"
        }
      ]
    },
    {
      "cell_type": "markdown",
      "metadata": {
        "id": "3hziJg4ULDi3"
      },
      "source": [
        "# 1987 National Indonesia Contraceptive Prevalence Survey\n",
        "\n",
        "This dataset was retrieved from the [UCI Machine Learning Repository](https://archive.ics.uci.edu/ml/datasets/Contraceptive+Method+Choice).\n",
        "The data in this notebook is a subset from the original data, and has been cleaned for your convenience. A brief descriptive\n",
        "summary of the dataset is provided below. \n",
        "\n",
        "**NB: You may not copy any public analyses of this dataset. Doing so will result in a zero.**"
      ]
    },
    {
      "cell_type": "markdown",
      "metadata": {
        "id": "EIYwyE0-LDi4"
      },
      "source": [
        "## Summary\n",
        "\n",
        ">The National Indonesia Contraceptive Prevalence Survey (NICPS) collected data on fertility and family planning in 1987 to measure\n",
        "the effectiveness of Indonesia's National Family Planning Program with the ultimate goal of improving the program. This survey\n",
        "was additionally designed to simultaneously measure contraceptive prevalence and fertility and the factors that influence these\n",
        "outcomes, including education and the availability of contraceptives.\n",
        "\n",
        ">Women that were surveyed were married women between the ages of 15-49 that were either not pregnant or did not know they were at\n",
        "the time of the interview. 11,884 total women were interviewed, though only a random subset of 999 of these participants are\n",
        "included in this dataset.\n",
        "\n",
        ">More information about the program and the survey can be found in the \n",
        "[summary report](https://dhsprogram.com/pubs/pdf/SR9/SR9.pdf) and the\n",
        "[final report](https://dhsprogram.com/pubs/pdf/FR19/FR19.pdf)."
      ]
    },
    {
      "cell_type": "markdown",
      "metadata": {
        "id": "uO4fnpTILDi4"
      },
      "source": [
        "## Data Description\n",
        "\n",
        "This dataset consists of two tables:\n",
        "\n",
        "1. `participant` provides information on a participant’s demographics and contraceptive method choice.\n",
        "2. `family_background` contains information on a participant’s husband’s education and other demographics.\n",
        "\n",
        "A description of each table's variables is provided below:\n",
        "\n",
        "`participant`:\n",
        "* `Participant ID`: unique ID for each woman who participated\n",
        "* `Wife age`: age of participant (years)\n",
        "* `Wife education`: level of education (1=low, 2, 3, 4=high)\n",
        "* `Wife religion`: 0=Non-Islam, 1=Islam\n",
        "* `Wife working`: 0=Yes, 1=No\n",
        "* `Num children`: number of children ever born\n",
        "* `Contraceptive method`: participant’s choice of contraceptive method (0=no use of contraceptives, 1=use of contraceptives)\n",
        "\n",
        "`family_background`:\n",
        "* `Wife ID`: participant ID for each woman in the `participant` table\n",
        "* `Husband education`: level of husband’s education (1=low, 2, 3, 4=high)\n",
        "* `Husband occupation`: husband’s occupation based on predefined categories (1=professional, technical, or clerical work, 2=sales or services, 3=manual, 4=agriculture)\n",
        "* `Standard-of-living`: standard-of-living index (1=low, 2, 3, 4=high)\n",
        "* `Media exposure`: measures exposure and access to television, newspapers, radio, etc. (0=good, 1=not good)"
      ]
    },
    {
      "cell_type": "markdown",
      "metadata": {
        "id": "DO4-XTblLDi5"
      },
      "source": [
        "## Inspiration\n",
        "\n",
        "A variety of exploratory analyses, hypothesis tests, and predictions problems can be tackled with this data. Here are a few ideas to get\n",
        "you started:\n",
        "\n",
        "1. Is there an association between a family's standard of living and size?\n",
        "2. Is there a relationship between a mother's education level and her use of contraceptives? What about her religious beliefs?\n",
        "3. Can we predict whether a women uses contraceptive methods based on the characteristics of her family (e.g. standard of living, number of children, etc.)?\n",
        "\n",
        "Don't forget to review the [Final Project Guidelines](https://docs.google.com/document/d/1NuHDYTdWGwhPNRov8Y3I8y6R7Rbyf-WDOfQwovD-gmw/edit?usp=sharing) for a complete list of requirements."
      ]
    },
    {
      "cell_type": "markdown",
      "metadata": {
        "id": "Zy3rYb7LLDi6"
      },
      "source": [
        "## Preview"
      ]
    },
    {
      "cell_type": "code",
      "metadata": {
        "id": "fJflzQkSLDi6",
        "colab": {
          "base_uri": "https://localhost:8080/",
          "height": 392
        },
        "outputId": "fdf4af73-dba3-4b05-e741-8eeeb727b005"
      },
      "source": [
        "participant = Table.read_table('data/participant.csv')\n",
        "participant"
      ],
      "execution_count": null,
      "outputs": [
        {
          "output_type": "error",
          "ename": "FileNotFoundError",
          "evalue": "ignored",
          "traceback": [
            "\u001b[0;31m---------------------------------------------------------------------------\u001b[0m",
            "\u001b[0;31mFileNotFoundError\u001b[0m                         Traceback (most recent call last)",
            "\u001b[0;32m<ipython-input-2-cf28ddec7914>\u001b[0m in \u001b[0;36m<module>\u001b[0;34m()\u001b[0m\n\u001b[0;32m----> 1\u001b[0;31m \u001b[0mparticipant\u001b[0m \u001b[0;34m=\u001b[0m \u001b[0mTable\u001b[0m\u001b[0;34m.\u001b[0m\u001b[0mread_table\u001b[0m\u001b[0;34m(\u001b[0m\u001b[0;34m'data/participant.csv'\u001b[0m\u001b[0;34m)\u001b[0m\u001b[0;34m\u001b[0m\u001b[0;34m\u001b[0m\u001b[0m\n\u001b[0m\u001b[1;32m      2\u001b[0m \u001b[0mparticipant\u001b[0m\u001b[0;34m\u001b[0m\u001b[0;34m\u001b[0m\u001b[0m\n",
            "\u001b[0;32m/usr/local/lib/python3.6/dist-packages/datascience/tables.py\u001b[0m in \u001b[0;36mread_table\u001b[0;34m(cls, filepath_or_buffer, *args, **vargs)\u001b[0m\n\u001b[1;32m    130\u001b[0m         \u001b[0;32mexcept\u001b[0m \u001b[0mAttributeError\u001b[0m\u001b[0;34m:\u001b[0m\u001b[0;34m\u001b[0m\u001b[0;34m\u001b[0m\u001b[0m\n\u001b[1;32m    131\u001b[0m             \u001b[0;32mpass\u001b[0m\u001b[0;34m\u001b[0m\u001b[0;34m\u001b[0m\u001b[0m\n\u001b[0;32m--> 132\u001b[0;31m         \u001b[0mdf\u001b[0m \u001b[0;34m=\u001b[0m \u001b[0mpandas\u001b[0m\u001b[0;34m.\u001b[0m\u001b[0mread_table\u001b[0m\u001b[0;34m(\u001b[0m\u001b[0mfilepath_or_buffer\u001b[0m\u001b[0;34m,\u001b[0m \u001b[0;34m*\u001b[0m\u001b[0margs\u001b[0m\u001b[0;34m,\u001b[0m \u001b[0;34m**\u001b[0m\u001b[0mvargs\u001b[0m\u001b[0;34m)\u001b[0m\u001b[0;34m\u001b[0m\u001b[0;34m\u001b[0m\u001b[0m\n\u001b[0m\u001b[1;32m    133\u001b[0m         \u001b[0;32mreturn\u001b[0m \u001b[0mcls\u001b[0m\u001b[0;34m.\u001b[0m\u001b[0mfrom_df\u001b[0m\u001b[0;34m(\u001b[0m\u001b[0mdf\u001b[0m\u001b[0;34m)\u001b[0m\u001b[0;34m\u001b[0m\u001b[0;34m\u001b[0m\u001b[0m\n\u001b[1;32m    134\u001b[0m \u001b[0;34m\u001b[0m\u001b[0m\n",
            "\u001b[0;32m/usr/local/lib/python3.6/dist-packages/pandas/io/parsers.py\u001b[0m in \u001b[0;36mparser_f\u001b[0;34m(filepath_or_buffer, sep, delimiter, header, names, index_col, usecols, squeeze, prefix, mangle_dupe_cols, dtype, engine, converters, true_values, false_values, skipinitialspace, skiprows, skipfooter, nrows, na_values, keep_default_na, na_filter, verbose, skip_blank_lines, parse_dates, infer_datetime_format, keep_date_col, date_parser, dayfirst, cache_dates, iterator, chunksize, compression, thousands, decimal, lineterminator, quotechar, quoting, doublequote, escapechar, comment, encoding, dialect, error_bad_lines, warn_bad_lines, delim_whitespace, low_memory, memory_map, float_precision)\u001b[0m\n\u001b[1;32m    674\u001b[0m         )\n\u001b[1;32m    675\u001b[0m \u001b[0;34m\u001b[0m\u001b[0m\n\u001b[0;32m--> 676\u001b[0;31m         \u001b[0;32mreturn\u001b[0m \u001b[0m_read\u001b[0m\u001b[0;34m(\u001b[0m\u001b[0mfilepath_or_buffer\u001b[0m\u001b[0;34m,\u001b[0m \u001b[0mkwds\u001b[0m\u001b[0;34m)\u001b[0m\u001b[0;34m\u001b[0m\u001b[0;34m\u001b[0m\u001b[0m\n\u001b[0m\u001b[1;32m    677\u001b[0m \u001b[0;34m\u001b[0m\u001b[0m\n\u001b[1;32m    678\u001b[0m     \u001b[0mparser_f\u001b[0m\u001b[0;34m.\u001b[0m\u001b[0m__name__\u001b[0m \u001b[0;34m=\u001b[0m \u001b[0mname\u001b[0m\u001b[0;34m\u001b[0m\u001b[0;34m\u001b[0m\u001b[0m\n",
            "\u001b[0;32m/usr/local/lib/python3.6/dist-packages/pandas/io/parsers.py\u001b[0m in \u001b[0;36m_read\u001b[0;34m(filepath_or_buffer, kwds)\u001b[0m\n\u001b[1;32m    446\u001b[0m \u001b[0;34m\u001b[0m\u001b[0m\n\u001b[1;32m    447\u001b[0m     \u001b[0;31m# Create the parser.\u001b[0m\u001b[0;34m\u001b[0m\u001b[0;34m\u001b[0m\u001b[0;34m\u001b[0m\u001b[0m\n\u001b[0;32m--> 448\u001b[0;31m     \u001b[0mparser\u001b[0m \u001b[0;34m=\u001b[0m \u001b[0mTextFileReader\u001b[0m\u001b[0;34m(\u001b[0m\u001b[0mfp_or_buf\u001b[0m\u001b[0;34m,\u001b[0m \u001b[0;34m**\u001b[0m\u001b[0mkwds\u001b[0m\u001b[0;34m)\u001b[0m\u001b[0;34m\u001b[0m\u001b[0;34m\u001b[0m\u001b[0m\n\u001b[0m\u001b[1;32m    449\u001b[0m \u001b[0;34m\u001b[0m\u001b[0m\n\u001b[1;32m    450\u001b[0m     \u001b[0;32mif\u001b[0m \u001b[0mchunksize\u001b[0m \u001b[0;32mor\u001b[0m \u001b[0miterator\u001b[0m\u001b[0;34m:\u001b[0m\u001b[0;34m\u001b[0m\u001b[0;34m\u001b[0m\u001b[0m\n",
            "\u001b[0;32m/usr/local/lib/python3.6/dist-packages/pandas/io/parsers.py\u001b[0m in \u001b[0;36m__init__\u001b[0;34m(self, f, engine, **kwds)\u001b[0m\n\u001b[1;32m    878\u001b[0m             \u001b[0mself\u001b[0m\u001b[0;34m.\u001b[0m\u001b[0moptions\u001b[0m\u001b[0;34m[\u001b[0m\u001b[0;34m\"has_index_names\"\u001b[0m\u001b[0;34m]\u001b[0m \u001b[0;34m=\u001b[0m \u001b[0mkwds\u001b[0m\u001b[0;34m[\u001b[0m\u001b[0;34m\"has_index_names\"\u001b[0m\u001b[0;34m]\u001b[0m\u001b[0;34m\u001b[0m\u001b[0;34m\u001b[0m\u001b[0m\n\u001b[1;32m    879\u001b[0m \u001b[0;34m\u001b[0m\u001b[0m\n\u001b[0;32m--> 880\u001b[0;31m         \u001b[0mself\u001b[0m\u001b[0;34m.\u001b[0m\u001b[0m_make_engine\u001b[0m\u001b[0;34m(\u001b[0m\u001b[0mself\u001b[0m\u001b[0;34m.\u001b[0m\u001b[0mengine\u001b[0m\u001b[0;34m)\u001b[0m\u001b[0;34m\u001b[0m\u001b[0;34m\u001b[0m\u001b[0m\n\u001b[0m\u001b[1;32m    881\u001b[0m \u001b[0;34m\u001b[0m\u001b[0m\n\u001b[1;32m    882\u001b[0m     \u001b[0;32mdef\u001b[0m \u001b[0mclose\u001b[0m\u001b[0;34m(\u001b[0m\u001b[0mself\u001b[0m\u001b[0;34m)\u001b[0m\u001b[0;34m:\u001b[0m\u001b[0;34m\u001b[0m\u001b[0;34m\u001b[0m\u001b[0m\n",
            "\u001b[0;32m/usr/local/lib/python3.6/dist-packages/pandas/io/parsers.py\u001b[0m in \u001b[0;36m_make_engine\u001b[0;34m(self, engine)\u001b[0m\n\u001b[1;32m   1112\u001b[0m     \u001b[0;32mdef\u001b[0m \u001b[0m_make_engine\u001b[0m\u001b[0;34m(\u001b[0m\u001b[0mself\u001b[0m\u001b[0;34m,\u001b[0m \u001b[0mengine\u001b[0m\u001b[0;34m=\u001b[0m\u001b[0;34m\"c\"\u001b[0m\u001b[0;34m)\u001b[0m\u001b[0;34m:\u001b[0m\u001b[0;34m\u001b[0m\u001b[0;34m\u001b[0m\u001b[0m\n\u001b[1;32m   1113\u001b[0m         \u001b[0;32mif\u001b[0m \u001b[0mengine\u001b[0m \u001b[0;34m==\u001b[0m \u001b[0;34m\"c\"\u001b[0m\u001b[0;34m:\u001b[0m\u001b[0;34m\u001b[0m\u001b[0;34m\u001b[0m\u001b[0m\n\u001b[0;32m-> 1114\u001b[0;31m             \u001b[0mself\u001b[0m\u001b[0;34m.\u001b[0m\u001b[0m_engine\u001b[0m \u001b[0;34m=\u001b[0m \u001b[0mCParserWrapper\u001b[0m\u001b[0;34m(\u001b[0m\u001b[0mself\u001b[0m\u001b[0;34m.\u001b[0m\u001b[0mf\u001b[0m\u001b[0;34m,\u001b[0m \u001b[0;34m**\u001b[0m\u001b[0mself\u001b[0m\u001b[0;34m.\u001b[0m\u001b[0moptions\u001b[0m\u001b[0;34m)\u001b[0m\u001b[0;34m\u001b[0m\u001b[0;34m\u001b[0m\u001b[0m\n\u001b[0m\u001b[1;32m   1115\u001b[0m         \u001b[0;32melse\u001b[0m\u001b[0;34m:\u001b[0m\u001b[0;34m\u001b[0m\u001b[0;34m\u001b[0m\u001b[0m\n\u001b[1;32m   1116\u001b[0m             \u001b[0;32mif\u001b[0m \u001b[0mengine\u001b[0m \u001b[0;34m==\u001b[0m \u001b[0;34m\"python\"\u001b[0m\u001b[0;34m:\u001b[0m\u001b[0;34m\u001b[0m\u001b[0;34m\u001b[0m\u001b[0m\n",
            "\u001b[0;32m/usr/local/lib/python3.6/dist-packages/pandas/io/parsers.py\u001b[0m in \u001b[0;36m__init__\u001b[0;34m(self, src, **kwds)\u001b[0m\n\u001b[1;32m   1889\u001b[0m         \u001b[0mkwds\u001b[0m\u001b[0;34m[\u001b[0m\u001b[0;34m\"usecols\"\u001b[0m\u001b[0;34m]\u001b[0m \u001b[0;34m=\u001b[0m \u001b[0mself\u001b[0m\u001b[0;34m.\u001b[0m\u001b[0musecols\u001b[0m\u001b[0;34m\u001b[0m\u001b[0;34m\u001b[0m\u001b[0m\n\u001b[1;32m   1890\u001b[0m \u001b[0;34m\u001b[0m\u001b[0m\n\u001b[0;32m-> 1891\u001b[0;31m         \u001b[0mself\u001b[0m\u001b[0;34m.\u001b[0m\u001b[0m_reader\u001b[0m \u001b[0;34m=\u001b[0m \u001b[0mparsers\u001b[0m\u001b[0;34m.\u001b[0m\u001b[0mTextReader\u001b[0m\u001b[0;34m(\u001b[0m\u001b[0msrc\u001b[0m\u001b[0;34m,\u001b[0m \u001b[0;34m**\u001b[0m\u001b[0mkwds\u001b[0m\u001b[0;34m)\u001b[0m\u001b[0;34m\u001b[0m\u001b[0;34m\u001b[0m\u001b[0m\n\u001b[0m\u001b[1;32m   1892\u001b[0m         \u001b[0mself\u001b[0m\u001b[0;34m.\u001b[0m\u001b[0munnamed_cols\u001b[0m \u001b[0;34m=\u001b[0m \u001b[0mself\u001b[0m\u001b[0;34m.\u001b[0m\u001b[0m_reader\u001b[0m\u001b[0;34m.\u001b[0m\u001b[0munnamed_cols\u001b[0m\u001b[0;34m\u001b[0m\u001b[0;34m\u001b[0m\u001b[0m\n\u001b[1;32m   1893\u001b[0m \u001b[0;34m\u001b[0m\u001b[0m\n",
            "\u001b[0;32mpandas/_libs/parsers.pyx\u001b[0m in \u001b[0;36mpandas._libs.parsers.TextReader.__cinit__\u001b[0;34m()\u001b[0m\n",
            "\u001b[0;32mpandas/_libs/parsers.pyx\u001b[0m in \u001b[0;36mpandas._libs.parsers.TextReader._setup_parser_source\u001b[0;34m()\u001b[0m\n",
            "\u001b[0;31mFileNotFoundError\u001b[0m: [Errno 2] File data/participant.csv does not exist: 'data/participant.csv'"
          ]
        }
      ]
    },
    {
      "cell_type": "code",
      "metadata": {
        "id": "IK-V8-2ULDi-",
        "outputId": "c2aa4b68-d374-4c03-f31c-a752ae459f59"
      },
      "source": [
        "family_background = Table.read_table('data/family_background.csv')\n",
        "family_background"
      ],
      "execution_count": null,
      "outputs": [
        {
          "output_type": "execute_result",
          "data": {
            "text/html": [
              "<table border=\"1\" class=\"dataframe\">\n",
              "    <thead>\n",
              "        <tr>\n",
              "            <th>Wife ID</th> <th> Husband education</th> <th> Husband occupation</th> <th> Standard-of-living</th> <th> Media exposure</th>\n",
              "        </tr>\n",
              "    </thead>\n",
              "    <tbody>\n",
              "        <tr>\n",
              "            <td>24845  </td> <td>4                 </td> <td>1                  </td> <td>1                  </td> <td>0              </td>\n",
              "        </tr>\n",
              "        <tr>\n",
              "            <td>29034  </td> <td>4                 </td> <td>1                  </td> <td>3                  </td> <td>0              </td>\n",
              "        </tr>\n",
              "        <tr>\n",
              "            <td>27904  </td> <td>4                 </td> <td>2                  </td> <td>4                  </td> <td>0              </td>\n",
              "        </tr>\n",
              "        <tr>\n",
              "            <td>20846  </td> <td>4                 </td> <td>2                  </td> <td>4                  </td> <td>0              </td>\n",
              "        </tr>\n",
              "        <tr>\n",
              "            <td>19528  </td> <td>4                 </td> <td>1                  </td> <td>4                  </td> <td>0              </td>\n",
              "        </tr>\n",
              "        <tr>\n",
              "            <td>11649  </td> <td>3                 </td> <td>3                  </td> <td>3                  </td> <td>0              </td>\n",
              "        </tr>\n",
              "        <tr>\n",
              "            <td>24963  </td> <td>4                 </td> <td>1                  </td> <td>4                  </td> <td>0              </td>\n",
              "        </tr>\n",
              "        <tr>\n",
              "            <td>13142  </td> <td>3                 </td> <td>2                  </td> <td>1                  </td> <td>0              </td>\n",
              "        </tr>\n",
              "        <tr>\n",
              "            <td>28202  </td> <td>4                 </td> <td>1                  </td> <td>4                  </td> <td>0              </td>\n",
              "        </tr>\n",
              "        <tr>\n",
              "            <td>16355  </td> <td>4                 </td> <td>1                  </td> <td>4                  </td> <td>0              </td>\n",
              "        </tr>\n",
              "    </tbody>\n",
              "</table>\n",
              "<p>... (989 rows omitted)</p>"
            ],
            "text/plain": [
              "Wife ID |  Husband education |  Husband occupation |  Standard-of-living |  Media exposure\n",
              "24845   | 4                  | 1                   | 1                   | 0\n",
              "29034   | 4                  | 1                   | 3                   | 0\n",
              "27904   | 4                  | 2                   | 4                   | 0\n",
              "20846   | 4                  | 2                   | 4                   | 0\n",
              "19528   | 4                  | 1                   | 4                   | 0\n",
              "11649   | 3                  | 3                   | 3                   | 0\n",
              "24963   | 4                  | 1                   | 4                   | 0\n",
              "13142   | 3                  | 2                   | 1                   | 0\n",
              "28202   | 4                  | 1                   | 4                   | 0\n",
              "16355   | 4                  | 1                   | 4                   | 0\n",
              "... (989 rows omitted)"
            ]
          },
          "metadata": {
            "tags": []
          },
          "execution_count": 3
        }
      ]
    },
    {
      "cell_type": "markdown",
      "metadata": {
        "id": "Z3wDdcA0LDjC"
      },
      "source": [
        "<br>\n",
        "\n",
        "# Research Report"
      ]
    },
    {
      "cell_type": "markdown",
      "metadata": {
        "id": "60uDpL2uLDjD"
      },
      "source": [
        "## Introduction\n",
        "\n",
        "The 1987 National Indonesia Contraceptive Prevalence Survey is a sample data produced by The Institute for Resource Development/Westinghouse to provide data on family planning and fertility behaviour, as well as to measure changes in fertility and contraceptive prevalence rates. \n",
        "\n",
        "This dataset includes the demographics on a random sample of 999 married Indonesian women between the ages of 15 to 49. This dataset is divided into two tables: the `participant` table and the `family_background` table. Each row in the `family_background` table corresponds to the participant's husband's background information for each woman in the `participant` table.\n",
        "\n",
        "The `participant` table provides information on a participant's demographics and their choice of contraceptive method. It contains variables detailing each participants' demographic characteristics, including their age, education level, religion, and employment status. In particular, it also includes the number of children ever born in that family, as well as their choice of contraceptive method.\n",
        "\n",
        "The other table contained in this dataset, `family_background`, contains information on a participant's husband's education and other demographics. In particular, it provides the standard-of-living index (1 = low, 2, 3, 4 = high), as well as the media exposure index (0 = good, 1 = not good) which measures exposure and access to television, newspapers, radio, etc.  \n",
        "\n",
        "Upon completing this project, we are going to use most variables listed in the `participant` table and only omitting the 'Wife working' and 'Contraceptive choice' variables. However, as for the `family_background` table, we will only be using the 'Husband education' variable, and omit the others."
      ]
    },
    {
      "cell_type": "markdown",
      "metadata": {
        "id": "fj-7a1WOLDjE"
      },
      "source": [
        "## Hypothesis Testing and Prediction Questions\n",
        "\n",
        "As the world's most populous Muslim country, where using any birth control is prohibited by the Islamic Law, studying the relationship between religious beliefs and the number of children has piqued our interest. In particular, it includes identifying other factors that may be associated with the number of outcomes of children in a family. This includes determining if **there is a correlation between the wife's age with the number of children** as well as if **there is a correlation between the wife's educational background and the husband's educational background**. \n",
        "\n",
        "For the Hypothesis Testing, our hypotheses are: \n",
        "1. **Null Hypothesis:** In the population, the distribution of the number of children in a family is the same for mothers who are Muslim and for mothers who are not. The difference in the sample is due to chance.\n",
        "2. **Alternative Hypothesis:** In the population, the mothers who are Muslim have more children, on average, than the mothers who are not."
      ]
    },
    {
      "cell_type": "markdown",
      "metadata": {
        "id": "dS695DsyLDjF"
      },
      "source": [
        "## Exploratory Data Analysis\n",
        "\n",
        "**You may change the order of the plots and tables.**"
      ]
    },
    {
      "cell_type": "markdown",
      "metadata": {
        "id": "0nFmItiTLDjF"
      },
      "source": [
        "**Table Requiring a Join Operation:**"
      ]
    },
    {
      "cell_type": "markdown",
      "metadata": {
        "id": "wk7tMjIwLDjG"
      },
      "source": [
        "First, we combine the two datasets, `participant` and `family_background`, into a table called `participant_family`. Since we are only looking at the factors that may be associated to the number of children in a family, we are not going to include the data of families without any children in our `participant_family` table."
      ]
    },
    {
      "cell_type": "code",
      "metadata": {
        "id": "13BRqwk_LDjG",
        "outputId": "daf4e599-f44e-4e5d-d4b4-1212f1a99805"
      },
      "source": [
        "# Use this cell to join two datasets\n",
        "# join the two datasets\n",
        "participant_family = participant.join('Participant ID', family_background, 'Wife ID')\n",
        "\n",
        "# create a new table containing the infromation needed\n",
        "participant_family = participant_family.where(' Num children', are.above(0))\n",
        "participant_family.show(5)"
      ],
      "execution_count": null,
      "outputs": [
        {
          "output_type": "display_data",
          "data": {
            "text/html": [
              "<table border=\"1\" class=\"dataframe\">\n",
              "    <thead>\n",
              "        <tr>\n",
              "            <th>Participant ID</th> <th>Wife age</th> <th> Wife education</th> <th> Num children</th> <th> Wife religion</th> <th> Wife working</th> <th>Contraceptive method</th> <th> Husband education</th> <th> Husband occupation</th> <th> Standard-of-living</th> <th> Media exposure</th>\n",
              "        </tr>\n",
              "    </thead>\n",
              "    <tbody>\n",
              "        <tr>\n",
              "            <td>10004         </td> <td>25      </td> <td>2              </td> <td>2            </td> <td>1             </td> <td>1            </td> <td>1                   </td> <td>3                 </td> <td>2                  </td> <td>4                  </td> <td>0              </td>\n",
              "        </tr>\n",
              "        <tr>\n",
              "            <td>10011         </td> <td>44      </td> <td>3              </td> <td>2            </td> <td>1             </td> <td>1            </td> <td>0                   </td> <td>4                 </td> <td>1                  </td> <td>4                  </td> <td>1              </td>\n",
              "        </tr>\n",
              "        <tr>\n",
              "            <td>10020         </td> <td>21      </td> <td>3              </td> <td>1            </td> <td>1             </td> <td>0            </td> <td>0                   </td> <td>3                 </td> <td>3                  </td> <td>2                  </td> <td>0              </td>\n",
              "        </tr>\n",
              "        <tr>\n",
              "            <td>10042         </td> <td>22      </td> <td>3              </td> <td>1            </td> <td>1             </td> <td>1            </td> <td>1                   </td> <td>4                 </td> <td>3                  </td> <td>3                  </td> <td>0              </td>\n",
              "        </tr>\n",
              "        <tr>\n",
              "            <td>10052         </td> <td>21      </td> <td>2              </td> <td>3            </td> <td>1             </td> <td>0            </td> <td>1                   </td> <td>1                 </td> <td>3                  </td> <td>1                  </td> <td>1              </td>\n",
              "        </tr>\n",
              "    </tbody>\n",
              "</table>\n",
              "<p>... (931 rows omitted)</p>"
            ],
            "text/plain": [
              "<IPython.core.display.HTML object>"
            ]
          },
          "metadata": {
            "tags": []
          }
        }
      ]
    },
    {
      "cell_type": "markdown",
      "metadata": {
        "id": "kUKLawkqLDjJ"
      },
      "source": [
        "**Aggregated Data Table:**"
      ]
    },
    {
      "cell_type": "markdown",
      "metadata": {
        "id": "o92OinUzLDjK"
      },
      "source": [
        "Next, we will create two new tables called `husband_and_children_mean` and `wife_and_children_mean`. The `husband_and_children_mean` table only includes the columns, `Husband education` and the mean of `Num children` from the previously defined `participant_family` table. The same goes for the `wife_and_children_mean` table, but instead of including the Husband education, we will be using the `Wife education` column instead. "
      ]
    },
    {
      "cell_type": "code",
      "metadata": {
        "id": "dZq2MkIDLDjL",
        "outputId": "acb53dbf-4dd6-4b6e-fcec-da7ba374ecf6"
      },
      "source": [
        "# Use this cell to generate your aggregated data table\n",
        "husband_and_children = participant_family.select(3, 7)\n",
        "wife_and_children = participant_family.select(3, 2)\n",
        "\n",
        "# apply the group function to the two tables\n",
        "husband_and_children_mean = husband_and_children.group(' Husband education', np.mean)\n",
        "husband_and_children_mean.show(5)\n",
        "wife_and_children_mean = participant_family.select(3, 2).group(' Wife education', np.mean)\n",
        "wife_and_children_mean.show(5)"
      ],
      "execution_count": null,
      "outputs": [
        {
          "output_type": "display_data",
          "data": {
            "text/html": [
              "<table border=\"1\" class=\"dataframe\">\n",
              "    <thead>\n",
              "        <tr>\n",
              "            <th> Husband education</th> <th> Num children mean</th>\n",
              "        </tr>\n",
              "    </thead>\n",
              "    <tbody>\n",
              "        <tr>\n",
              "            <td>1                 </td> <td>5.15385           </td>\n",
              "        </tr>\n",
              "        <tr>\n",
              "            <td>2                 </td> <td>3.91509           </td>\n",
              "        </tr>\n",
              "        <tr>\n",
              "            <td>3                 </td> <td>3.65254           </td>\n",
              "        </tr>\n",
              "        <tr>\n",
              "            <td>4                 </td> <td>3.18662           </td>\n",
              "        </tr>\n",
              "    </tbody>\n",
              "</table>"
            ],
            "text/plain": [
              "<IPython.core.display.HTML object>"
            ]
          },
          "metadata": {
            "tags": []
          }
        },
        {
          "output_type": "display_data",
          "data": {
            "text/html": [
              "<table border=\"1\" class=\"dataframe\">\n",
              "    <thead>\n",
              "        <tr>\n",
              "            <th> Wife education</th> <th> Num children mean</th>\n",
              "        </tr>\n",
              "    </thead>\n",
              "    <tbody>\n",
              "        <tr>\n",
              "            <td>1              </td> <td>4.64516           </td>\n",
              "        </tr>\n",
              "        <tr>\n",
              "            <td>2              </td> <td>3.47442           </td>\n",
              "        </tr>\n",
              "        <tr>\n",
              "            <td>3              </td> <td>3.5               </td>\n",
              "        </tr>\n",
              "        <tr>\n",
              "            <td>4              </td> <td>3.07838           </td>\n",
              "        </tr>\n",
              "    </tbody>\n",
              "</table>"
            ],
            "text/plain": [
              "<IPython.core.display.HTML object>"
            ]
          },
          "metadata": {
            "tags": []
          }
        }
      ]
    },
    {
      "cell_type": "markdown",
      "metadata": {
        "id": "65Da1kI4LDjP"
      },
      "source": [
        "**Qualitative Plot:**"
      ]
    },
    {
      "cell_type": "markdown",
      "metadata": {
        "id": "jpQsnEJOLDjR"
      },
      "source": [
        "As we work on answering one of our prediction questions: **'Does the parents' educational background has anything to do with their number of children?'**, we decided to plot a bar graph to illustrate the relationship between both parents' educational background with their number of children."
      ]
    },
    {
      "cell_type": "code",
      "metadata": {
        "id": "gTbEX2gyLDjR",
        "outputId": "cf1ed5f9-08af-4087-e09a-cfc27c90d70c"
      },
      "source": [
        "# Use this cell to generate your quantitative plot\n",
        "# draw a bar graph for the 'husband_and_children' table\n",
        "husband_and_children_mean.barh(' Husband education', ' Num children mean')\n",
        "plots.title('Num children vs. Husband educational')\n",
        "\n",
        "# draw a bar graph for the 'wife_and_children' table\n",
        "wife_and_children_mean.barh(' Wife education', ' Num children mean')\n",
        "plots.title('Num children vs. Wife educational')"
      ],
      "execution_count": null,
      "outputs": [
        {
          "output_type": "execute_result",
          "data": {
            "text/plain": [
              "Text(0.5, 1.0, 'Num children vs. Wife educational')"
            ]
          },
          "metadata": {
            "tags": []
          },
          "execution_count": 6
        },
        {
          "output_type": "display_data",
          "data": {
            "image/png": "[encoded data removed]",
            "text/plain": [
              "<Figure size 432x288 with 1 Axes>"
            ]
          },
          "metadata": {
            "tags": []
          }
        },
        {
          "output_type": "display_data",
          "data": {
            "image/png": "[encoded data removed]",
            "text/plain": [
              "<Figure size 432x288 with 1 Axes>"
            ]
          },
          "metadata": {
            "tags": []
          }
        }
      ]
    },
    {
      "cell_type": "markdown",
      "metadata": {
        "id": "qZwgafEuLDjX"
      },
      "source": [
        "The bar graphs above suggest that the less educated a parent is, the more likely that the family will have more children. That is, there is a negative correlation between parents' education level and their number of children."
      ]
    },
    {
      "cell_type": "markdown",
      "metadata": {
        "id": "1w1cE4xtLDjY"
      },
      "source": [
        "**Quantitative Plot:**"
      ]
    },
    {
      "cell_type": "markdown",
      "metadata": {
        "id": "DWRie9BNLDjY"
      },
      "source": [
        "Next, we explore the data related to our next prediction problem: **'Is there a correlation between the wife's age and the number of children?'**. We, therefore, create a scatter plot to illustrate the relationship between the `Wife age` and `Num children`."
      ]
    },
    {
      "cell_type": "code",
      "metadata": {
        "id": "AijhV5R-LDje",
        "outputId": "509824bc-c63b-4e90-feaa-012c8db934b3"
      },
      "source": [
        "# Use this cell to generate your qualitative plot\n",
        "participant_family.scatter('Wife age', ' Num children', fit_line=True)\n",
        "plots.title('Relationship between Wife age and Num children')"
      ],
      "execution_count": null,
      "outputs": [
        {
          "output_type": "execute_result",
          "data": {
            "text/plain": [
              "Text(0.5, 1.0, 'Relationship between Wife age and Num children')"
            ]
          },
          "metadata": {
            "tags": []
          },
          "execution_count": 7
        },
        {
          "output_type": "display_data",
          "data": {
            "image/png": "[encoded data removed]",
            "text/plain": [
              "<Figure size 360x360 with 1 Axes>"
            ]
          },
          "metadata": {
            "tags": []
          }
        }
      ]
    },
    {
      "cell_type": "markdown",
      "metadata": {
        "id": "7wqvOCblLDjj"
      },
      "source": [
        "Based on the visualisation above, we can see that there is a positive correlation between the wife's age and the number of children. The distribution is, however, denser at the bottom part of the plot. It means that although the total children increase as the mother's age increases, there are still some family who have fewer children."
      ]
    },
    {
      "cell_type": "markdown",
      "metadata": {
        "id": "G1IJ4Tz6LDjk"
      },
      "source": [
        "## Hypothesis Testing\n",
        "\n",
        "**Do not copy code from demo notebooks or homeworks! You may split portions of your code into distinct cells. Also, be sure to\n",
        "set a random seed so that your results are reproducible.**"
      ]
    },
    {
      "cell_type": "markdown",
      "metadata": {
        "id": "IhVWl-n5LDjl"
      },
      "source": [
        "In this section, we will try to answer the question: **'Does the mother's religious belief affect the number of children?'**, basing our conclusions on random samples and empirical distribution. The null hypothesis is that **the distribution of the number of children in a family is the same for mothers who are and are not Muslim, and any difference in the sample is due to chance.** While our alternative hypothesis is that **the mothers who are Muslim have more children, on average, than the mothers who are not.**\n",
        "\n",
        "To do so, we will perform an A/B Testing procedure under a P-value cutoff of 5%. It involves comparing the variables against each other to determine if there is a statistically significant relationship or not. "
      ]
    },
    {
      "cell_type": "code",
      "metadata": {
        "id": "NxgnaxqdLDjl",
        "outputId": "6cf3ad78-cdf7-4bd3-c813-c5bd0f588b4a"
      },
      "source": [
        "# apply the group method to analyze the number of children in each family regarding the mother's religious belief\n",
        "religion_and_children = participant_family.select(' Wife religion', ' Num children')\n",
        "religion_and_children.group(' Wife religion')"
      ],
      "execution_count": null,
      "outputs": [
        {
          "output_type": "execute_result",
          "data": {
            "text/html": [
              "<table border=\"1\" class=\"dataframe\">\n",
              "    <thead>\n",
              "        <tr>\n",
              "            <th> Wife religion</th> <th>count</th>\n",
              "        </tr>\n",
              "    </thead>\n",
              "    <tbody>\n",
              "        <tr>\n",
              "            <td>0             </td> <td>135  </td>\n",
              "        </tr>\n",
              "        <tr>\n",
              "            <td>1             </td> <td>801  </td>\n",
              "        </tr>\n",
              "    </tbody>\n",
              "</table>"
            ],
            "text/plain": [
              " Wife religion | count\n",
              "0              | 135\n",
              "1              | 801"
            ]
          },
          "metadata": {
            "tags": []
          },
          "execution_count": 8
        }
      ]
    },
    {
      "cell_type": "code",
      "metadata": {
        "id": "sfhnljn8LDjp",
        "outputId": "999bb8a6-188f-48bc-a67d-9c7426360aac"
      },
      "source": [
        "# calculate the percentage of Muslim women in our dataset\n",
        "muslim_women_count = religion_and_children.group(' Wife religion')\n",
        "muslim_women_percentage = muslim_women_count.column('count').item(1) / np.sum(muslim_women_count.column('count')) * 100\n",
        "muslim_women_percentage"
      ],
      "execution_count": null,
      "outputs": [
        {
          "output_type": "execute_result",
          "data": {
            "text/plain": [
              "85.57692307692307"
            ]
          },
          "metadata": {
            "tags": []
          },
          "execution_count": 9
        }
      ]
    },
    {
      "cell_type": "markdown",
      "metadata": {
        "id": "VcP-ZX9KLDjv"
      },
      "source": [
        "With an 85.58 to 14.42 ratio, we can say that the total number of Muslim mothers is much higher than the number of non-Muslim mothers."
      ]
    },
    {
      "cell_type": "code",
      "metadata": {
        "id": "cT-5VNw3LDjx",
        "outputId": "e14b784d-2ce7-4374-a955-9f9b4ee95227"
      },
      "source": [
        "# compare the distribution of the total number of children for Muslim and non-Muslim mothers\n",
        "religion_and_children.hist(' Num children', group=' Wife religion')\n",
        "plots.title('Wife religion vs Num children')"
      ],
      "execution_count": null,
      "outputs": [
        {
          "output_type": "stream",
          "text": [
            "/opt/conda/lib/python3.6/site-packages/datascience/tables.py:496: VisibleDeprecationWarning: Creating an ndarray from ragged nested sequences (which is a list-or-tuple of lists-or-tuples-or ndarrays with different lengths or shapes) is deprecated. If you meant to do this, you must specify 'dtype=object' when creating the ndarray\n",
            "  values = np.array(tuple(values))\n",
            "/opt/conda/lib/python3.6/site-packages/numpy/core/_asarray.py:83: VisibleDeprecationWarning: Creating an ndarray from ragged nested sequences (which is a list-or-tuple of lists-or-tuples-or ndarrays with different lengths or shapes) is deprecated. If you meant to do this, you must specify 'dtype=object' when creating the ndarray\n",
            "  return array(a, dtype, copy=False, order=order)\n"
          ],
          "name": "stderr"
        },
        {
          "output_type": "execute_result",
          "data": {
            "text/plain": [
              "Text(0.5, 1.0, 'Wife religion vs Num children')"
            ]
          },
          "metadata": {
            "tags": []
          },
          "execution_count": 10
        },
        {
          "output_type": "display_data",
          "data": {
            "image/png": "[encoded data removed]",
            "text/plain": [
              "<Figure size 432x288 with 1 Axes>"
            ]
          },
          "metadata": {
            "tags": []
          }
        }
      ]
    },
    {
      "cell_type": "markdown",
      "metadata": {
        "id": "WMZm7TgVLDj1"
      },
      "source": [
        "From the distribution above, Muslim mothers have slightly more children than non-Muslim mothers. This raises the question of whether Muslim mothers have more children than non-Muslim mothers. Could this happen due to chance?"
      ]
    },
    {
      "cell_type": "code",
      "metadata": {
        "id": "rtp-y15hLDj2",
        "outputId": "f7353ff8-3c99-481f-d759-78c5687e5048"
      },
      "source": [
        "# find the difference of the mean number of children between the two groups\n",
        "def diff_means(tbl, label, group_label):\n",
        "    reduced = tbl.select(label, group_label)\n",
        "    means_table = reduced.group(group_label, np.average)\n",
        "    means = means_table.column(1)\n",
        "    return means.item(1) - means.item(0)\n",
        "\n",
        "observed_diff = diff_means(religion_and_children, ' Num children', ' Wife religion')\n",
        "observed_diff"
      ],
      "execution_count": null,
      "outputs": [
        {
          "output_type": "execute_result",
          "data": {
            "text/plain": [
              "0.3857677902621721"
            ]
          },
          "metadata": {
            "tags": []
          },
          "execution_count": 11
        }
      ]
    },
    {
      "cell_type": "markdown",
      "metadata": {
        "id": "yUe_YwqDLDj5"
      },
      "source": [
        "The observed_diff of 0.39 indicates the difference between the average of the total child for Muslim mothers and non-Muslim mothers. This is the observed value of our test statistic."
      ]
    },
    {
      "cell_type": "code",
      "metadata": {
        "id": "dMkArN6DLDj6"
      },
      "source": [
        "# implement the test\n",
        "# set the random seed so that results are reproducible\n",
        "np.random.seed(2)\n",
        "\n",
        "# define the functions needed to generate the mean number of children from the sample \n",
        "def simulate_one_diff(tbl, label, group_label):\n",
        "    \"\"\"Take a table tbl and return the mean difference for muslim and non-muslim mothers.\"\"\"\n",
        "    shuffled_labels = tbl.sample(with_replacement = False).column(group_label)\n",
        "    shuffled_table = tbl.select(label).with_column('Shuffled', shuffled_labels)\n",
        "    return diff_means(shuffled_table, label, 'Shuffled')   \n",
        "\n",
        "# permulation test\n",
        "differences = make_array()\n",
        "for i in np.arange(5000):\n",
        "    one_diff = simulate_one_diff(participant_family,' Num children',' Wife religion')\n",
        "    differences = np.append(differences, one_diff)"
      ],
      "execution_count": null,
      "outputs": []
    },
    {
      "cell_type": "code",
      "metadata": {
        "id": "2NxZizeXLDj8",
        "outputId": "eab24f41-1396-4529-bc2a-19bf75fd70c9"
      },
      "source": [
        "# interpret the results\n",
        "# plot a histogram from the differences array\n",
        "Table().with_column('Difference Between Group Means', differences).hist()\n",
        "plots.scatter(observed_diff, 0, color='red', s=40)\n",
        "plots.title('Prediction Under Null Hypothesis')\n",
        "\n",
        "# print out the observed_diff \n",
        "print('Observed Difference:', observed_diff)"
      ],
      "execution_count": null,
      "outputs": [
        {
          "output_type": "stream",
          "text": [
            "Observed Difference: 0.3857677902621721\n"
          ],
          "name": "stdout"
        },
        {
          "output_type": "display_data",
          "data": {
            "image/png": "[encoded data removed]",
            "text/plain": [
              "<Figure size 432x288 with 1 Axes>"
            ]
          },
          "metadata": {
            "tags": []
          }
        }
      ]
    },
    {
      "cell_type": "markdown",
      "metadata": {
        "id": "eEnVg42cLDkA"
      },
      "source": [
        "Looking at how our histogram is centred around 0, our null hypothesis makes sense in a way where the mean difference of the number of children is about the same for both Muslim and non-Muslim mothers. Moreover, an observed difference of 0.39 resonates well with the distribution of the null hypothesis."
      ]
    },
    {
      "cell_type": "code",
      "metadata": {
        "id": "RC5v--YpLDkB",
        "outputId": "decfea5e-9f75-4671-d27c-b02596b64173"
      },
      "source": [
        "# determine the p-value\n",
        "p_value = np.mean(differences >= observed_diff)\n",
        "p_value"
      ],
      "execution_count": null,
      "outputs": [
        {
          "output_type": "execute_result",
          "data": {
            "text/plain": [
              "0.0306"
            ]
          },
          "metadata": {
            "tags": []
          },
          "execution_count": 14
        }
      ]
    },
    {
      "cell_type": "markdown",
      "metadata": {
        "id": "SvvyouIOLDkF"
      },
      "source": [
        "Since the P_value is around 3%, the result is, therefore, statiscally significant. Hence, we accept the alternative hypothesis that on average, Muslim mothers have more children than non-Muslim mothers."
      ]
    },
    {
      "cell_type": "markdown",
      "metadata": {
        "id": "HmHjDWSFLDkG"
      },
      "source": [
        "## Prediction\n",
        "\n",
        "**Be sure to set a random seed so that your results are reproducible.**"
      ]
    },
    {
      "cell_type": "markdown",
      "metadata": {
        "id": "5KLFADfRLDkG"
      },
      "source": [
        "Lastly, we will build a Linear Regression model to determine whether the number of children ever born in a family can be predicted based on the mother's age. We employed this model because we are dealing with quantitative variables. Thus, we can predict the number of children, our dependent variable, based on the independent variable, the mother's age."
      ]
    },
    {
      "cell_type": "code",
      "metadata": {
        "id": "vQ8Aq1gmLDkH"
      },
      "source": [
        "# define the functions needed to fit the linear regression\n",
        "def correlation(name, col1, col2):\n",
        "    col1_mean, col1_std = name.column(col1).mean(), name.column(col1).std()\n",
        "    col2_mean, col2_std = name.column(col2).mean(), name.column(col2).std()\n",
        "    standard_unit1 = (name.column(col1) - col1_mean) / col1_std\n",
        "    standard_unit2 = (name.column(col2) - col2_mean) / col2_std\n",
        "    return np.mean(standard_unit1 * standard_unit2)\n",
        "    \n",
        "def slope(name, col1, col2):\n",
        "    return correlation(name, col1, col2) * np.std(name.column(col2)) / np.std(name.column(col1))\n",
        "\n",
        "def intercept(name, col1, col2):\n",
        "    return np.mean(name.column(col2)) - slope(name, col1, col2) * np.mean(name.column(col1))\n",
        "\n",
        "def parameters(name, col1, col2):\n",
        "    r = correlation(name, col1, col2)\n",
        "    slope = r * np.std(name.column(col2)) / np.std(name.column(col1))\n",
        "    intercept = np.mean(name.column(col2)) - slope * np.mean(name.column(col1))\n",
        "    return make_array(slope, intercept)\n",
        "\n",
        "def fit(name, col1, col2):\n",
        "    a = slope(name, col1, col2)\n",
        "    b = intercept(name, col1, col2)\n",
        "    return a * name.column(col1) + b"
      ],
      "execution_count": null,
      "outputs": []
    },
    {
      "cell_type": "code",
      "metadata": {
        "id": "9bxxUzkNLDkJ",
        "outputId": "78e9f89e-cee0-4b6c-c553-5c76c9204411"
      },
      "source": [
        "# display the correlation between the Wife's age and the number of children\n",
        "correlation(participant_family, 'Wife age', ' Num children')"
      ],
      "execution_count": null,
      "outputs": [
        {
          "output_type": "execute_result",
          "data": {
            "text/plain": [
              "0.5381670417570171"
            ]
          },
          "metadata": {
            "tags": []
          },
          "execution_count": 16
        }
      ]
    },
    {
      "cell_type": "code",
      "metadata": {
        "id": "Oowa9uSELDkL",
        "outputId": "0bdbd35d-b790-42bb-a320-87f19b046d43"
      },
      "source": [
        "# display the slope and intercept between the Wife's age and the number of children\n",
        "parameters(participant_family, 'Wife age', ' Num children')"
      ],
      "execution_count": null,
      "outputs": [
        {
          "output_type": "execute_result",
          "data": {
            "text/plain": [
              "array([ 0.14739367, -1.39897356])"
            ]
          },
          "metadata": {
            "tags": []
          },
          "execution_count": 17
        }
      ]
    },
    {
      "cell_type": "code",
      "metadata": {
        "id": "lVAH6cUwLDkO",
        "outputId": "073cb0dd-43b4-47b0-b027-f7c72a6db9d6"
      },
      "source": [
        "# implement the predictive model\n",
        "# fit the linear regression, store results in table\n",
        "linear_regression = Table().with_columns(\n",
        "    'Wife age', participant_family.column('Wife age'),\n",
        "    'Num children', participant_family.column(' Num children'),\n",
        "    'Fitted Values', fit(participant_family, 'Wife age', ' Num children'))\n",
        "\n",
        "# plot the fitted results agains the Wife age\n",
        "linear_regression.scatter('Wife age')\n",
        "plots.title('Original scatter plot along with the Fitted Values')"
      ],
      "execution_count": null,
      "outputs": [
        {
          "output_type": "execute_result",
          "data": {
            "text/plain": [
              "Text(0.5, 1.0, 'Original scatter plot along with the Fitted Values')"
            ]
          },
          "metadata": {
            "tags": []
          },
          "execution_count": 18
        },
        {
          "output_type": "display_data",
          "data": {
            "image/png": "[encoded data removed]",
            "text/plain": [
              "<Figure size 360x360 with 1 Axes>"
            ]
          },
          "metadata": {
            "tags": []
          }
        }
      ]
    },
    {
      "cell_type": "code",
      "metadata": {
        "id": "L2K3KA65LDkQ",
        "outputId": "500ac3e9-2428-4892-a49a-ace732c5c9b9"
      },
      "source": [
        "# evaluate the model fit\n",
        "# plot the residuals of our linear regression model\n",
        "linear_regression = linear_regression.with_column(\n",
        "    'Residuals', linear_regression.column(1) - linear_regression.column(2))\n",
        "linear_regression.scatter('Wife age', 'Residuals', fit_line=True)\n",
        "plots.title('Residual Plot')"
      ],
      "execution_count": null,
      "outputs": [
        {
          "output_type": "execute_result",
          "data": {
            "text/plain": [
              "Text(0.5, 1.0, 'Residual Plot')"
            ]
          },
          "metadata": {
            "tags": []
          },
          "execution_count": 19
        },
        {
          "output_type": "display_data",
          "data": {
            "image/png": "[encoded data removed]",
            "text/plain": [
              "<Figure size 360x360 with 1 Axes>"
            ]
          },
          "metadata": {
            "tags": []
          }
        }
      ]
    },
    {
      "cell_type": "code",
      "metadata": {
        "id": "2AmOch3GLDkU",
        "outputId": "e8f74055-a281-4d69-fd71-e994666e5d83"
      },
      "source": [
        "# interpreting the results\n",
        "# see if our model fit the data well\n",
        "age_children = participant.select('Wife age',' Num children')\n",
        "age_children_mean = age_children.group('Wife age', np.mean)\n",
        "coeff = parameters(participant_family, 'Wife age',' Num children')\n",
        "\n",
        "predictions = make_array()\n",
        "\n",
        "for i in np.arange(16,50):\n",
        "    one_prediction = coeff[0] * i + coeff[1]\n",
        "    predictions = np.append(predictions, one_prediction)\n",
        "    \n",
        "with_prediction = age_children_mean.with_columns('Linear Prediction', predictions)\n",
        "with_difference = with_prediction.with_columns('Error', with_prediction.column(' Num children mean') - with_prediction.column('Linear Prediction'))\n",
        "with_difference"
      ],
      "execution_count": null,
      "outputs": [
        {
          "output_type": "execute_result",
          "data": {
            "text/html": [
              "<table border=\"1\" class=\"dataframe\">\n",
              "    <thead>\n",
              "        <tr>\n",
              "            <th>Wife age</th> <th> Num children mean</th> <th>Linear Prediction</th> <th>Error</th>\n",
              "        </tr>\n",
              "    </thead>\n",
              "    <tbody>\n",
              "        <tr>\n",
              "            <td>16      </td> <td>1                 </td> <td>0.959325         </td> <td>0.0406748 </td>\n",
              "        </tr>\n",
              "        <tr>\n",
              "            <td>17      </td> <td>1.16667           </td> <td>1.10672          </td> <td>0.0599478 </td>\n",
              "        </tr>\n",
              "        <tr>\n",
              "            <td>18      </td> <td>0.75              </td> <td>1.25411          </td> <td>-0.504113 </td>\n",
              "        </tr>\n",
              "        <tr>\n",
              "            <td>19      </td> <td>1.0625            </td> <td>1.40151          </td> <td>-0.339006 </td>\n",
              "        </tr>\n",
              "        <tr>\n",
              "            <td>20      </td> <td>1.33333           </td> <td>1.5489           </td> <td>-0.215567 </td>\n",
              "        </tr>\n",
              "        <tr>\n",
              "            <td>21      </td> <td>1.09677           </td> <td>1.69629          </td> <td>-0.599519 </td>\n",
              "        </tr>\n",
              "        <tr>\n",
              "            <td>22      </td> <td>1.35              </td> <td>1.84369          </td> <td>-0.493687 </td>\n",
              "        </tr>\n",
              "        <tr>\n",
              "            <td>23      </td> <td>2                 </td> <td>1.99108          </td> <td>0.00891914</td>\n",
              "        </tr>\n",
              "        <tr>\n",
              "            <td>24      </td> <td>1.875             </td> <td>2.13847          </td> <td>-0.263475 </td>\n",
              "        </tr>\n",
              "        <tr>\n",
              "            <td>25      </td> <td>1.94737           </td> <td>2.28587          </td> <td>-0.3385   </td>\n",
              "        </tr>\n",
              "    </tbody>\n",
              "</table>\n",
              "<p>... (24 rows omitted)</p>"
            ],
            "text/plain": [
              "Wife age |  Num children mean | Linear Prediction | Error\n",
              "16       | 1                  | 0.959325          | 0.0406748\n",
              "17       | 1.16667            | 1.10672           | 0.0599478\n",
              "18       | 0.75               | 1.25411           | -0.504113\n",
              "19       | 1.0625             | 1.40151           | -0.339006\n",
              "20       | 1.33333            | 1.5489            | -0.215567\n",
              "21       | 1.09677            | 1.69629           | -0.599519\n",
              "22       | 1.35               | 1.84369           | -0.493687\n",
              "23       | 2                  | 1.99108           | 0.00891914\n",
              "24       | 1.875              | 2.13847           | -0.263475\n",
              "25       | 1.94737            | 2.28587           | -0.3385\n",
              "... (24 rows omitted)"
            ]
          },
          "metadata": {
            "tags": []
          },
          "execution_count": 20
        }
      ]
    },
    {
      "cell_type": "code",
      "metadata": {
        "id": "_I9ZwsMALDkX",
        "outputId": "d10cc9db-e269-4cc8-c5aa-48a1724d06e4"
      },
      "source": [
        "# calculate the percent error of our model \n",
        "percent_errors = np.abs(with_difference.column('Error')) / with_difference.column(' Num children mean') * 100\n",
        "percent_error = np.mean(percent_errors)\n",
        "percent_error"
      ],
      "execution_count": null,
      "outputs": [
        {
          "output_type": "execute_result",
          "data": {
            "text/plain": [
              "14.720133343354444"
            ]
          },
          "metadata": {
            "tags": []
          },
          "execution_count": 21
        }
      ]
    },
    {
      "cell_type": "markdown",
      "metadata": {
        "id": "QhGN9t3OLDkZ"
      },
      "source": [
        "With an R-value of 0.538, we can conclude that the two variables, `Wife age` and `Num children` are moderately correlated in a positive association. The residual plot indicates that linear regression is not a good model for `Wife age` vs `Num children`. Notice how the residuals are not distributed relatively symmetrically above and below the horizontal line at 0, corresponding to the original scatter plot being asymmetrical. Notice also that there appear patterns in the residual plot. Thus, this tells us that linear regression might not be the right model to understand the relationship between `Wife age` and `Num children`."
      ]
    },
    {
      "cell_type": "markdown",
      "metadata": {
        "id": "K7qxPTFLLDka"
      },
      "source": [
        "## Conclusion\n",
        "\n",
        "We managed to answer our hypothesis testing question using the A/B Testing procedure. Since the P-value of around 3% is less than the P-value cutoff of 5%, it is statistically significant. Therefore, it has resulted in accepting the alternative hypothesis that Muslim mothers, on average, have more children than non-Muslim mothers. Surprisingly, we also came across another factor that may be associated with the number of children in a family. We found that the less educated a parent is, the more likely the family will have more children. We also attempted to make a Linear Regression model and predict the number of children given the wife's age. However, this is not the perfect model to use due to the presence of patterns and heteroscedasticity. Hence, a more powerful model will be required to capture the data and make a better prediction.\n",
        "\n",
        "We noticed that 85.58% of our sample are Muslim women. This could affect our analysis in a way where one religious group might have a different distribution than the other group. This limitation might have contributed to why we got a 14.72% error in our model. Here, we created a model that takes religion to predict the number of children. Given the demographics of Indonesia, there is a possibility that our model won't work as well or be as accurate in a population where Muslim is not the dominant religion."
      ]
    },
    {
      "cell_type": "markdown",
      "metadata": {
        "id": "u1CZOOulLDka"
      },
      "source": [
        "## Presentation\n",
        "\n",
        "*In this section, you'll need to provide a link to your video presentation. If you've uploaded your presentation to YouTube,\n",
        "you can include the URL in the code below. We've provided an example to show you how to do this. Otherwise, provide the link\n",
        "in a markdown cell.*\n",
        "\n",
        "**Link:** *Replace this text with a link to your video presentation*"
      ]
    },
    {
      "cell_type": "code",
      "metadata": {
        "id": "Umh93l4dLDkb",
        "outputId": "f7781e3e-bfbb-4be3-e953-0b75c51609c8"
      },
      "source": [
        "# Full Link: https://www.youtube.com/watch?v=BKgdDLrSC5s&feature=emb_logo\n",
        "# Plug in string between \"v=\" and \"\"&feature\":\n",
        "YouTubeVideo('C9qTnRIY2AA')"
      ],
      "execution_count": null,
      "outputs": [
        {
          "output_type": "execute_result",
          "data": {
            "image/jpeg": "[encoded data removed]",
            "text/html": [
              "\n",
              "        <iframe\n",
              "            width=\"400\"\n",
              "            height=\"300\"\n",
              "            src=\"https://www.youtube.com/embed/C9qTnRIY2AA\"\n",
              "            frameborder=\"0\"\n",
              "            allowfullscreen\n",
              "        ></iframe>\n",
              "        "
            ],
            "text/plain": [
              "<IPython.lib.display.YouTubeVideo at 0x7f7d49a888d0>"
            ]
          },
          "metadata": {
            "tags": []
          },
          "execution_count": 22
        }
      ]
    },
    {
      "cell_type": "markdown",
      "metadata": {
        "id": "p5MM6GTWLDkd"
      },
      "source": [
        "# Submission\n",
        "\n",
        "*Just as with the other assignments in this course, please submit your research notebook to Okpy. We suggest that you\n",
        "submit often so that your progress is saved.*"
      ]
    },
    {
      "cell_type": "code",
      "metadata": {
        "id": "rZTEUVucLDkd"
      },
      "source": [
        "# Run this line to submit your work\n",
        "_ = ok.submit()"
      ],
      "execution_count": null,
      "outputs": []
    }
  ]
}