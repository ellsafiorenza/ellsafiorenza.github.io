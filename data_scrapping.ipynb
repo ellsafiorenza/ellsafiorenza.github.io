{
  "nbformat": 4,
  "nbformat_minor": 0,
  "metadata": {
    "colab": {
      "name": "data_scrapping.ipynb",
      "provenance": [],
      "collapsed_sections": [],
      "authorship_tag": "ABX9TyPEec3hZ/UaYT+9h++OV1EE",
      "include_colab_link": true
    },
    "kernelspec": {
      "name": "python3",
      "display_name": "Python 3"
    },
    "language_info": {
      "name": "python"
    }
  },
  "cells": [
    {
      "cell_type": "markdown",
      "metadata": {
        "id": "view-in-github",
        "colab_type": "text"
      },
      "source": [
        "<a href=\"https://colab.research.google.com/github/ellsafiorenza/ellsafiorenza.github.io/blob/main/data_scrapping.ipynb\" target=\"_parent\"><img src=\"https://colab.research.google.com/assets/colab-badge.svg\" alt=\"Open In Colab\"/></a>"
      ]
    },
    {
      "cell_type": "markdown",
      "metadata": {
        "id": "W3j-OgFIyph5"
      },
      "source": [
        "## Import Libraries"
      ]
    },
    {
      "cell_type": "code",
      "metadata": {
        "id": "gF0CU0v-yk2M"
      },
      "source": [
        "%matplotlib inline\n",
        "import matplotlib.pyplot as plt\n",
        "import pandas as pd\n",
        "import json\n",
        "import requests"
      ],
      "execution_count": null,
      "outputs": []
    },
    {
      "cell_type": "markdown",
      "metadata": {
        "id": "4X-QejpTIDrM"
      },
      "source": [
        "# Stats Daily"
      ]
    },
    {
      "cell_type": "code",
      "metadata": {
        "id": "DGQy7g9py08b"
      },
      "source": [
        "url_idn = \"https://api.midway.tomtom.com/ranking/dailyStats/IDN_jakarta\"\n",
        "page = requests.get(url_idn)"
      ],
      "execution_count": null,
      "outputs": []
    },
    {
      "cell_type": "code",
      "metadata": {
        "id": "5ROXJ3WJI434"
      },
      "source": [
        "if 'json' in page.headers.get('Content-Type'):\n",
        "    page_json = page.json()\n",
        "else:\n",
        "    print('Response content is not in JSON format.')\n",
        "    page_json = 'spam'"
      ],
      "execution_count": null,
      "outputs": []
    },
    {
      "cell_type": "code",
      "metadata": {
        "colab": {
          "base_uri": "https://localhost:8080/"
        },
        "id": "7NmTyWGdMiRZ",
        "outputId": "6a0beaad-680b-4d18-b269-6c4ade47481a"
      },
      "source": [
        "page_json[0]"
      ],
      "execution_count": null,
      "outputs": [
        {
          "output_type": "execute_result",
          "data": {
            "text/plain": [
              "{'congestion': 20,\n",
              " 'date': '2021-01-04',\n",
              " 'diffRatio': -0.5,\n",
              " 'week': '1 2021',\n",
              " 'weekday': 'Mon'}"
            ]
          },
          "metadata": {
            "tags": []
          },
          "execution_count": 5
        }
      ]
    },
    {
      "cell_type": "code",
      "metadata": {
        "id": "mUpho9r5AGlW"
      },
      "source": [
        "date = []\n",
        "weekday = []\n",
        "week = []\n",
        "congestion = []\n",
        "diffRatio = []\n",
        "\n",
        "# Storing the data to lists\n",
        "for p in page_json:\n",
        "  date.append(p['date'])\n",
        "  weekday.append(p['weekday'])\n",
        "  week.append(p['week'])\n",
        "  congestion.append(p['congestion'])\n",
        "  diffRatio.append(p['diffRatio'])"
      ],
      "execution_count": null,
      "outputs": []
    },
    {
      "cell_type": "code",
      "metadata": {
        "id": "JiXpD1R1tBtz"
      },
      "source": [
        "# Storing the data into data frame\n",
        "id_df = pd.DataFrame({'date': date,\n",
        "                      'weekday': weekday,\n",
        "                      'week': week,\n",
        "                      'congestion': congestion,\n",
        "                      'diffRatios': diffRatio})\n",
        "\n",
        "# Store to csv files\n",
        "id_df.to_csv('jkt_daily_congestion.csv', index = False)"
      ],
      "execution_count": null,
      "outputs": []
    },
    {
      "cell_type": "markdown",
      "metadata": {
        "id": "ocyXJwSICsdW"
      },
      "source": [
        "# Weather"
      ]
    },
    {
      "cell_type": "code",
      "metadata": {
        "id": "A8zgtul9CuTZ"
      },
      "source": [
        "weather_url = \"https://api.weather.midway.tomtom.com/weather/live/IDN_jakarta\"\n",
        "weather = requests.get(weather_url)\n",
        "weather_json = weather.json()"
      ],
      "execution_count": null,
      "outputs": []
    },
    {
      "cell_type": "code",
      "metadata": {
        "colab": {
          "base_uri": "https://localhost:8080/"
        },
        "id": "Hm-a6ZBSC44g",
        "outputId": "64fa43f7-b8f1-4b6b-b142-8bc336a2d3cc"
      },
      "source": [
        "weather_json['data'][0]"
      ],
      "execution_count": null,
      "outputs": [
        {
          "output_type": "execute_result",
          "data": {
            "text/plain": [
              "{'UpdateTime': 1616536816664,\n",
              " 'Weather': {'dateTime': '2021-03-23T22:00:00Z',\n",
              "  'dateTimeLocal': '2021-03-24T05:00:00',\n",
              "  'feelsLike': 30,\n",
              "  'precipitation': 0,\n",
              "  'precipitationProbability': 24,\n",
              "  'pressure': 1008,\n",
              "  'relativeHumidity': 91,\n",
              "  'sunProbability': 22,\n",
              "  'temperature': 27,\n",
              "  'thunderProbability': 1,\n",
              "  'uvIndex': 0,\n",
              "  'weatherCode': 'N_CL_____',\n",
              "  'windDirection': 'W',\n",
              "  'windSpeed': 0.6}}"
            ]
          },
          "metadata": {
            "tags": []
          },
          "execution_count": 9
        }
      ]
    },
    {
      "cell_type": "code",
      "metadata": {
        "id": "6B5pOLvNC_al"
      },
      "source": [
        "UpdateTime = []\n",
        "dateTime = []\n",
        "dateTimeLocal = []\n",
        "feelsLike = []\n",
        "precipitation = []\n",
        "precipitationProbability = []\n",
        "pressure = []\n",
        "relativeHumidity = []\n",
        "sunProbability = []\n",
        "\n",
        "for p in weather_json['data']:\n",
        "  UpdateTime.append(p['UpdateTime'])\n",
        "  dateTime.append(p['Weather']['dateTime'])\n",
        "  dateTimeLocal.append(p['Weather']['dateTimeLocal'])\n",
        "  feelsLike.append(p['Weather']['feelsLike'])\n",
        "  precipitation.append(p['Weather']['precipitation'])\n",
        "  precipitationProbability.append(p['Weather']['precipitationProbability'])\n",
        "  pressure.append(p['Weather']['pressure'])\n",
        "  relativeHumidity.append(p['Weather']['relativeHumidity'])\n",
        "  sunProbability.append(p['Weather']['sunProbability'])"
      ],
      "execution_count": null,
      "outputs": []
    },
    {
      "cell_type": "code",
      "metadata": {
        "id": "9dr0s431AJXW"
      },
      "source": [
        "# Storing the data into data frame\n",
        "weather_df = pd.DataFrame({'UpdateTime': UpdateTime,\n",
        "                           'dateTime': dateTime,\n",
        "                           'dateTimeLocal': dateTimeLocal,\n",
        "                           'feelsLike': feelsLike,\n",
        "                           'precipitation': precipitation,\n",
        "                           'precipitationProbability': precipitationProbability,\n",
        "                           'pressure': pressure,\n",
        "                           'relativeHumidity': relativeHumidity,\n",
        "                           'sunProbability': sunProbability})\n",
        "\n",
        "# Store to csv files\n",
        "weather_df.to_csv('jkt_weather.csv', index = False)"
      ],
      "execution_count": null,
      "outputs": []
    },
    {
      "cell_type": "markdown",
      "metadata": {
        "id": "DyG3QZF7AzfX"
      },
      "source": [
        "# Weekly Stats"
      ]
    },
    {
      "cell_type": "code",
      "metadata": {
        "id": "bDUv7ljZAwOx"
      },
      "source": [
        "url_weekly = \"https://api.midway.tomtom.com/ranking/weeklyStats/IDN_jakarta\"\n",
        "weekly = requests.get(url_weekly)\n",
        "weekly_json = weekly.json()"
      ],
      "execution_count": null,
      "outputs": []
    },
    {
      "cell_type": "code",
      "metadata": {
        "colab": {
          "base_uri": "https://localhost:8080/"
        },
        "id": "0aqWrc8ABEmT",
        "outputId": "72379a40-3266-47d0-9eb7-6042a8afbbc0"
      },
      "source": [
        "weekly_json[0]"
      ],
      "execution_count": null,
      "outputs": [
        {
          "output_type": "execute_result",
          "data": {
            "text/plain": [
              "{'congestion': 21,\n",
              " 'diffRatio': -0.4878048780487805,\n",
              " 'week': '1 2021',\n",
              " 'weekStart': '2021-01-04'}"
            ]
          },
          "metadata": {
            "tags": []
          },
          "execution_count": 14
        }
      ]
    },
    {
      "cell_type": "code",
      "metadata": {
        "id": "N2LMRHCmBGXW"
      },
      "source": [
        "congestion = []\n",
        "diffRatio = []\n",
        "week = []\n",
        "weekStart = []\n",
        "\n",
        "for p in weekly_json:\n",
        "  congestion.append(p['congestion'])\n",
        "  diffRatio.append(p['diffRatio'])\n",
        "  week.append(p['week'])\n",
        "  weekStart.append(p['weekStart'])"
      ],
      "execution_count": null,
      "outputs": []
    },
    {
      "cell_type": "code",
      "metadata": {
        "id": "FFJbs-u7Ba3o"
      },
      "source": [
        "# Storing the data into data frame\n",
        "weekly_df = pd.DataFrame({'congestion': congestion,\n",
        "                          'diffRatio': diffRatio,\n",
        "                          'week': week,\n",
        "                          'weekStart': weekStart})\n",
        "\n",
        "# Store to csv files\n",
        "weekly_df.to_csv('jkt_weekly_congestion.csv', index = False)"
      ],
      "execution_count": null,
      "outputs": []
    },
    {
      "cell_type": "code",
      "metadata": {
        "id": "hxflBrLXBzgj"
      },
      "source": [
        ""
      ],
      "execution_count": null,
      "outputs": []
    }
  ]
}