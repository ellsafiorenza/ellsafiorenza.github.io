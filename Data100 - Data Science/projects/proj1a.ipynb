{
 "cells": [
  {
   "cell_type": "code",
   "execution_count": 139,
   "metadata": {
    "deletable": false,
    "editable": false
   },
   "outputs": [
    {
     "name": "stdout",
     "output_type": "stream",
     "text": [
      "=====================================================================\n",
      "Assignment: proj1a\n",
      "OK, version v1.13.11\n",
      "=====================================================================\n",
      "\n"
     ]
    }
   ],
   "source": [
    "# Initialize OK\n",
    "from client.api.notebook import Notebook\n",
    "ok = Notebook('proj1a.ok')"
   ]
  },
  {
   "cell_type": "markdown",
   "metadata": {
    "nbgrader": {
     "grade": false,
     "grade_id": "intro-hw2",
     "locked": true,
     "schema_version": 2,
     "solution": false
    }
   },
   "source": [
    "# Project 1A: Food Safety\n",
    "## Cleaning and Exploring Data with Pandas\n",
    "## Due Date: Monday 02/17, 11:59 PM\n",
    "## Collaboration Policy\n",
    "\n",
    "Data science is a collaborative activity. While you may talk with others about\n",
    "the project, we ask that you **write your solutions individually**. If you do\n",
    "discuss the assignments with others please **include their names** at the top\n",
    "of your notebook."
   ]
  },
  {
   "cell_type": "markdown",
   "metadata": {},
   "source": [
    "**Collaborators**: *I worked alone.*"
   ]
  },
  {
   "cell_type": "markdown",
   "metadata": {},
   "source": [
    "\n",
    "## This Assignment\n",
    "\n",
    "In this project, we will investigate restaurant food safety scores for restaurants in San Francisco. The scores and violation information have been [made available by the San Francisco Department of Public Health](https://data.sfgov.org/Health-and-Social-Services/Restaurant-Scores-LIVES-Standard/pyih-qa8i). The main goal for this assignment is to walk through the process of Data Cleaning and EDA. \n",
    "\n",
    "We have broken this two week project into two parts.  The first part (week 1) will focus on basic data cleaning and analysis using Pandas.  The second part (week 2) will dive into deeper analysis and data visualization.\n",
    "\n",
    "As we clean and explore these data, you will gain practice with:\n",
    "* Reading simple csv files and using Pandas\n",
    "* Working with data at different levels of granularity\n",
    "* Identifying the type of data collected, missing values, anomalies, etc.\n",
    "* Exploring characteristics and distributions of individual variables\n",
    "\n",
    "## Score Breakdown \n",
    "Question | Points\n",
    "--- | ---\n",
    "1a | 3\n",
    "1b | 2\n",
    "1c | 1\n",
    "1d | 1\n",
    "1e | 1\n",
    "2a | 1\n",
    "2b | 1\n",
    "2ci | 1\n",
    "2cii | 1\n",
    "2d | 2\n",
    "3a | 2\n",
    "3b | 2\n",
    "3ci | 1\n",
    "3cii | 1\n",
    "3d | 3\n",
    "3e | 2\n",
    "3f | 2\n",
    "4a | 1\n",
    "4bi | 1\n",
    "4bii | 1\n",
    "4biii | 1\n",
    "4ci | 1\n",
    "4cii | 1\n",
    "4ciii | 1\n",
    "4civ | 1\n",
    "4di | 2\n",
    "4dii | 2\n",
    "4e | 2\n",
    "5a | 2\n",
    "5b | 3\n",
    "5c | 2\n",
    "6 | 3\n",
    "Total | 51"
   ]
  },
  {
   "cell_type": "markdown",
   "metadata": {},
   "source": [
    "## Before You Start\n",
    "\n",
    "For each question in the assignment, please write down your answer in the answer cell(s) right below the question. \n",
    "\n",
    "We understand that it is helpful to have extra cells breaking down the process towards reaching your final answer. If you happen to create new cells below your answer to run codes, **NEVER** add cells between a question cell and the answer cell below it. It will cause errors when we run the autograder, and it will sometimes cause a failure to generate the PDF file.\n",
    "\n",
    "**Important note: The local autograder tests will not be comprehensive. You can pass the automated tests in your notebook but still fail tests in the autograder.** Please be sure to check your results carefully.\n",
    "\n",
    "Finally, unless we state otherwise, try to avoid using python for loops or list comprehensions.  The majority of this assignment can be done using builtin commands in Pandas and numpy.  \n"
   ]
  },
  {
   "cell_type": "code",
   "execution_count": 140,
   "metadata": {
    "nbgrader": {
     "grade": false,
     "grade_id": "import",
     "locked": true,
     "schema_version": 2,
     "solution": false
    }
   },
   "outputs": [],
   "source": [
    "import numpy as np\n",
    "import pandas as pd \n",
    "\n",
    "import bz2 # Used to read compressed data\n",
    "import os # Used to interact with the file system"
   ]
  },
  {
   "cell_type": "markdown",
   "metadata": {
    "nbgrader": {
     "grade": false,
     "grade_id": "download",
     "locked": true,
     "schema_version": 2,
     "solution": false
    }
   },
   "source": [
    "## Obtaining the Data\n",
    "\n",
    "### File Systems and I/O\n",
    "\n"
   ]
  },
  {
   "cell_type": "markdown",
   "metadata": {},
   "source": [
    "In general, we will focus on using python commands to investigate files.  However, it can sometimes be easier to use shell commands in your local operating system.  The following cells demonstrate how to do this.\n",
    "\n",
    "\n",
    "The command below starts with `!`. This tells our Jupyter notebook to pass this command to the operating system. In this case, the command is the `ls` POSIX command which lists all files in the current directory. Note what `!ls data` outputs.  \n",
    "\n",
    "*Note this `!` only works in ipython shells (Jupyter Notebooks). And the `ls` (list) command only works in posix environments and may not work on default Windows systems.*"
   ]
  },
  {
   "cell_type": "code",
   "execution_count": 141,
   "metadata": {},
   "outputs": [
    {
     "name": "stdout",
     "output_type": "stream",
     "text": [
      "data  proj1a.ipynb  proj1a.ok  tests\r\n"
     ]
    }
   ],
   "source": [
    "!ls "
   ]
  },
  {
   "cell_type": "code",
   "execution_count": 142,
   "metadata": {},
   "outputs": [
    {
     "name": "stdout",
     "output_type": "stream",
     "text": [
      "bus.csv.bz2  ins2vio.csv.bz2  ins.csv.bz2  sf_zipcodes.json  vio.csv.bz2\r\n"
     ]
    }
   ],
   "source": [
    "!ls data"
   ]
  },
  {
   "cell_type": "markdown",
   "metadata": {},
   "source": [
    "We are going to use the [`pathlib`](https://docs.python.org/3/library/pathlib.html#basic-use) module to represent our file system paths and perform operations which allow us to learn more about the contents of our data. Note what `pathlib.Path.cwd()` outputs in relation to the output of `!ls` above."
   ]
  },
  {
   "cell_type": "markdown",
   "metadata": {},
   "source": [
    "<br/><br/><br/>\n",
    "\n",
    "---\n",
    "\n",
    "<br/><br/><br/>\n",
    "\n",
    "# 1: Examining the Files\n",
    "Let's first focus on understanding the structure of the data; this involves answering questions such as:\n",
    "\n",
    "* How much data do we have?\n",
    "* Is the data in a standard format or encoding?\n",
    "* Is the data organized in records?\n",
    "* What are the fields in each record?\n",
    "\n",
    "Let's start by looking at the contents of `data/`. This is not just a single file but rather a directory of multiple compressed files. We could inspect our data by uncompressing each file but in this project we're going to do almost everything in Python for maximum portability.\n"
   ]
  },
  {
   "cell_type": "markdown",
   "metadata": {},
   "source": [
    "You will want to use a few useful python functions.  To move through the local filesystem you can use the `Path` module in `pathlinb`.  For example, to list the current directory you can [Path.cwd](https://docs.python.org/3/library/pathlib.html#pathlib.Path.cwd)."
   ]
  },
  {
   "cell_type": "code",
   "execution_count": 143,
   "metadata": {},
   "outputs": [
    {
     "data": {
      "text/plain": [
       "PosixPath('/home/jovyan/sp20/proj/proj1a')"
      ]
     },
     "execution_count": 143,
     "metadata": {},
     "output_type": "execute_result"
    }
   ],
   "source": [
    "from pathlib import Path\n",
    "\n",
    "Path.cwd()"
   ]
  },
  {
   "cell_type": "markdown",
   "metadata": {},
   "source": [
    "The function returns a `pathlib.Path` object representing the location of the file.  It can also be used to list contents of directories and many other things. \n",
    "\n",
    "You will also need to work with `bzip2` files and you will want to be able to read their contents using the [bz2](https://docs.python.org/3/library/bz2.html) python library."
   ]
  },
  {
   "cell_type": "code",
   "execution_count": 144,
   "metadata": {},
   "outputs": [
    {
     "name": "stdout",
     "output_type": "stream",
     "text": [
      "The first line: \n",
      "\t b'\"business id column\",\"name\",\"address\",\"city\",\"state\",\"postal_code\",\"latitude\",\"longitude\",\"phone_number\"\\n'\n"
     ]
    }
   ],
   "source": [
    "with bz2.open(\"data/bus.csv.bz2\", \"r\") as f:\n",
    "    print(\"The first line:\", \"\\n\\t\", f.readline())"
   ]
  },
  {
   "cell_type": "markdown",
   "metadata": {
    "deletable": false,
    "editable": false
   },
   "source": [
    "<br/><br/><br/>\n",
    "\n",
    "---\n",
    "\n",
    "## Question 1a:\n",
    "\n",
    "Implement the `list_files`, `get_file_size`, and `get_linecount_bz2` functions to return the list of files in the directory, the sizes (in bytes) of a file, and the number of lines in the file.  Note the last `get_linecount_bz2` should not produce any intermediate files in the filesystem and should avoid storing the entire file in memory (don't do `len(file.readlines())`).\n",
    "\n",
    "**Hints:** *You might find the following documentation useful:*\n",
    "1. [Python pathlib](https://docs.python.org/3.7/library/pathlib.html#pathlib.Path.iterdir)\n",
    "1. [bz2](https://docs.python.org/3/library/bz2.html#bz2.open)\n",
    "\n",
    "\n",
    "<!--\n",
    "BEGIN QUESTION\n",
    "name: q1a\n",
    "points: 3\n",
    "-->"
   ]
  },
  {
   "cell_type": "code",
   "execution_count": 145,
   "metadata": {},
   "outputs": [],
   "source": [
    "def list_files(directory):\n",
    "    \"\"\"\n",
    "    Return a list of pathlib.Path objects for the files in the directory.\n",
    "    \n",
    "    directory: a string describing the directory to list \n",
    "        for example 'data/'\n",
    "    \"\"\"\n",
    "    p = Path(directory)\n",
    "    return [f for f in p.iterdir()]\n",
    "\n",
    "def get_file_size(file_name):\n",
    "    \"\"\"\n",
    "    Return file size for a given filename.\n",
    "    \"\"\" \n",
    "    return os.stat(file_name).st_size\n",
    "\n",
    "def get_linecount_bz2(file_name):\n",
    "    \"\"\"\n",
    "    Returns the number of lines in bz2 file.  \n",
    "    \"\"\" \n",
    "    return sum([1 for line in bz2.open(file_name)])"
   ]
  },
  {
   "cell_type": "code",
   "execution_count": 146,
   "metadata": {
    "deletable": false,
    "editable": false
   },
   "outputs": [
    {
     "name": "stdout",
     "output_type": "stream",
     "text": [
      "~~~~~~~~~~~~~~~~~~~~~~~~~~~~~~~~~~~~~~~~~~~~~~~~~~~~~~~~~~~~~~~~~~~~~\n",
      "Running tests\n",
      "\n",
      "---------------------------------------------------------------------\n",
      "Test summary\n",
      "    Passed: 3\n",
      "    Failed: 0\n",
      "[ooooooooook] 100.0% passed\n",
      "\n"
     ]
    }
   ],
   "source": [
    "ok.grade(\"q1a\");"
   ]
  },
  {
   "cell_type": "markdown",
   "metadata": {},
   "source": [
    "Now, let's see the file size and the number of lines for each data file.  If you implemented the above code correctly the following cell should produce the following (the columns may be in a different order):\n",
    "\n",
    "<table border=\"1\" class=\"dataframe\">\n",
    "  <thead>\n",
    "    <tr style=\"text-align: right;\">\n",
    "      <th></th>\n",
    "       <th>linecount</th>\n",
    "      <th>name</th>\n",
    "      <th>size</th>\n",
    "    </tr>\n",
    "  </thead>\n",
    "  <tbody>\n",
    "    <tr>\n",
    "      <th>2</th>\n",
    "       <td>66</td>\n",
    "      <td>data/vio.csv.bz2</td>\n",
    "      <td>1337</td>\n",
    "    </tr>\n",
    "    <tr>\n",
    "      <th>3</th>\n",
    "      <td>26664</td>\n",
    "      <td>data/ins.csv.bz2</td>\n",
    "      <td>110843</td>\n",
    "    </tr>\n",
    "    <tr>\n",
    "      <th>0</th>\n",
    "      <td>6254</td>\n",
    "      <td>data/bus.csv.bz2</td>\n",
    "      <td>113522</td>\n",
    "    </tr>\n",
    "    <tr>\n",
    "      <th>1</th>\n",
    "      <td>40211</td>\n",
    "      <td>data/ins2vio.csv.bz2</td>\n",
    "      <td>146937</td>\n",
    "    </tr>\n",
    "  </tbody>\n",
    "</table>"
   ]
  },
  {
   "cell_type": "code",
   "execution_count": 147,
   "metadata": {},
   "outputs": [
    {
     "data": {
      "text/html": [
       "<div>\n",
       "<style scoped>\n",
       "    .dataframe tbody tr th:only-of-type {\n",
       "        vertical-align: middle;\n",
       "    }\n",
       "\n",
       "    .dataframe tbody tr th {\n",
       "        vertical-align: top;\n",
       "    }\n",
       "\n",
       "    .dataframe thead th {\n",
       "        text-align: right;\n",
       "    }\n",
       "</style>\n",
       "<table border=\"1\" class=\"dataframe\">\n",
       "  <thead>\n",
       "    <tr style=\"text-align: right;\">\n",
       "      <th></th>\n",
       "      <th>name</th>\n",
       "      <th>size</th>\n",
       "      <th>linecount</th>\n",
       "    </tr>\n",
       "  </thead>\n",
       "  <tbody>\n",
       "    <tr>\n",
       "      <th>3</th>\n",
       "      <td>data/vio.csv.bz2</td>\n",
       "      <td>1337</td>\n",
       "      <td>66</td>\n",
       "    </tr>\n",
       "    <tr>\n",
       "      <th>1</th>\n",
       "      <td>data/ins.csv.bz2</td>\n",
       "      <td>110843</td>\n",
       "      <td>26664</td>\n",
       "    </tr>\n",
       "    <tr>\n",
       "      <th>2</th>\n",
       "      <td>data/bus.csv.bz2</td>\n",
       "      <td>113522</td>\n",
       "      <td>6254</td>\n",
       "    </tr>\n",
       "    <tr>\n",
       "      <th>0</th>\n",
       "      <td>data/ins2vio.csv.bz2</td>\n",
       "      <td>146937</td>\n",
       "      <td>40211</td>\n",
       "    </tr>\n",
       "  </tbody>\n",
       "</table>\n",
       "</div>"
      ],
      "text/plain": [
       "                   name    size  linecount\n",
       "3      data/vio.csv.bz2    1337         66\n",
       "1      data/ins.csv.bz2  110843      26664\n",
       "2      data/bus.csv.bz2  113522       6254\n",
       "0  data/ins2vio.csv.bz2  146937      40211"
      ]
     },
     "execution_count": 147,
     "metadata": {},
     "output_type": "execute_result"
    }
   ],
   "source": [
    "info = []\n",
    "for f in list_files(\"data/\"):\n",
    "    name = str(f)\n",
    "    if name[-3:] == \"bz2\": \n",
    "        size = get_file_size(f)\n",
    "        linecount = get_linecount_bz2(f)\n",
    "        info.append({\"name\": name, \"size\": size, \"linecount\": linecount})\n",
    "\n",
    "file_info = pd.DataFrame(info).sort_values(\"size\")\n",
    "file_info"
   ]
  },
  {
   "cell_type": "markdown",
   "metadata": {
    "deletable": false,
    "editable": false
   },
   "source": [
    "<br/><br/><br/>\n",
    "\n",
    "---\n",
    "\n",
    "## Question 1b: Programatically Looking Inside the Files\n",
    "\n",
    "Implement the following function `head_bz2` to return a list of the first `nlines` lines of each file. \n",
    "Using your `head_bz2` function implement the following `print_head_bz2` function that uses `print()` to print the filename followed by the first `nlines` of each file and their line numbers in the following format.\n",
    "\n",
    "```\n",
    "data/bus.csv.bz2\n",
    "0 :\t b'\"business id column\",\"name\",\"address\",\"city\",\"state\",\"postal_code\",\"latitude\",\"longitude\",\"phone_number\"\\n'\n",
    "1 :\t b'\"1000\",\"HEUNG YUEN RESTAURANT\",\"3279 22nd St\",\"San Francisco\",\"CA\",\"94110\",\"37.755282\",\"-122.420493\",\"-9999\"\\n'\n",
    "2 :\t b'\"100010\",\"ILLY CAFFE SF_PIER 39\",\"PIER 39  K-106-B\",\"San Francisco\",\"CA\",\"94133\",\"-9999\",\"-9999\",\"+14154827284\"\\n'\n",
    "3 :\t b'\"100017\",\"AMICI\\'S EAST COAST PIZZERIA\",\"475 06th St\",\"San Francisco\",\"CA\",\"94103\",\"-9999\",\"-9999\",\"+14155279839\"\\n'\n",
    "4 :\t b'\"100026\",\"LOCAL CATERING\",\"1566 CARROLL AVE\",\"San Francisco\",\"CA\",\"94124\",\"-9999\",\"-9999\",\"+14155860315\"\\n'\n",
    "```\n",
    "\n",
    "Do not read the entire file contents!\n",
    "\n",
    "<!--\n",
    "BEGIN QUESTION\n",
    "name: q1b\n",
    "points: 2\n",
    "-->"
   ]
  },
  {
   "cell_type": "code",
   "execution_count": 148,
   "metadata": {},
   "outputs": [],
   "source": [
    "def head_bz2(file, nlines=5):\n",
    "    \"\"\"\n",
    "    Return a list of the first nlines lines of filename\n",
    "    \"\"\"\n",
    "    with bz2.open(file) as f:\n",
    "        five_head = [f.readline() for _ in range(nlines)]\n",
    "    return five_head\n",
    "\n",
    "def print_head_bz2(file, nlines=5):\n",
    "    \"\"\"\n",
    "    Print a list of the first nlines lines of filename\n",
    "    \"\"\"\n",
    "    print(str(file))\n",
    "    head_list = head_bz2(file, nlines)\n",
    "    for i in range(nlines):\n",
    "        print(i, ': ', head_list[i])"
   ]
  },
  {
   "cell_type": "code",
   "execution_count": 149,
   "metadata": {
    "deletable": false,
    "editable": false
   },
   "outputs": [
    {
     "name": "stdout",
     "output_type": "stream",
     "text": [
      "~~~~~~~~~~~~~~~~~~~~~~~~~~~~~~~~~~~~~~~~~~~~~~~~~~~~~~~~~~~~~~~~~~~~~\n",
      "Running tests\n",
      "\n",
      "---------------------------------------------------------------------\n",
      "Test summary\n",
      "    Passed: 2\n",
      "    Failed: 0\n",
      "[ooooooooook] 100.0% passed\n",
      "\n"
     ]
    }
   ],
   "source": [
    "ok.grade(\"q1b\");"
   ]
  },
  {
   "cell_type": "markdown",
   "metadata": {},
   "source": [
    "The following should display the filename and head of the file for all the files in data:"
   ]
  },
  {
   "cell_type": "code",
   "execution_count": 150,
   "metadata": {},
   "outputs": [
    {
     "name": "stdout",
     "output_type": "stream",
     "text": [
      "data/ins2vio.csv.bz2\n",
      "0 :  b'\"iid\",\"vid\"\\n'\n",
      "1 :  b'\"97975_20190725\",\"103124\"\\n'\n",
      "2 :  b'\"85986_20161011\",\"103114\"\\n'\n",
      "3 :  b'\"95754_20190327\",\"103124\"\\n'\n",
      "4 :  b'\"77005_20170429\",\"103120\"\\n'\n",
      "\n",
      "data/ins.csv.bz2\n",
      "0 :  b'\"iid\",\"date\",\"score\",\"type\"\\n'\n",
      "1 :  b'\"100010_20190329\",\"03/29/2019 12:00:00 AM\",\"-1\",\"New Construction\"\\n'\n",
      "2 :  b'\"100010_20190403\",\"04/03/2019 12:00:00 AM\",\"100\",\"Routine - Unscheduled\"\\n'\n",
      "3 :  b'\"100017_20190417\",\"04/17/2019 12:00:00 AM\",\"-1\",\"New Ownership\"\\n'\n",
      "4 :  b'\"100017_20190816\",\"08/16/2019 12:00:00 AM\",\"91\",\"Routine - Unscheduled\"\\n'\n",
      "\n",
      "data/bus.csv.bz2\n",
      "0 :  b'\"business id column\",\"name\",\"address\",\"city\",\"state\",\"postal_code\",\"latitude\",\"longitude\",\"phone_number\"\\n'\n",
      "1 :  b'\"1000\",\"HEUNG YUEN RESTAURANT\",\"3279 22nd St\",\"San Francisco\",\"CA\",\"94110\",\"37.755282\",\"-122.420493\",\"-9999\"\\n'\n",
      "2 :  b'\"100010\",\"ILLY CAFFE SF_PIER 39\",\"PIER 39  K-106-B\",\"San Francisco\",\"CA\",\"94133\",\"-9999\",\"-9999\",\"+14154827284\"\\n'\n",
      "3 :  b'\"100017\",\"AMICI\\'S EAST COAST PIZZERIA\",\"475 06th St\",\"San Francisco\",\"CA\",\"94103\",\"-9999\",\"-9999\",\"+14155279839\"\\n'\n",
      "4 :  b'\"100026\",\"LOCAL CATERING\",\"1566 CARROLL AVE\",\"San Francisco\",\"CA\",\"94124\",\"-9999\",\"-9999\",\"+14155860315\"\\n'\n",
      "\n",
      "data/vio.csv.bz2\n",
      "0 :  b'\"description\",\"risk_category\",\"vid\"\\n'\n",
      "1 :  b'\"Consumer advisory not provided for raw or undercooked foods\",\"Moderate Risk\",103128\\n'\n",
      "2 :  b'\"Contaminated or adulterated food\",\"High Risk\",103108\\n'\n",
      "3 :  b'\"Discharge from employee nose mouth or eye\",\"Moderate Risk\",103117\\n'\n",
      "4 :  b'\"Employee eating or smoking\",\"Moderate Risk\",103118\\n'\n",
      "\n"
     ]
    }
   ],
   "source": [
    "for file in list_files(\"data/\"):\n",
    "    if str(file)[-3:] == \"bz2\":  \n",
    "        print_head_bz2(file)\n",
    "        print()"
   ]
  },
  {
   "cell_type": "markdown",
   "metadata": {
    "deletable": false,
    "editable": false
   },
   "source": [
    "<br/><br/><br/>\n",
    "\n",
    "---\n",
    "\n",
    "## Question 1c: Thinking about the files\n",
    "\n",
    "Answer the following questions by filling in the correct boolean values in the following variables:\n",
    "\n",
    "1. The bus.csv.bz2 file appears to be tab delimited.\n",
    "1. The values all appear to be quoted.\n",
    "\n",
    "\n",
    "<!--\n",
    "BEGIN QUESTION\n",
    "name: q1c\n",
    "points: 1\n",
    "-->"
   ]
  },
  {
   "cell_type": "code",
   "execution_count": 151,
   "metadata": {},
   "outputs": [],
   "source": [
    "# True or False: The bus.csv.bz2 file appears to be tab delimited.\n",
    "q1c_1 = False\n",
    "\n",
    "# True or False: The values all appear to be quoted.\n",
    "q1c_2 = True"
   ]
  },
  {
   "cell_type": "code",
   "execution_count": 152,
   "metadata": {
    "deletable": false,
    "editable": false
   },
   "outputs": [
    {
     "name": "stdout",
     "output_type": "stream",
     "text": [
      "~~~~~~~~~~~~~~~~~~~~~~~~~~~~~~~~~~~~~~~~~~~~~~~~~~~~~~~~~~~~~~~~~~~~~\n",
      "Running tests\n",
      "\n",
      "---------------------------------------------------------------------\n",
      "Test summary\n",
      "    Passed: 2\n",
      "    Failed: 0\n",
      "[ooooooooook] 100.0% passed\n",
      "\n"
     ]
    }
   ],
   "source": [
    "ok.grade(\"q1c\");"
   ]
  },
  {
   "cell_type": "markdown",
   "metadata": {
    "deletable": false,
    "editable": false,
    "nbgrader": {
     "grade": false,
     "grade_id": "q1c",
     "locked": true,
     "schema_version": 2,
     "solution": false
    }
   },
   "source": [
    "<br/><br/><br/>\n",
    "\n",
    "---\n",
    "\n",
    "## Question 1d: Reading in the Files\n",
    "\n",
    "Based on the above information, let's attempt to load `bus.csv`, `ins2vio.csv`, `vio.csv` and `ins.csv` into Pandas dataframes with the following names: `bus`, `ins2vio`, `vio`, `ins` respectively.\n",
    "\n",
    "\n",
    "<!--\n",
    "BEGIN QUESTION\n",
    "name: q1d\n",
    "points: 1\n",
    "-->"
   ]
  },
  {
   "cell_type": "code",
   "execution_count": 153,
   "metadata": {
    "ExecuteTime": {
     "end_time": "2018-08-18T01:21:53.438446Z",
     "start_time": "2018-08-18T01:21:53.280442Z"
    },
    "nbgrader": {
     "grade": false,
     "grade_id": "q1c-answer",
     "locked": false,
     "schema_version": 2,
     "solution": true
    },
    "tags": [
     "solution"
    ]
   },
   "outputs": [],
   "source": [
    "# path to directory containing data\n",
    "bus = pd.read_csv(\"data/bus.csv.bz2\")\n",
    "ins = pd.read_csv(\"data/ins.csv.bz2\")\n",
    "ins2vio = pd.read_csv(\"data/ins2vio.csv.bz2\")\n",
    "vio = pd.read_csv(\"data/vio.csv.bz2\")"
   ]
  },
  {
   "cell_type": "code",
   "execution_count": 154,
   "metadata": {
    "deletable": false,
    "editable": false
   },
   "outputs": [
    {
     "name": "stdout",
     "output_type": "stream",
     "text": [
      "~~~~~~~~~~~~~~~~~~~~~~~~~~~~~~~~~~~~~~~~~~~~~~~~~~~~~~~~~~~~~~~~~~~~~\n",
      "Running tests\n",
      "\n",
      "---------------------------------------------------------------------\n",
      "Test summary\n",
      "    Passed: 4\n",
      "    Failed: 0\n",
      "[ooooooooook] 100.0% passed\n",
      "\n"
     ]
    }
   ],
   "source": [
    "ok.grade(\"q1d\");"
   ]
  },
  {
   "cell_type": "markdown",
   "metadata": {
    "nbgrader": {
     "grade": false,
     "grade_id": "try-out",
     "locked": true,
     "schema_version": 2,
     "solution": false
    }
   },
   "source": [
    "Now that you've read in the files, you can try some `pd.DataFrame` methods ([docs](https://pandas.pydata.org/pandas-docs/version/0.21/generated/pandas.DataFrame.html)).\n",
    "You can use the `DataFrame.head` method to show the top few lines of the `bus`, `ins`, `ins2vio` and `vio` dataframes. "
   ]
  },
  {
   "cell_type": "code",
   "execution_count": 155,
   "metadata": {},
   "outputs": [
    {
     "data": {
      "text/html": [
       "<div>\n",
       "<style scoped>\n",
       "    .dataframe tbody tr th:only-of-type {\n",
       "        vertical-align: middle;\n",
       "    }\n",
       "\n",
       "    .dataframe tbody tr th {\n",
       "        vertical-align: top;\n",
       "    }\n",
       "\n",
       "    .dataframe thead th {\n",
       "        text-align: right;\n",
       "    }\n",
       "</style>\n",
       "<table border=\"1\" class=\"dataframe\">\n",
       "  <thead>\n",
       "    <tr style=\"text-align: right;\">\n",
       "      <th></th>\n",
       "      <th>business id column</th>\n",
       "      <th>name</th>\n",
       "      <th>address</th>\n",
       "      <th>city</th>\n",
       "      <th>state</th>\n",
       "      <th>postal_code</th>\n",
       "      <th>latitude</th>\n",
       "      <th>longitude</th>\n",
       "      <th>phone_number</th>\n",
       "    </tr>\n",
       "  </thead>\n",
       "  <tbody>\n",
       "    <tr>\n",
       "      <th>0</th>\n",
       "      <td>1000</td>\n",
       "      <td>HEUNG YUEN RESTAURANT</td>\n",
       "      <td>3279 22nd St</td>\n",
       "      <td>San Francisco</td>\n",
       "      <td>CA</td>\n",
       "      <td>94110</td>\n",
       "      <td>37.755282</td>\n",
       "      <td>-122.420493</td>\n",
       "      <td>-9999</td>\n",
       "    </tr>\n",
       "    <tr>\n",
       "      <th>1</th>\n",
       "      <td>100010</td>\n",
       "      <td>ILLY CAFFE SF_PIER 39</td>\n",
       "      <td>PIER 39  K-106-B</td>\n",
       "      <td>San Francisco</td>\n",
       "      <td>CA</td>\n",
       "      <td>94133</td>\n",
       "      <td>-9999.000000</td>\n",
       "      <td>-9999.000000</td>\n",
       "      <td>14154827284</td>\n",
       "    </tr>\n",
       "    <tr>\n",
       "      <th>2</th>\n",
       "      <td>100017</td>\n",
       "      <td>AMICI'S EAST COAST PIZZERIA</td>\n",
       "      <td>475 06th St</td>\n",
       "      <td>San Francisco</td>\n",
       "      <td>CA</td>\n",
       "      <td>94103</td>\n",
       "      <td>-9999.000000</td>\n",
       "      <td>-9999.000000</td>\n",
       "      <td>14155279839</td>\n",
       "    </tr>\n",
       "    <tr>\n",
       "      <th>3</th>\n",
       "      <td>100026</td>\n",
       "      <td>LOCAL CATERING</td>\n",
       "      <td>1566 CARROLL AVE</td>\n",
       "      <td>San Francisco</td>\n",
       "      <td>CA</td>\n",
       "      <td>94124</td>\n",
       "      <td>-9999.000000</td>\n",
       "      <td>-9999.000000</td>\n",
       "      <td>14155860315</td>\n",
       "    </tr>\n",
       "    <tr>\n",
       "      <th>4</th>\n",
       "      <td>100030</td>\n",
       "      <td>OUI OUI! MACARON</td>\n",
       "      <td>2200 JERROLD AVE STE C</td>\n",
       "      <td>San Francisco</td>\n",
       "      <td>CA</td>\n",
       "      <td>94124</td>\n",
       "      <td>-9999.000000</td>\n",
       "      <td>-9999.000000</td>\n",
       "      <td>14159702675</td>\n",
       "    </tr>\n",
       "  </tbody>\n",
       "</table>\n",
       "</div>"
      ],
      "text/plain": [
       "   business id column                         name                 address  \\\n",
       "0                1000        HEUNG YUEN RESTAURANT            3279 22nd St   \n",
       "1              100010        ILLY CAFFE SF_PIER 39        PIER 39  K-106-B   \n",
       "2              100017  AMICI'S EAST COAST PIZZERIA             475 06th St   \n",
       "3              100026               LOCAL CATERING        1566 CARROLL AVE   \n",
       "4              100030             OUI OUI! MACARON  2200 JERROLD AVE STE C   \n",
       "\n",
       "            city state postal_code     latitude    longitude  phone_number  \n",
       "0  San Francisco    CA       94110    37.755282  -122.420493         -9999  \n",
       "1  San Francisco    CA       94133 -9999.000000 -9999.000000   14154827284  \n",
       "2  San Francisco    CA       94103 -9999.000000 -9999.000000   14155279839  \n",
       "3  San Francisco    CA       94124 -9999.000000 -9999.000000   14155860315  \n",
       "4  San Francisco    CA       94124 -9999.000000 -9999.000000   14159702675  "
      ]
     },
     "execution_count": 155,
     "metadata": {},
     "output_type": "execute_result"
    }
   ],
   "source": [
    "bus.head()"
   ]
  },
  {
   "cell_type": "code",
   "execution_count": 156,
   "metadata": {},
   "outputs": [
    {
     "data": {
      "text/html": [
       "<div>\n",
       "<style scoped>\n",
       "    .dataframe tbody tr th:only-of-type {\n",
       "        vertical-align: middle;\n",
       "    }\n",
       "\n",
       "    .dataframe tbody tr th {\n",
       "        vertical-align: top;\n",
       "    }\n",
       "\n",
       "    .dataframe thead th {\n",
       "        text-align: right;\n",
       "    }\n",
       "</style>\n",
       "<table border=\"1\" class=\"dataframe\">\n",
       "  <thead>\n",
       "    <tr style=\"text-align: right;\">\n",
       "      <th></th>\n",
       "      <th>iid</th>\n",
       "      <th>date</th>\n",
       "      <th>score</th>\n",
       "      <th>type</th>\n",
       "    </tr>\n",
       "  </thead>\n",
       "  <tbody>\n",
       "    <tr>\n",
       "      <th>0</th>\n",
       "      <td>100010_20190329</td>\n",
       "      <td>03/29/2019 12:00:00 AM</td>\n",
       "      <td>-1</td>\n",
       "      <td>New Construction</td>\n",
       "    </tr>\n",
       "    <tr>\n",
       "      <th>1</th>\n",
       "      <td>100010_20190403</td>\n",
       "      <td>04/03/2019 12:00:00 AM</td>\n",
       "      <td>100</td>\n",
       "      <td>Routine - Unscheduled</td>\n",
       "    </tr>\n",
       "    <tr>\n",
       "      <th>2</th>\n",
       "      <td>100017_20190417</td>\n",
       "      <td>04/17/2019 12:00:00 AM</td>\n",
       "      <td>-1</td>\n",
       "      <td>New Ownership</td>\n",
       "    </tr>\n",
       "    <tr>\n",
       "      <th>3</th>\n",
       "      <td>100017_20190816</td>\n",
       "      <td>08/16/2019 12:00:00 AM</td>\n",
       "      <td>91</td>\n",
       "      <td>Routine - Unscheduled</td>\n",
       "    </tr>\n",
       "    <tr>\n",
       "      <th>4</th>\n",
       "      <td>100017_20190826</td>\n",
       "      <td>08/26/2019 12:00:00 AM</td>\n",
       "      <td>-1</td>\n",
       "      <td>Reinspection/Followup</td>\n",
       "    </tr>\n",
       "  </tbody>\n",
       "</table>\n",
       "</div>"
      ],
      "text/plain": [
       "               iid                    date  score                   type\n",
       "0  100010_20190329  03/29/2019 12:00:00 AM     -1       New Construction\n",
       "1  100010_20190403  04/03/2019 12:00:00 AM    100  Routine - Unscheduled\n",
       "2  100017_20190417  04/17/2019 12:00:00 AM     -1          New Ownership\n",
       "3  100017_20190816  08/16/2019 12:00:00 AM     91  Routine - Unscheduled\n",
       "4  100017_20190826  08/26/2019 12:00:00 AM     -1  Reinspection/Followup"
      ]
     },
     "execution_count": 156,
     "metadata": {},
     "output_type": "execute_result"
    }
   ],
   "source": [
    "ins.head()"
   ]
  },
  {
   "cell_type": "code",
   "execution_count": 157,
   "metadata": {},
   "outputs": [
    {
     "data": {
      "text/html": [
       "<div>\n",
       "<style scoped>\n",
       "    .dataframe tbody tr th:only-of-type {\n",
       "        vertical-align: middle;\n",
       "    }\n",
       "\n",
       "    .dataframe tbody tr th {\n",
       "        vertical-align: top;\n",
       "    }\n",
       "\n",
       "    .dataframe thead th {\n",
       "        text-align: right;\n",
       "    }\n",
       "</style>\n",
       "<table border=\"1\" class=\"dataframe\">\n",
       "  <thead>\n",
       "    <tr style=\"text-align: right;\">\n",
       "      <th></th>\n",
       "      <th>iid</th>\n",
       "      <th>vid</th>\n",
       "    </tr>\n",
       "  </thead>\n",
       "  <tbody>\n",
       "    <tr>\n",
       "      <th>0</th>\n",
       "      <td>97975_20190725</td>\n",
       "      <td>103124</td>\n",
       "    </tr>\n",
       "    <tr>\n",
       "      <th>1</th>\n",
       "      <td>85986_20161011</td>\n",
       "      <td>103114</td>\n",
       "    </tr>\n",
       "    <tr>\n",
       "      <th>2</th>\n",
       "      <td>95754_20190327</td>\n",
       "      <td>103124</td>\n",
       "    </tr>\n",
       "    <tr>\n",
       "      <th>3</th>\n",
       "      <td>77005_20170429</td>\n",
       "      <td>103120</td>\n",
       "    </tr>\n",
       "    <tr>\n",
       "      <th>4</th>\n",
       "      <td>4794_20181030</td>\n",
       "      <td>103138</td>\n",
       "    </tr>\n",
       "  </tbody>\n",
       "</table>\n",
       "</div>"
      ],
      "text/plain": [
       "              iid     vid\n",
       "0  97975_20190725  103124\n",
       "1  85986_20161011  103114\n",
       "2  95754_20190327  103124\n",
       "3  77005_20170429  103120\n",
       "4   4794_20181030  103138"
      ]
     },
     "execution_count": 157,
     "metadata": {},
     "output_type": "execute_result"
    }
   ],
   "source": [
    "ins2vio.head()"
   ]
  },
  {
   "cell_type": "code",
   "execution_count": 158,
   "metadata": {},
   "outputs": [
    {
     "data": {
      "text/html": [
       "<div>\n",
       "<style scoped>\n",
       "    .dataframe tbody tr th:only-of-type {\n",
       "        vertical-align: middle;\n",
       "    }\n",
       "\n",
       "    .dataframe tbody tr th {\n",
       "        vertical-align: top;\n",
       "    }\n",
       "\n",
       "    .dataframe thead th {\n",
       "        text-align: right;\n",
       "    }\n",
       "</style>\n",
       "<table border=\"1\" class=\"dataframe\">\n",
       "  <thead>\n",
       "    <tr style=\"text-align: right;\">\n",
       "      <th></th>\n",
       "      <th>description</th>\n",
       "      <th>risk_category</th>\n",
       "      <th>vid</th>\n",
       "    </tr>\n",
       "  </thead>\n",
       "  <tbody>\n",
       "    <tr>\n",
       "      <th>0</th>\n",
       "      <td>Consumer advisory not provided for raw or unde...</td>\n",
       "      <td>Moderate Risk</td>\n",
       "      <td>103128</td>\n",
       "    </tr>\n",
       "    <tr>\n",
       "      <th>1</th>\n",
       "      <td>Contaminated or adulterated food</td>\n",
       "      <td>High Risk</td>\n",
       "      <td>103108</td>\n",
       "    </tr>\n",
       "    <tr>\n",
       "      <th>2</th>\n",
       "      <td>Discharge from employee nose mouth or eye</td>\n",
       "      <td>Moderate Risk</td>\n",
       "      <td>103117</td>\n",
       "    </tr>\n",
       "    <tr>\n",
       "      <th>3</th>\n",
       "      <td>Employee eating or smoking</td>\n",
       "      <td>Moderate Risk</td>\n",
       "      <td>103118</td>\n",
       "    </tr>\n",
       "    <tr>\n",
       "      <th>4</th>\n",
       "      <td>Food in poor condition</td>\n",
       "      <td>Moderate Risk</td>\n",
       "      <td>103123</td>\n",
       "    </tr>\n",
       "  </tbody>\n",
       "</table>\n",
       "</div>"
      ],
      "text/plain": [
       "                                         description  risk_category     vid\n",
       "0  Consumer advisory not provided for raw or unde...  Moderate Risk  103128\n",
       "1                   Contaminated or adulterated food      High Risk  103108\n",
       "2          Discharge from employee nose mouth or eye  Moderate Risk  103117\n",
       "3                         Employee eating or smoking  Moderate Risk  103118\n",
       "4                             Food in poor condition  Moderate Risk  103123"
      ]
     },
     "execution_count": 158,
     "metadata": {},
     "output_type": "execute_result"
    }
   ],
   "source": [
    "vio.head()"
   ]
  },
  {
   "cell_type": "markdown",
   "metadata": {
    "nbgrader": {
     "grade": false,
     "grade_id": "q1e",
     "locked": true,
     "schema_version": 2,
     "solution": false
    }
   },
   "source": [
    "<br/><br/><br/>\n",
    "\n",
    "---\n",
    "\n",
    "## Question 1e: Identifying Issues with the Data"
   ]
  },
  {
   "cell_type": "markdown",
   "metadata": {
    "deletable": false,
    "editable": false,
    "nbgrader": {
     "grade": false,
     "grade_id": "cell-use-head",
     "locked": true,
     "schema_version": 2,
     "solution": false
    }
   },
   "source": [
    "Use the `head` command on your four files again. This time, describe at least one potential problem with the data you see. Consider issues with missing values and bad data.\n",
    "\n",
    "Please write your answer in the markdown cell below. You may create new cells below your answer to run code, but **please never add cells between a question cell and the answer cell below it.**\n",
    "\n",
    "<!--\n",
    "BEGIN QUESTION\n",
    "name: q1e\n",
    "manual: True\n",
    "points: 1\n",
    "-->\n",
    "<!-- EXPORT TO PDF -->"
   ]
  },
  {
   "cell_type": "markdown",
   "metadata": {
    "ExecuteTime": {
     "end_time": "2018-08-18T01:21:53.925582Z",
     "start_time": "2018-08-18T01:21:53.918456Z"
    },
    "nbgrader": {
     "grade": true,
     "grade_id": "q1e-answer",
     "locked": false,
     "points": 1,
     "schema_version": 2,
     "solution": true
    },
    "tags": [
     "student",
     "written"
    ]
   },
   "source": [
    "*The problems come from these files:*\n",
    "1. ins.csv.bz2\n",
    "\n",
    "*There exists score column that has -1 as the value. The minimum value for a score is 0 (really bad score), not -1, up to 100 (best score). The -1 value can affect the average score for a certain location if we want to take the average score.*\n",
    "\n",
    "2. bus.csv.bz2 \n",
    "\n",
    "*There exists a negative phone number (-9999) which is not possible since there is no negative phone number. Then, the negative -9999.00 for the latitude and longitude are not possible for 2 different postal codes to have the same latitude and longitude.*"
   ]
  },
  {
   "cell_type": "code",
   "execution_count": 159,
   "metadata": {},
   "outputs": [
    {
     "data": {
      "text/html": [
       "<div>\n",
       "<style scoped>\n",
       "    .dataframe tbody tr th:only-of-type {\n",
       "        vertical-align: middle;\n",
       "    }\n",
       "\n",
       "    .dataframe tbody tr th {\n",
       "        vertical-align: top;\n",
       "    }\n",
       "\n",
       "    .dataframe thead th {\n",
       "        text-align: right;\n",
       "    }\n",
       "</style>\n",
       "<table border=\"1\" class=\"dataframe\">\n",
       "  <thead>\n",
       "    <tr style=\"text-align: right;\">\n",
       "      <th></th>\n",
       "      <th>iid</th>\n",
       "      <th>date</th>\n",
       "      <th>score</th>\n",
       "      <th>type</th>\n",
       "    </tr>\n",
       "  </thead>\n",
       "  <tbody>\n",
       "    <tr>\n",
       "      <th>0</th>\n",
       "      <td>100010_20190329</td>\n",
       "      <td>03/29/2019 12:00:00 AM</td>\n",
       "      <td>-1</td>\n",
       "      <td>New Construction</td>\n",
       "    </tr>\n",
       "    <tr>\n",
       "      <th>1</th>\n",
       "      <td>100010_20190403</td>\n",
       "      <td>04/03/2019 12:00:00 AM</td>\n",
       "      <td>100</td>\n",
       "      <td>Routine - Unscheduled</td>\n",
       "    </tr>\n",
       "    <tr>\n",
       "      <th>2</th>\n",
       "      <td>100017_20190417</td>\n",
       "      <td>04/17/2019 12:00:00 AM</td>\n",
       "      <td>-1</td>\n",
       "      <td>New Ownership</td>\n",
       "    </tr>\n",
       "    <tr>\n",
       "      <th>3</th>\n",
       "      <td>100017_20190816</td>\n",
       "      <td>08/16/2019 12:00:00 AM</td>\n",
       "      <td>91</td>\n",
       "      <td>Routine - Unscheduled</td>\n",
       "    </tr>\n",
       "    <tr>\n",
       "      <th>4</th>\n",
       "      <td>100017_20190826</td>\n",
       "      <td>08/26/2019 12:00:00 AM</td>\n",
       "      <td>-1</td>\n",
       "      <td>Reinspection/Followup</td>\n",
       "    </tr>\n",
       "  </tbody>\n",
       "</table>\n",
       "</div>"
      ],
      "text/plain": [
       "               iid                    date  score                   type\n",
       "0  100010_20190329  03/29/2019 12:00:00 AM     -1       New Construction\n",
       "1  100010_20190403  04/03/2019 12:00:00 AM    100  Routine - Unscheduled\n",
       "2  100017_20190417  04/17/2019 12:00:00 AM     -1          New Ownership\n",
       "3  100017_20190816  08/16/2019 12:00:00 AM     91  Routine - Unscheduled\n",
       "4  100017_20190826  08/26/2019 12:00:00 AM     -1  Reinspection/Followup"
      ]
     },
     "execution_count": 159,
     "metadata": {},
     "output_type": "execute_result"
    }
   ],
   "source": [
    "# Show work here.\n",
    "ins.head()"
   ]
  },
  {
   "cell_type": "code",
   "execution_count": 160,
   "metadata": {},
   "outputs": [
    {
     "data": {
      "text/html": [
       "<div>\n",
       "<style scoped>\n",
       "    .dataframe tbody tr th:only-of-type {\n",
       "        vertical-align: middle;\n",
       "    }\n",
       "\n",
       "    .dataframe tbody tr th {\n",
       "        vertical-align: top;\n",
       "    }\n",
       "\n",
       "    .dataframe thead th {\n",
       "        text-align: right;\n",
       "    }\n",
       "</style>\n",
       "<table border=\"1\" class=\"dataframe\">\n",
       "  <thead>\n",
       "    <tr style=\"text-align: right;\">\n",
       "      <th></th>\n",
       "      <th>business id column</th>\n",
       "      <th>name</th>\n",
       "      <th>address</th>\n",
       "      <th>city</th>\n",
       "      <th>state</th>\n",
       "      <th>postal_code</th>\n",
       "      <th>latitude</th>\n",
       "      <th>longitude</th>\n",
       "      <th>phone_number</th>\n",
       "    </tr>\n",
       "  </thead>\n",
       "  <tbody>\n",
       "    <tr>\n",
       "      <th>0</th>\n",
       "      <td>1000</td>\n",
       "      <td>HEUNG YUEN RESTAURANT</td>\n",
       "      <td>3279 22nd St</td>\n",
       "      <td>San Francisco</td>\n",
       "      <td>CA</td>\n",
       "      <td>94110</td>\n",
       "      <td>37.755282</td>\n",
       "      <td>-122.420493</td>\n",
       "      <td>-9999</td>\n",
       "    </tr>\n",
       "    <tr>\n",
       "      <th>1</th>\n",
       "      <td>100010</td>\n",
       "      <td>ILLY CAFFE SF_PIER 39</td>\n",
       "      <td>PIER 39  K-106-B</td>\n",
       "      <td>San Francisco</td>\n",
       "      <td>CA</td>\n",
       "      <td>94133</td>\n",
       "      <td>-9999.000000</td>\n",
       "      <td>-9999.000000</td>\n",
       "      <td>14154827284</td>\n",
       "    </tr>\n",
       "    <tr>\n",
       "      <th>2</th>\n",
       "      <td>100017</td>\n",
       "      <td>AMICI'S EAST COAST PIZZERIA</td>\n",
       "      <td>475 06th St</td>\n",
       "      <td>San Francisco</td>\n",
       "      <td>CA</td>\n",
       "      <td>94103</td>\n",
       "      <td>-9999.000000</td>\n",
       "      <td>-9999.000000</td>\n",
       "      <td>14155279839</td>\n",
       "    </tr>\n",
       "    <tr>\n",
       "      <th>3</th>\n",
       "      <td>100026</td>\n",
       "      <td>LOCAL CATERING</td>\n",
       "      <td>1566 CARROLL AVE</td>\n",
       "      <td>San Francisco</td>\n",
       "      <td>CA</td>\n",
       "      <td>94124</td>\n",
       "      <td>-9999.000000</td>\n",
       "      <td>-9999.000000</td>\n",
       "      <td>14155860315</td>\n",
       "    </tr>\n",
       "    <tr>\n",
       "      <th>4</th>\n",
       "      <td>100030</td>\n",
       "      <td>OUI OUI! MACARON</td>\n",
       "      <td>2200 JERROLD AVE STE C</td>\n",
       "      <td>San Francisco</td>\n",
       "      <td>CA</td>\n",
       "      <td>94124</td>\n",
       "      <td>-9999.000000</td>\n",
       "      <td>-9999.000000</td>\n",
       "      <td>14159702675</td>\n",
       "    </tr>\n",
       "  </tbody>\n",
       "</table>\n",
       "</div>"
      ],
      "text/plain": [
       "   business id column                         name                 address  \\\n",
       "0                1000        HEUNG YUEN RESTAURANT            3279 22nd St   \n",
       "1              100010        ILLY CAFFE SF_PIER 39        PIER 39  K-106-B   \n",
       "2              100017  AMICI'S EAST COAST PIZZERIA             475 06th St   \n",
       "3              100026               LOCAL CATERING        1566 CARROLL AVE   \n",
       "4              100030             OUI OUI! MACARON  2200 JERROLD AVE STE C   \n",
       "\n",
       "            city state postal_code     latitude    longitude  phone_number  \n",
       "0  San Francisco    CA       94110    37.755282  -122.420493         -9999  \n",
       "1  San Francisco    CA       94133 -9999.000000 -9999.000000   14154827284  \n",
       "2  San Francisco    CA       94103 -9999.000000 -9999.000000   14155279839  \n",
       "3  San Francisco    CA       94124 -9999.000000 -9999.000000   14155860315  \n",
       "4  San Francisco    CA       94124 -9999.000000 -9999.000000   14159702675  "
      ]
     },
     "execution_count": 160,
     "metadata": {},
     "output_type": "execute_result"
    }
   ],
   "source": [
    "bus.head()"
   ]
  },
  {
   "cell_type": "markdown",
   "metadata": {
    "nbgrader": {
     "grade": false,
     "grade_id": "business-data",
     "locked": true,
     "schema_version": 2,
     "solution": false
    }
   },
   "source": [
    "<br/><br/><br/>\n",
    "\n",
    "---\n",
    "\n",
    "<br/><br/><br/>\n",
    "\n",
    "# 2: Examining the Business Data File\n",
    "\n",
    "From its name alone, we expect the `bus.csv` file to contain information about the restaurants. Let's investigate the granularity of this dataset."
   ]
  },
  {
   "cell_type": "code",
   "execution_count": 161,
   "metadata": {},
   "outputs": [
    {
     "data": {
      "text/html": [
       "<div>\n",
       "<style scoped>\n",
       "    .dataframe tbody tr th:only-of-type {\n",
       "        vertical-align: middle;\n",
       "    }\n",
       "\n",
       "    .dataframe tbody tr th {\n",
       "        vertical-align: top;\n",
       "    }\n",
       "\n",
       "    .dataframe thead th {\n",
       "        text-align: right;\n",
       "    }\n",
       "</style>\n",
       "<table border=\"1\" class=\"dataframe\">\n",
       "  <thead>\n",
       "    <tr style=\"text-align: right;\">\n",
       "      <th></th>\n",
       "      <th>business id column</th>\n",
       "      <th>name</th>\n",
       "      <th>address</th>\n",
       "      <th>city</th>\n",
       "      <th>state</th>\n",
       "      <th>postal_code</th>\n",
       "      <th>latitude</th>\n",
       "      <th>longitude</th>\n",
       "      <th>phone_number</th>\n",
       "    </tr>\n",
       "  </thead>\n",
       "  <tbody>\n",
       "    <tr>\n",
       "      <th>0</th>\n",
       "      <td>1000</td>\n",
       "      <td>HEUNG YUEN RESTAURANT</td>\n",
       "      <td>3279 22nd St</td>\n",
       "      <td>San Francisco</td>\n",
       "      <td>CA</td>\n",
       "      <td>94110</td>\n",
       "      <td>37.755282</td>\n",
       "      <td>-122.420493</td>\n",
       "      <td>-9999</td>\n",
       "    </tr>\n",
       "    <tr>\n",
       "      <th>1</th>\n",
       "      <td>100010</td>\n",
       "      <td>ILLY CAFFE SF_PIER 39</td>\n",
       "      <td>PIER 39  K-106-B</td>\n",
       "      <td>San Francisco</td>\n",
       "      <td>CA</td>\n",
       "      <td>94133</td>\n",
       "      <td>-9999.000000</td>\n",
       "      <td>-9999.000000</td>\n",
       "      <td>14154827284</td>\n",
       "    </tr>\n",
       "    <tr>\n",
       "      <th>2</th>\n",
       "      <td>100017</td>\n",
       "      <td>AMICI'S EAST COAST PIZZERIA</td>\n",
       "      <td>475 06th St</td>\n",
       "      <td>San Francisco</td>\n",
       "      <td>CA</td>\n",
       "      <td>94103</td>\n",
       "      <td>-9999.000000</td>\n",
       "      <td>-9999.000000</td>\n",
       "      <td>14155279839</td>\n",
       "    </tr>\n",
       "    <tr>\n",
       "      <th>3</th>\n",
       "      <td>100026</td>\n",
       "      <td>LOCAL CATERING</td>\n",
       "      <td>1566 CARROLL AVE</td>\n",
       "      <td>San Francisco</td>\n",
       "      <td>CA</td>\n",
       "      <td>94124</td>\n",
       "      <td>-9999.000000</td>\n",
       "      <td>-9999.000000</td>\n",
       "      <td>14155860315</td>\n",
       "    </tr>\n",
       "    <tr>\n",
       "      <th>4</th>\n",
       "      <td>100030</td>\n",
       "      <td>OUI OUI! MACARON</td>\n",
       "      <td>2200 JERROLD AVE STE C</td>\n",
       "      <td>San Francisco</td>\n",
       "      <td>CA</td>\n",
       "      <td>94124</td>\n",
       "      <td>-9999.000000</td>\n",
       "      <td>-9999.000000</td>\n",
       "      <td>14159702675</td>\n",
       "    </tr>\n",
       "  </tbody>\n",
       "</table>\n",
       "</div>"
      ],
      "text/plain": [
       "   business id column                         name                 address  \\\n",
       "0                1000        HEUNG YUEN RESTAURANT            3279 22nd St   \n",
       "1              100010        ILLY CAFFE SF_PIER 39        PIER 39  K-106-B   \n",
       "2              100017  AMICI'S EAST COAST PIZZERIA             475 06th St   \n",
       "3              100026               LOCAL CATERING        1566 CARROLL AVE   \n",
       "4              100030             OUI OUI! MACARON  2200 JERROLD AVE STE C   \n",
       "\n",
       "            city state postal_code     latitude    longitude  phone_number  \n",
       "0  San Francisco    CA       94110    37.755282  -122.420493         -9999  \n",
       "1  San Francisco    CA       94133 -9999.000000 -9999.000000   14154827284  \n",
       "2  San Francisco    CA       94103 -9999.000000 -9999.000000   14155279839  \n",
       "3  San Francisco    CA       94124 -9999.000000 -9999.000000   14155860315  \n",
       "4  San Francisco    CA       94124 -9999.000000 -9999.000000   14159702675  "
      ]
     },
     "execution_count": 161,
     "metadata": {},
     "output_type": "execute_result"
    }
   ],
   "source": [
    "bus.head()"
   ]
  },
  {
   "cell_type": "markdown",
   "metadata": {
    "deletable": false,
    "editable": false
   },
   "source": [
    "<br/><br/><br/>\n",
    "\n",
    "---\n",
    "\n",
    "## Question 2a\n",
    "\n",
    "The `bus` dataframe contains a column called `business id column` which probably corresponds to a unique business id.  However, let's first rename that column to `bid`.  Modify the `bus` dataframe by renaming that column to `bid`.\n",
    "\n",
    "**Note**: In practice we might want to do this renaming when the table is loaded but for grading purposes we will do it here.\n",
    "\n",
    "<!--\n",
    "BEGIN QUESTION\n",
    "name: q2a\n",
    "points: 1\n",
    "-->"
   ]
  },
  {
   "cell_type": "code",
   "execution_count": 162,
   "metadata": {},
   "outputs": [
    {
     "data": {
      "text/html": [
       "<div>\n",
       "<style scoped>\n",
       "    .dataframe tbody tr th:only-of-type {\n",
       "        vertical-align: middle;\n",
       "    }\n",
       "\n",
       "    .dataframe tbody tr th {\n",
       "        vertical-align: top;\n",
       "    }\n",
       "\n",
       "    .dataframe thead th {\n",
       "        text-align: right;\n",
       "    }\n",
       "</style>\n",
       "<table border=\"1\" class=\"dataframe\">\n",
       "  <thead>\n",
       "    <tr style=\"text-align: right;\">\n",
       "      <th></th>\n",
       "      <th>bid</th>\n",
       "      <th>name</th>\n",
       "      <th>address</th>\n",
       "      <th>city</th>\n",
       "      <th>state</th>\n",
       "      <th>postal_code</th>\n",
       "      <th>latitude</th>\n",
       "      <th>longitude</th>\n",
       "      <th>phone_number</th>\n",
       "    </tr>\n",
       "  </thead>\n",
       "  <tbody>\n",
       "    <tr>\n",
       "      <th>0</th>\n",
       "      <td>1000</td>\n",
       "      <td>HEUNG YUEN RESTAURANT</td>\n",
       "      <td>3279 22nd St</td>\n",
       "      <td>San Francisco</td>\n",
       "      <td>CA</td>\n",
       "      <td>94110</td>\n",
       "      <td>37.755282</td>\n",
       "      <td>-122.420493</td>\n",
       "      <td>-9999</td>\n",
       "    </tr>\n",
       "    <tr>\n",
       "      <th>1</th>\n",
       "      <td>100010</td>\n",
       "      <td>ILLY CAFFE SF_PIER 39</td>\n",
       "      <td>PIER 39  K-106-B</td>\n",
       "      <td>San Francisco</td>\n",
       "      <td>CA</td>\n",
       "      <td>94133</td>\n",
       "      <td>-9999.000000</td>\n",
       "      <td>-9999.000000</td>\n",
       "      <td>14154827284</td>\n",
       "    </tr>\n",
       "    <tr>\n",
       "      <th>2</th>\n",
       "      <td>100017</td>\n",
       "      <td>AMICI'S EAST COAST PIZZERIA</td>\n",
       "      <td>475 06th St</td>\n",
       "      <td>San Francisco</td>\n",
       "      <td>CA</td>\n",
       "      <td>94103</td>\n",
       "      <td>-9999.000000</td>\n",
       "      <td>-9999.000000</td>\n",
       "      <td>14155279839</td>\n",
       "    </tr>\n",
       "    <tr>\n",
       "      <th>3</th>\n",
       "      <td>100026</td>\n",
       "      <td>LOCAL CATERING</td>\n",
       "      <td>1566 CARROLL AVE</td>\n",
       "      <td>San Francisco</td>\n",
       "      <td>CA</td>\n",
       "      <td>94124</td>\n",
       "      <td>-9999.000000</td>\n",
       "      <td>-9999.000000</td>\n",
       "      <td>14155860315</td>\n",
       "    </tr>\n",
       "    <tr>\n",
       "      <th>4</th>\n",
       "      <td>100030</td>\n",
       "      <td>OUI OUI! MACARON</td>\n",
       "      <td>2200 JERROLD AVE STE C</td>\n",
       "      <td>San Francisco</td>\n",
       "      <td>CA</td>\n",
       "      <td>94124</td>\n",
       "      <td>-9999.000000</td>\n",
       "      <td>-9999.000000</td>\n",
       "      <td>14159702675</td>\n",
       "    </tr>\n",
       "  </tbody>\n",
       "</table>\n",
       "</div>"
      ],
      "text/plain": [
       "      bid                         name                 address           city  \\\n",
       "0    1000        HEUNG YUEN RESTAURANT            3279 22nd St  San Francisco   \n",
       "1  100010        ILLY CAFFE SF_PIER 39        PIER 39  K-106-B  San Francisco   \n",
       "2  100017  AMICI'S EAST COAST PIZZERIA             475 06th St  San Francisco   \n",
       "3  100026               LOCAL CATERING        1566 CARROLL AVE  San Francisco   \n",
       "4  100030             OUI OUI! MACARON  2200 JERROLD AVE STE C  San Francisco   \n",
       "\n",
       "  state postal_code     latitude    longitude  phone_number  \n",
       "0    CA       94110    37.755282  -122.420493         -9999  \n",
       "1    CA       94133 -9999.000000 -9999.000000   14154827284  \n",
       "2    CA       94103 -9999.000000 -9999.000000   14155279839  \n",
       "3    CA       94124 -9999.000000 -9999.000000   14155860315  \n",
       "4    CA       94124 -9999.000000 -9999.000000   14159702675  "
      ]
     },
     "execution_count": 162,
     "metadata": {},
     "output_type": "execute_result"
    }
   ],
   "source": [
    "bus = bus.rename({\"business id column\":\"bid\"}, axis = 'columns')\n",
    "bus.head()"
   ]
  },
  {
   "cell_type": "code",
   "execution_count": 163,
   "metadata": {
    "deletable": false,
    "editable": false
   },
   "outputs": [
    {
     "name": "stdout",
     "output_type": "stream",
     "text": [
      "~~~~~~~~~~~~~~~~~~~~~~~~~~~~~~~~~~~~~~~~~~~~~~~~~~~~~~~~~~~~~~~~~~~~~\n",
      "Running tests\n",
      "\n",
      "---------------------------------------------------------------------\n",
      "Test summary\n",
      "    Passed: 1\n",
      "    Failed: 0\n",
      "[ooooooooook] 100.0% passed\n",
      "\n"
     ]
    }
   ],
   "source": [
    "ok.grade(\"q2a\");"
   ]
  },
  {
   "cell_type": "markdown",
   "metadata": {
    "deletable": false,
    "editable": false,
    "nbgrader": {
     "grade": false,
     "grade_id": "q2a",
     "locked": true,
     "schema_version": 2,
     "solution": false
    }
   },
   "source": [
    "<br/><br/><br/>\n",
    "\n",
    "---\n",
    "\n",
    "## Question 2b\n",
    "\n",
    "Examining the entries in `bus`, is the `bid` unique for each record (i.e. each row of data)? Your code should compute the answer, i.e. don't just hard code `True` or `False`.\n",
    "\n",
    "Hint: use `value_counts()` or `unique()` to determine if the `bid` series has any duplicates.\n",
    "\n",
    "<!--\n",
    "BEGIN QUESTION\n",
    "name: q2b\n",
    "points: 1\n",
    "-->"
   ]
  },
  {
   "cell_type": "code",
   "execution_count": 164,
   "metadata": {
    "ExecuteTime": {
     "end_time": "2018-08-18T01:21:53.936572Z",
     "start_time": "2018-08-18T01:21:53.927344Z"
    },
    "nbgrader": {
     "grade": false,
     "grade_id": "q2a-answer",
     "locked": false,
     "schema_version": 2,
     "solution": true
    },
    "tags": [
     "solution"
    ]
   },
   "outputs": [
    {
     "data": {
      "text/plain": [
       "True"
      ]
     },
     "execution_count": 164,
     "metadata": {},
     "output_type": "execute_result"
    }
   ],
   "source": [
    "is_bid_unique = all(bus['bid'].value_counts() == 1)\n",
    "is_bid_unique"
   ]
  },
  {
   "cell_type": "code",
   "execution_count": 165,
   "metadata": {
    "deletable": false,
    "editable": false
   },
   "outputs": [
    {
     "name": "stdout",
     "output_type": "stream",
     "text": [
      "~~~~~~~~~~~~~~~~~~~~~~~~~~~~~~~~~~~~~~~~~~~~~~~~~~~~~~~~~~~~~~~~~~~~~\n",
      "Running tests\n",
      "\n",
      "---------------------------------------------------------------------\n",
      "Test summary\n",
      "    Passed: 1\n",
      "    Failed: 0\n",
      "[ooooooooook] 100.0% passed\n",
      "\n"
     ]
    }
   ],
   "source": [
    "ok.grade(\"q2b\");"
   ]
  },
  {
   "cell_type": "markdown",
   "metadata": {
    "deletable": false,
    "editable": false
   },
   "source": [
    "<br/><br/><br/>\n",
    "\n",
    "---\n",
    "\n",
    "\n",
    "## Question 2c\n",
    "\n",
    "In the two cells below create two **series** \n",
    "\n",
    "1. where the index is the `name` of the business and the value is the number of records with that `name`\n",
    "2. where the index is the `address` of the business and the value is the number of records with that `address`\n",
    "\n",
    "Order both series in descending order by count. You may need to use `groupby()`, `size()`, `sort_values()`, or `value_counts()`. \n",
    "\n",
    "**Step 1**\n",
    "\n",
    "<!--\n",
    "BEGIN QUESTION\n",
    "name: q2ci\n",
    "points: 1\n",
    "-->"
   ]
  },
  {
   "cell_type": "code",
   "execution_count": 166,
   "metadata": {},
   "outputs": [
    {
     "data": {
      "text/plain": [
       "name\n",
       "Peet's Coffee & Tea                                       20\n",
       "Starbucks Coffee                                          13\n",
       "Jamba Juice                                               10\n",
       "McDonald's                                                10\n",
       "STARBUCKS                                                  9\n",
       "Proper Food                                                9\n",
       "Mixt Greens/Mixt                                           8\n",
       "Specialty's Cafe & Bakery                                  8\n",
       "Philz Coffee                                               7\n",
       "Starbucks                                                  7\n",
       "Blue Bottle Coffee                                         7\n",
       "The Organic Coup                                           7\n",
       "Whole Foods Market                                         7\n",
       "BlueStar Refreshment Services @ Uber Technologies, Inc     6\n",
       "Lee's Deli                                                 6\n",
       "Bon Appetit @ Twitter                                      6\n",
       "JW Marriott SF Union Square                                5\n",
       "STARBUCKS COFFEE                                           5\n",
       "Bon Appetit Management Co                                  5\n",
       "Annie's Hot Dogs & Pretzels                                5\n",
       "dtype: int64"
      ]
     },
     "execution_count": 166,
     "metadata": {},
     "output_type": "execute_result"
    }
   ],
   "source": [
    "name_counts = bus.groupby('name').size().sort_values(ascending = False)\n",
    "#name_counts = bus['name'].value_counts().sort_values(ascending = False)\n",
    "name_counts.head(20)"
   ]
  },
  {
   "cell_type": "code",
   "execution_count": 167,
   "metadata": {
    "deletable": false,
    "editable": false
   },
   "outputs": [
    {
     "name": "stdout",
     "output_type": "stream",
     "text": [
      "~~~~~~~~~~~~~~~~~~~~~~~~~~~~~~~~~~~~~~~~~~~~~~~~~~~~~~~~~~~~~~~~~~~~~\n",
      "Running tests\n",
      "\n",
      "---------------------------------------------------------------------\n",
      "Test summary\n",
      "    Passed: 2\n",
      "    Failed: 0\n",
      "[ooooooooook] 100.0% passed\n",
      "\n"
     ]
    }
   ],
   "source": [
    "ok.grade(\"q2ci\");"
   ]
  },
  {
   "cell_type": "markdown",
   "metadata": {
    "deletable": false,
    "editable": false
   },
   "source": [
    "**Step 2**\n",
    "\n",
    "<!--\n",
    "BEGIN QUESTION\n",
    "name: q2cii\n",
    "points: 1\n",
    "-->"
   ]
  },
  {
   "cell_type": "code",
   "execution_count": 168,
   "metadata": {},
   "outputs": [
    {
     "data": {
      "text/plain": [
       "address\n",
       "Off The Grid              39\n",
       "428 11th St               34\n",
       "3251 20th Ave             17\n",
       "2948 Folsom St            17\n",
       "Pier 41                   16\n",
       "103 Horne Ave             14\n",
       "24 Willie Mays Plaza      13\n",
       "Off the Grid              11\n",
       "1 United Nations Plaza    10\n",
       "2948 Folsom St.           10\n",
       "dtype: int64"
      ]
     },
     "execution_count": 168,
     "metadata": {},
     "output_type": "execute_result"
    }
   ],
   "source": [
    "address_counts = bus.groupby('address').size().sort_values(ascending = False)\n",
    "address_counts.head(10)"
   ]
  },
  {
   "cell_type": "code",
   "execution_count": 169,
   "metadata": {
    "deletable": false,
    "editable": false
   },
   "outputs": [
    {
     "name": "stdout",
     "output_type": "stream",
     "text": [
      "~~~~~~~~~~~~~~~~~~~~~~~~~~~~~~~~~~~~~~~~~~~~~~~~~~~~~~~~~~~~~~~~~~~~~\n",
      "Running tests\n",
      "\n",
      "---------------------------------------------------------------------\n",
      "Test summary\n",
      "    Passed: 2\n",
      "    Failed: 0\n",
      "[ooooooooook] 100.0% passed\n",
      "\n"
     ]
    }
   ],
   "source": [
    "ok.grade(\"q2cii\");"
   ]
  },
  {
   "cell_type": "markdown",
   "metadata": {
    "deletable": false,
    "editable": false,
    "nbgrader": {
     "grade": false,
     "grade_id": "q2b",
     "locked": true,
     "schema_version": 2,
     "solution": false
    },
    "tags": [
     "written"
    ]
   },
   "source": [
    "<br/><br/><br/>\n",
    "\n",
    "---\n",
    "\n",
    "\n",
    "## Question 2d\n",
    "\n",
    "Based on the above calculations answer each of the following questions by filling the value in the variable.\n",
    "\n",
    "1. What does each record represent?  \n",
    "1. What is the minimal primary key?\n",
    "\n",
    "<!--\n",
    "BEGIN QUESTION\n",
    "name: q2d\n",
    "points: 2\n",
    "-->"
   ]
  },
  {
   "cell_type": "code",
   "execution_count": 170,
   "metadata": {},
   "outputs": [],
   "source": [
    "# What does each record represent?  Valid answers are:\n",
    "#    \"One location of a restaurant.\"\n",
    "#    \"A chain of restaurants.\"\n",
    "#    \"A city block.\"\n",
    "q2d_part1 = \"One location of a restaurant.\"\n",
    "\n",
    "# What is the minimal primary key? Valid answers are:\n",
    "#    \"bid\"\n",
    "#    \"bid, name\"\n",
    "#    \"bid, name, address\"\n",
    "q2d_part2 = \"bid\""
   ]
  },
  {
   "cell_type": "code",
   "execution_count": 171,
   "metadata": {
    "deletable": false,
    "editable": false
   },
   "outputs": [
    {
     "name": "stdout",
     "output_type": "stream",
     "text": [
      "~~~~~~~~~~~~~~~~~~~~~~~~~~~~~~~~~~~~~~~~~~~~~~~~~~~~~~~~~~~~~~~~~~~~~\n",
      "Running tests\n",
      "\n",
      "---------------------------------------------------------------------\n",
      "Test summary\n",
      "    Passed: 2\n",
      "    Failed: 0\n",
      "[ooooooooook] 100.0% passed\n",
      "\n"
     ]
    }
   ],
   "source": [
    "ok.grade(\"q2d\");"
   ]
  },
  {
   "cell_type": "markdown",
   "metadata": {
    "nbgrader": {
     "grade": false,
     "grade_id": "business-data",
     "locked": true,
     "schema_version": 2,
     "solution": false
    }
   },
   "source": [
    "<br/><br/><br/>\n",
    "\n",
    "---\n",
    "\n",
    "<br/><br/><br/>\n",
    "\n",
    "# 3: Cleaning the Business Data Postal Codes\n",
    "\n",
    "The business data contains postal code information that we can use to aggregate the ratings over regions of the city.  Let's examine and clean the postal code field.  The postal code (sometimes also called a ZIP code) partitions the city into regions:\n",
    "\n",
    "<img src=\"https://www.usmapguide.com/wp-content/uploads/2019/03/printable-san-francisco-zip-code-map.jpg\" alt=\"ZIP Code Map\" style=\"width: 600px\">"
   ]
  },
  {
   "cell_type": "markdown",
   "metadata": {
    "deletable": false,
    "editable": false,
    "nbgrader": {
     "grade": false,
     "grade_id": "cell-a4c4a09f1ecf2f4b",
     "locked": true,
     "schema_version": 2,
     "solution": false
    }
   },
   "source": [
    "<br/><br/><br/>\n",
    "\n",
    "---\n",
    "\n",
    "\n",
    "## Question 3a\n",
    "\n",
    "How many restaurants are in each ZIP code? \n",
    "\n",
    "In the cell below, create a **series** where the index is the postal code and the value is the number of records with that postal code in descending order of count. You may need to use `groupby()`, `size()`, or `value_counts()`. Do you notice any odd/invalid zip codes?\n",
    "\n",
    "<!--\n",
    "BEGIN QUESTION\n",
    "name: q3a\n",
    "points: 1\n",
    "-->"
   ]
  },
  {
   "cell_type": "code",
   "execution_count": 172,
   "metadata": {
    "nbgrader": {
     "grade": false,
     "grade_id": "cell-d2151d673e6c36a1",
     "locked": false,
     "schema_version": 2,
     "solution": true
    }
   },
   "outputs": [
    {
     "name": "stdout",
     "output_type": "stream",
     "text": [
      "postal_code\n",
      "94103         562\n",
      "94110         555\n",
      "94102         456\n",
      "94107         408\n",
      "94133         398\n",
      "94109         382\n",
      "94111         259\n",
      "94122         255\n",
      "94105         249\n",
      "94118         231\n",
      "94115         230\n",
      "94108         229\n",
      "94124         218\n",
      "94114         200\n",
      "-9999         194\n",
      "94112         192\n",
      "94117         189\n",
      "94123         177\n",
      "94121         157\n",
      "94104         142\n",
      "94132         132\n",
      "94116          97\n",
      "94158          90\n",
      "94134          82\n",
      "94127          67\n",
      "94131          49\n",
      "94130           8\n",
      "94143           5\n",
      "94013           2\n",
      "94188           2\n",
      "CA              2\n",
      "94301           2\n",
      "94101           2\n",
      "95122           1\n",
      "941033148       1\n",
      "95133           1\n",
      "95132           1\n",
      "94102-5917      1\n",
      "94014           1\n",
      "941             1\n",
      "94080           1\n",
      "94105-2907      1\n",
      "92672           1\n",
      "64110           1\n",
      "00000           1\n",
      "94105-1420      1\n",
      "941102019       1\n",
      "95117           1\n",
      "95112           1\n",
      "95109           1\n",
      "95105           1\n",
      "94901           1\n",
      "94621           1\n",
      "94602           1\n",
      "94544           1\n",
      "94518           1\n",
      "94117-3504      1\n",
      "94120           1\n",
      "94122-1909      1\n",
      "94123-3106      1\n",
      "94124-1917      1\n",
      "94129           1\n",
      "Ca              1\n"
     ]
    }
   ],
   "source": [
    "zip_counts = bus.groupby('postal_code').size().sort_values(ascending = False)\n",
    "print(zip_counts.to_string())"
   ]
  },
  {
   "cell_type": "code",
   "execution_count": 173,
   "metadata": {
    "deletable": false,
    "editable": false
   },
   "outputs": [
    {
     "name": "stdout",
     "output_type": "stream",
     "text": [
      "~~~~~~~~~~~~~~~~~~~~~~~~~~~~~~~~~~~~~~~~~~~~~~~~~~~~~~~~~~~~~~~~~~~~~\n",
      "Running tests\n",
      "\n",
      "---------------------------------------------------------------------\n",
      "Test summary\n",
      "    Passed: 3\n",
      "    Failed: 0\n",
      "[ooooooooook] 100.0% passed\n",
      "\n"
     ]
    }
   ],
   "source": [
    "ok.grade(\"q3a\");"
   ]
  },
  {
   "cell_type": "markdown",
   "metadata": {
    "deletable": false,
    "editable": false
   },
   "source": [
    "<br/><br/><br/>\n",
    "\n",
    "--- \n",
    "\n",
    "## Question 3b\n",
    "\n",
    "Answer the following questions about the `postal_code` column in the `bus` dataframe.\n",
    "\n",
    "1. The ZIP code column is which of the following type of data:\n",
    "    1. Quantitative Continuous\n",
    "    1. Quantitative Discrete\n",
    "    1. Qualitative Ordinal\n",
    "    1. Qualitative Nominal    \n",
    "1. What Python data type is used to represent a ZIP code?\n",
    "\n",
    "*Note*: ZIP codes and postal codes are the same thing.\n",
    "\n",
    "Please write your answers in the variables below:\n",
    "\n",
    "<!--\n",
    "BEGIN QUESTION\n",
    "name: q3b\n",
    "points: 2\n",
    "-->"
   ]
  },
  {
   "cell_type": "code",
   "execution_count": 174,
   "metadata": {},
   "outputs": [],
   "source": [
    "# The ZIP code column is which of the following type of data:\n",
    "#   \"Quantitative Continuous\" \n",
    "#   \"Quantitative Discrete\"\n",
    "#   \"Qualitative Ordinal\"\n",
    "#   \"Qualitative Nominal\"\n",
    "q3b_part1 = \"Qualitative Nominal\"\n",
    "\n",
    "# What Python data type is used to represent a ZIP code? \n",
    "#    \"str\"\n",
    "#    \"int\"\n",
    "#    \"bool\"\n",
    "#    \"float\"\n",
    "q3b_part2 = \"str\""
   ]
  },
  {
   "cell_type": "code",
   "execution_count": 175,
   "metadata": {
    "deletable": false,
    "editable": false
   },
   "outputs": [
    {
     "name": "stdout",
     "output_type": "stream",
     "text": [
      "~~~~~~~~~~~~~~~~~~~~~~~~~~~~~~~~~~~~~~~~~~~~~~~~~~~~~~~~~~~~~~~~~~~~~\n",
      "Running tests\n",
      "\n",
      "---------------------------------------------------------------------\n",
      "Test summary\n",
      "    Passed: 2\n",
      "    Failed: 0\n",
      "[ooooooooook] 100.0% passed\n",
      "\n"
     ]
    }
   ],
   "source": [
    "ok.grade(\"q3b\");"
   ]
  },
  {
   "cell_type": "markdown",
   "metadata": {},
   "source": [
    "<br/><br/><br/>\n",
    "\n",
    "--- \n",
    "\n",
    "## Question 3c\n",
    "\n",
    "In question 3a we noticed a large number of potentially invalid ZIP codes (e.g., \"CA\").  These are likely due to data entry errors.  To get a better understanding of the potential errors in the zip codes we will:\n",
    "\n",
    "1. Import a list of valid San Francisco ZIP codes by using `pd.read_json` to load the file `data/sf_zipcodes.json` and extract a **series** of type `str` containing the valid ZIP codes.  *Hint: set `dtype` when invoking `read_json`.*\n",
    "1. Construct a DataFrame containing only the businesses which DO NOT have valid ZIP codes.  You will probably want to use the `Series.isin` function. \n"
   ]
  },
  {
   "cell_type": "markdown",
   "metadata": {
    "deletable": false,
    "editable": false
   },
   "source": [
    "**Step 1**\n",
    "\n",
    "<!--\n",
    "BEGIN QUESTION\n",
    "name: q3ci\n",
    "points: 1\n",
    "-->"
   ]
  },
  {
   "cell_type": "code",
   "execution_count": 176,
   "metadata": {},
   "outputs": [
    {
     "data": {
      "text/plain": [
       "0    94102\n",
       "1    94103\n",
       "2    94104\n",
       "3    94105\n",
       "4    94107\n",
       "Name: zip_codes, dtype: object"
      ]
     },
     "execution_count": 176,
     "metadata": {},
     "output_type": "execute_result"
    }
   ],
   "source": [
    "valid_zips = pd.read_json(\"data/sf_zipcodes.json\", dtype = str)['zip_codes']\n",
    "valid_zips.head()"
   ]
  },
  {
   "cell_type": "code",
   "execution_count": 177,
   "metadata": {
    "deletable": false,
    "editable": false
   },
   "outputs": [
    {
     "name": "stdout",
     "output_type": "stream",
     "text": [
      "~~~~~~~~~~~~~~~~~~~~~~~~~~~~~~~~~~~~~~~~~~~~~~~~~~~~~~~~~~~~~~~~~~~~~\n",
      "Running tests\n",
      "\n",
      "---------------------------------------------------------------------\n",
      "Test summary\n",
      "    Passed: 2\n",
      "    Failed: 0\n",
      "[ooooooooook] 100.0% passed\n",
      "\n"
     ]
    }
   ],
   "source": [
    "ok.grade(\"q3ci\");"
   ]
  },
  {
   "cell_type": "markdown",
   "metadata": {
    "deletable": false,
    "editable": false
   },
   "source": [
    "**Step 2**\n",
    "\n",
    "<!--\n",
    "BEGIN QUESTION\n",
    "name: q3cii\n",
    "points: 1\n",
    "-->"
   ]
  },
  {
   "cell_type": "code",
   "execution_count": 178,
   "metadata": {},
   "outputs": [
    {
     "data": {
      "text/html": [
       "<div>\n",
       "<style scoped>\n",
       "    .dataframe tbody tr th:only-of-type {\n",
       "        vertical-align: middle;\n",
       "    }\n",
       "\n",
       "    .dataframe tbody tr th {\n",
       "        vertical-align: top;\n",
       "    }\n",
       "\n",
       "    .dataframe thead th {\n",
       "        text-align: right;\n",
       "    }\n",
       "</style>\n",
       "<table border=\"1\" class=\"dataframe\">\n",
       "  <thead>\n",
       "    <tr style=\"text-align: right;\">\n",
       "      <th></th>\n",
       "      <th>bid</th>\n",
       "      <th>name</th>\n",
       "      <th>address</th>\n",
       "      <th>city</th>\n",
       "      <th>state</th>\n",
       "      <th>postal_code</th>\n",
       "      <th>latitude</th>\n",
       "      <th>longitude</th>\n",
       "      <th>phone_number</th>\n",
       "    </tr>\n",
       "  </thead>\n",
       "  <tbody>\n",
       "    <tr>\n",
       "      <th>22</th>\n",
       "      <td>100126</td>\n",
       "      <td>Lamas Peruvian Food Truck</td>\n",
       "      <td>Private Location</td>\n",
       "      <td>San Francisco</td>\n",
       "      <td>CA</td>\n",
       "      <td>-9999</td>\n",
       "      <td>-9999.000000</td>\n",
       "      <td>-9999.000000</td>\n",
       "      <td>-9999</td>\n",
       "    </tr>\n",
       "    <tr>\n",
       "      <th>68</th>\n",
       "      <td>100417</td>\n",
       "      <td>COMPASS ONE, LLC</td>\n",
       "      <td>1 MARKET ST. FL</td>\n",
       "      <td>San Francisco</td>\n",
       "      <td>CA</td>\n",
       "      <td>94105-1420</td>\n",
       "      <td>-9999.000000</td>\n",
       "      <td>-9999.000000</td>\n",
       "      <td>14154324000</td>\n",
       "    </tr>\n",
       "    <tr>\n",
       "      <th>96</th>\n",
       "      <td>100660</td>\n",
       "      <td>TEAPENTER</td>\n",
       "      <td>1518 IRVING ST</td>\n",
       "      <td>San Francisco</td>\n",
       "      <td>CA</td>\n",
       "      <td>94122-1909</td>\n",
       "      <td>-9999.000000</td>\n",
       "      <td>-9999.000000</td>\n",
       "      <td>14155868318</td>\n",
       "    </tr>\n",
       "    <tr>\n",
       "      <th>109</th>\n",
       "      <td>100781</td>\n",
       "      <td>LE CAFE DU SOLEIL</td>\n",
       "      <td>200 FILLMORE ST</td>\n",
       "      <td>San Francisco</td>\n",
       "      <td>CA</td>\n",
       "      <td>94117-3504</td>\n",
       "      <td>-9999.000000</td>\n",
       "      <td>-9999.000000</td>\n",
       "      <td>14155614215</td>\n",
       "    </tr>\n",
       "    <tr>\n",
       "      <th>144</th>\n",
       "      <td>101084</td>\n",
       "      <td>Deli North 200</td>\n",
       "      <td>1 Warriors Way Level 300 North East</td>\n",
       "      <td>San Francisco</td>\n",
       "      <td>CA</td>\n",
       "      <td>94518</td>\n",
       "      <td>-9999.000000</td>\n",
       "      <td>-9999.000000</td>\n",
       "      <td>-9999</td>\n",
       "    </tr>\n",
       "    <tr>\n",
       "      <th>156</th>\n",
       "      <td>101129</td>\n",
       "      <td>Vendor Room 200</td>\n",
       "      <td>1 Warriors Way Level 300 South West</td>\n",
       "      <td>San Francisco</td>\n",
       "      <td>CA</td>\n",
       "      <td>-9999</td>\n",
       "      <td>-9999.000000</td>\n",
       "      <td>-9999.000000</td>\n",
       "      <td>-9999</td>\n",
       "    </tr>\n",
       "    <tr>\n",
       "      <th>177</th>\n",
       "      <td>101192</td>\n",
       "      <td>Cochinita #2</td>\n",
       "      <td>2 Marina Blvd Fort Mason</td>\n",
       "      <td>San Francisco</td>\n",
       "      <td>CA</td>\n",
       "      <td>-9999</td>\n",
       "      <td>-9999.000000</td>\n",
       "      <td>-9999.000000</td>\n",
       "      <td>14150429222</td>\n",
       "    </tr>\n",
       "    <tr>\n",
       "      <th>276</th>\n",
       "      <td>102014</td>\n",
       "      <td>DROPBOX (Section 3, Floor 7)</td>\n",
       "      <td>1800 Owens St</td>\n",
       "      <td>San Francisco</td>\n",
       "      <td>CA</td>\n",
       "      <td>-9999</td>\n",
       "      <td>-9999.000000</td>\n",
       "      <td>-9999.000000</td>\n",
       "      <td>-9999</td>\n",
       "    </tr>\n",
       "    <tr>\n",
       "      <th>295</th>\n",
       "      <td>102245</td>\n",
       "      <td>Vessell CA Operations (#4)</td>\n",
       "      <td>2351 Mission St</td>\n",
       "      <td>San Francisco</td>\n",
       "      <td>CA</td>\n",
       "      <td>-9999</td>\n",
       "      <td>-9999.000000</td>\n",
       "      <td>-9999.000000</td>\n",
       "      <td>-9999</td>\n",
       "    </tr>\n",
       "    <tr>\n",
       "      <th>298</th>\n",
       "      <td>10227</td>\n",
       "      <td>The Napper Tandy</td>\n",
       "      <td>3200 24th St</td>\n",
       "      <td>San Francisco</td>\n",
       "      <td>CA</td>\n",
       "      <td>-9999</td>\n",
       "      <td>37.752581</td>\n",
       "      <td>-122.416482</td>\n",
       "      <td>-9999</td>\n",
       "    </tr>\n",
       "    <tr>\n",
       "      <th>320</th>\n",
       "      <td>10372</td>\n",
       "      <td>BERNAL HEIGHTS NEIGBORHOOD CENTER</td>\n",
       "      <td>515 CORTLAND AVE</td>\n",
       "      <td>San Francisco</td>\n",
       "      <td>CA</td>\n",
       "      <td>-9999</td>\n",
       "      <td>37.739110</td>\n",
       "      <td>-122.416404</td>\n",
       "      <td>14155202142</td>\n",
       "    </tr>\n",
       "    <tr>\n",
       "      <th>321</th>\n",
       "      <td>10373</td>\n",
       "      <td>El Tonayense #1</td>\n",
       "      <td>1717 Harrison St</td>\n",
       "      <td>San Francisco</td>\n",
       "      <td>CA</td>\n",
       "      <td>-9999</td>\n",
       "      <td>37.769426</td>\n",
       "      <td>-122.413446</td>\n",
       "      <td>14155556127</td>\n",
       "    </tr>\n",
       "    <tr>\n",
       "      <th>322</th>\n",
       "      <td>10376</td>\n",
       "      <td>Good Frikin Chicken</td>\n",
       "      <td>10 29th St</td>\n",
       "      <td>San Francisco</td>\n",
       "      <td>CA</td>\n",
       "      <td>-9999</td>\n",
       "      <td>37.744369</td>\n",
       "      <td>-122.420967</td>\n",
       "      <td>-9999</td>\n",
       "    </tr>\n",
       "    <tr>\n",
       "      <th>324</th>\n",
       "      <td>10406</td>\n",
       "      <td>Sunset Youth Services</td>\n",
       "      <td>3918 Judah St</td>\n",
       "      <td>San Francisco</td>\n",
       "      <td>CA</td>\n",
       "      <td>-9999</td>\n",
       "      <td>37.760560</td>\n",
       "      <td>-122.504027</td>\n",
       "      <td>-9999</td>\n",
       "    </tr>\n",
       "    <tr>\n",
       "      <th>357</th>\n",
       "      <td>11416</td>\n",
       "      <td>El Beach Burrito</td>\n",
       "      <td>3914 Judah St</td>\n",
       "      <td>San Francisco</td>\n",
       "      <td>CA</td>\n",
       "      <td>-9999</td>\n",
       "      <td>37.760851</td>\n",
       "      <td>-122.503998</td>\n",
       "      <td>-9999</td>\n",
       "    </tr>\n",
       "    <tr>\n",
       "      <th>381</th>\n",
       "      <td>12199</td>\n",
       "      <td>El Gallo Giro</td>\n",
       "      <td>3055 23rd St</td>\n",
       "      <td>San Francisco</td>\n",
       "      <td>CA</td>\n",
       "      <td>-9999</td>\n",
       "      <td>37.754218</td>\n",
       "      <td>-122.413285</td>\n",
       "      <td>14155553048</td>\n",
       "    </tr>\n",
       "    <tr>\n",
       "      <th>384</th>\n",
       "      <td>12344</td>\n",
       "      <td>The Village Market &amp; Pizza</td>\n",
       "      <td>750 Font Blvd</td>\n",
       "      <td>San Francisco</td>\n",
       "      <td>CA</td>\n",
       "      <td>-9999</td>\n",
       "      <td>37.723462</td>\n",
       "      <td>-122.483012</td>\n",
       "      <td>14155374525</td>\n",
       "    </tr>\n",
       "    <tr>\n",
       "      <th>406</th>\n",
       "      <td>13062</td>\n",
       "      <td>Everett Middle School</td>\n",
       "      <td>450 Church St</td>\n",
       "      <td>San Francisco</td>\n",
       "      <td>CA</td>\n",
       "      <td>-9999</td>\n",
       "      <td>37.763794</td>\n",
       "      <td>-122.428617</td>\n",
       "      <td>-9999</td>\n",
       "    </tr>\n",
       "    <tr>\n",
       "      <th>434</th>\n",
       "      <td>13753</td>\n",
       "      <td>Taboun</td>\n",
       "      <td>203 Parnassus Ave</td>\n",
       "      <td>San Francisco</td>\n",
       "      <td>CA</td>\n",
       "      <td>-9999</td>\n",
       "      <td>37.764574</td>\n",
       "      <td>-122.452950</td>\n",
       "      <td>-9999</td>\n",
       "    </tr>\n",
       "    <tr>\n",
       "      <th>548</th>\n",
       "      <td>17423</td>\n",
       "      <td>Project Open Hand</td>\n",
       "      <td>100 Diamond St</td>\n",
       "      <td>San Francisco</td>\n",
       "      <td>CA</td>\n",
       "      <td>-9999</td>\n",
       "      <td>37.760689</td>\n",
       "      <td>-122.437252</td>\n",
       "      <td>-9999</td>\n",
       "    </tr>\n",
       "  </tbody>\n",
       "</table>\n",
       "</div>"
      ],
      "text/plain": [
       "        bid                               name  \\\n",
       "22   100126          Lamas Peruvian Food Truck   \n",
       "68   100417                   COMPASS ONE, LLC   \n",
       "96   100660                          TEAPENTER   \n",
       "109  100781                  LE CAFE DU SOLEIL   \n",
       "144  101084                     Deli North 200   \n",
       "156  101129                    Vendor Room 200   \n",
       "177  101192                       Cochinita #2   \n",
       "276  102014       DROPBOX (Section 3, Floor 7)   \n",
       "295  102245         Vessell CA Operations (#4)   \n",
       "298   10227                   The Napper Tandy   \n",
       "320   10372  BERNAL HEIGHTS NEIGBORHOOD CENTER   \n",
       "321   10373                    El Tonayense #1   \n",
       "322   10376                Good Frikin Chicken   \n",
       "324   10406              Sunset Youth Services   \n",
       "357   11416                   El Beach Burrito   \n",
       "381   12199                      El Gallo Giro   \n",
       "384   12344         The Village Market & Pizza   \n",
       "406   13062              Everett Middle School   \n",
       "434   13753                             Taboun   \n",
       "548   17423                  Project Open Hand   \n",
       "\n",
       "                                 address           city state postal_code  \\\n",
       "22                      Private Location  San Francisco    CA       -9999   \n",
       "68                       1 MARKET ST. FL  San Francisco    CA  94105-1420   \n",
       "96                        1518 IRVING ST  San Francisco    CA  94122-1909   \n",
       "109                      200 FILLMORE ST  San Francisco    CA  94117-3504   \n",
       "144  1 Warriors Way Level 300 North East  San Francisco    CA       94518   \n",
       "156  1 Warriors Way Level 300 South West  San Francisco    CA       -9999   \n",
       "177             2 Marina Blvd Fort Mason  San Francisco    CA       -9999   \n",
       "276                        1800 Owens St  San Francisco    CA       -9999   \n",
       "295                      2351 Mission St  San Francisco    CA       -9999   \n",
       "298                         3200 24th St  San Francisco    CA       -9999   \n",
       "320                     515 CORTLAND AVE  San Francisco    CA       -9999   \n",
       "321                     1717 Harrison St  San Francisco    CA       -9999   \n",
       "322                           10 29th St  San Francisco    CA       -9999   \n",
       "324                        3918 Judah St  San Francisco    CA       -9999   \n",
       "357                        3914 Judah St  San Francisco    CA       -9999   \n",
       "381                         3055 23rd St  San Francisco    CA       -9999   \n",
       "384                        750 Font Blvd  San Francisco    CA       -9999   \n",
       "406                        450 Church St  San Francisco    CA       -9999   \n",
       "434                    203 Parnassus Ave  San Francisco    CA       -9999   \n",
       "548                       100 Diamond St  San Francisco    CA       -9999   \n",
       "\n",
       "        latitude    longitude  phone_number  \n",
       "22  -9999.000000 -9999.000000         -9999  \n",
       "68  -9999.000000 -9999.000000   14154324000  \n",
       "96  -9999.000000 -9999.000000   14155868318  \n",
       "109 -9999.000000 -9999.000000   14155614215  \n",
       "144 -9999.000000 -9999.000000         -9999  \n",
       "156 -9999.000000 -9999.000000         -9999  \n",
       "177 -9999.000000 -9999.000000   14150429222  \n",
       "276 -9999.000000 -9999.000000         -9999  \n",
       "295 -9999.000000 -9999.000000         -9999  \n",
       "298    37.752581  -122.416482         -9999  \n",
       "320    37.739110  -122.416404   14155202142  \n",
       "321    37.769426  -122.413446   14155556127  \n",
       "322    37.744369  -122.420967         -9999  \n",
       "324    37.760560  -122.504027         -9999  \n",
       "357    37.760851  -122.503998         -9999  \n",
       "381    37.754218  -122.413285   14155553048  \n",
       "384    37.723462  -122.483012   14155374525  \n",
       "406    37.763794  -122.428617         -9999  \n",
       "434    37.764574  -122.452950         -9999  \n",
       "548    37.760689  -122.437252         -9999  "
      ]
     },
     "execution_count": 178,
     "metadata": {},
     "output_type": "execute_result"
    }
   ],
   "source": [
    "invalid_zip_bus = bus[~bus['postal_code'].isin(valid_zips)]\n",
    "invalid_zip_bus.head(20)"
   ]
  },
  {
   "cell_type": "code",
   "execution_count": 179,
   "metadata": {
    "deletable": false,
    "editable": false
   },
   "outputs": [
    {
     "name": "stdout",
     "output_type": "stream",
     "text": [
      "~~~~~~~~~~~~~~~~~~~~~~~~~~~~~~~~~~~~~~~~~~~~~~~~~~~~~~~~~~~~~~~~~~~~~\n",
      "Running tests\n",
      "\n",
      "---------------------------------------------------------------------\n",
      "Test summary\n",
      "    Passed: 2\n",
      "    Failed: 0\n",
      "[ooooooooook] 100.0% passed\n",
      "\n"
     ]
    }
   ],
   "source": [
    "ok.grade(\"q3cii\");"
   ]
  },
  {
   "cell_type": "markdown",
   "metadata": {
    "deletable": false,
    "editable": false
   },
   "source": [
    "<br/><br/><br/>\n",
    "\n",
    "--- \n",
    "\n",
    "## Question 3d\n",
    "\n",
    "In the previous question, many of the businesses had a common invalid postal code that was likely used to code a MISSING postal code.  Do they all share a potentially \"interesting address\"?\n",
    "\n",
    "In the following cell, construct a **series** that counts the number of businesses at each `address` that have this single likely MISSING postal code value.  Order the series in descending order by count. \n",
    "\n",
    "After examining the output.  Answer the following question by filling in the appropriate variable. If we were to drop businesses with MISSING postal code values would a particular class of business be affected?  If you are unsure try to search the web for the most common addresses.\n",
    "\n",
    "\n",
    "<!--\n",
    "BEGIN QUESTION\n",
    "name: q3d\n",
    "points: 3\n",
    "-->"
   ]
  },
  {
   "cell_type": "code",
   "execution_count": 180,
   "metadata": {},
   "outputs": [
    {
     "data": {
      "text/plain": [
       "address\n",
       "Off The Grid                  39\n",
       "Off the Grid                  10\n",
       "OTG                            4\n",
       "Approved Locations             3\n",
       "Approved Private Locations     3\n",
       "dtype: int64"
      ]
     },
     "execution_count": 180,
     "metadata": {},
     "output_type": "execute_result"
    }
   ],
   "source": [
    "zip_9999 = invalid_zip_bus[invalid_zip_bus['postal_code'] == '-9999']\n",
    "missing_zip_address_count = zip_9999.groupby('address').size().sort_values(ascending = False)\n",
    "missing_zip_address_count.head()"
   ]
  },
  {
   "cell_type": "code",
   "execution_count": 181,
   "metadata": {
    "deletable": false,
    "editable": false
   },
   "outputs": [
    {
     "name": "stdout",
     "output_type": "stream",
     "text": [
      "~~~~~~~~~~~~~~~~~~~~~~~~~~~~~~~~~~~~~~~~~~~~~~~~~~~~~~~~~~~~~~~~~~~~~\n",
      "Running tests\n",
      "\n",
      "---------------------------------------------------------------------\n",
      "Test summary\n",
      "    Passed: 3\n",
      "    Failed: 0\n",
      "[ooooooooook] 100.0% passed\n",
      "\n"
     ]
    }
   ],
   "source": [
    "ok.grade(\"q3d\");"
   ]
  },
  {
   "cell_type": "markdown",
   "metadata": {
    "deletable": false,
    "editable": false
   },
   "source": [
    "<br/><br/><br/>\n",
    "\n",
    "--- \n",
    "\n",
    "## Question 3e\n",
    "\n",
    "**True or False**:  *If we were to drop businesses with MISSING postal code values a particular class of business will be affected.*\n",
    "\n",
    "<!--\n",
    "BEGIN QUESTION\n",
    "name: q3e\n",
    "points: 2\n",
    "-->"
   ]
  },
  {
   "cell_type": "code",
   "execution_count": 182,
   "metadata": {},
   "outputs": [],
   "source": [
    "# True or False: \n",
    "#  If we were to drop businesses with MISSING postal code values \n",
    "#   a particular class of business be affected.\n",
    "q3d_true_or_false = True"
   ]
  },
  {
   "cell_type": "code",
   "execution_count": 183,
   "metadata": {
    "deletable": false,
    "editable": false
   },
   "outputs": [
    {
     "name": "stdout",
     "output_type": "stream",
     "text": [
      "~~~~~~~~~~~~~~~~~~~~~~~~~~~~~~~~~~~~~~~~~~~~~~~~~~~~~~~~~~~~~~~~~~~~~\n",
      "Running tests\n",
      "\n",
      "---------------------------------------------------------------------\n",
      "Test summary\n",
      "    Passed: 1\n",
      "    Failed: 0\n",
      "[ooooooooook] 100.0% passed\n",
      "\n"
     ]
    }
   ],
   "source": [
    "ok.grade(\"q3e\");"
   ]
  },
  {
   "cell_type": "markdown",
   "metadata": {
    "deletable": false,
    "editable": false
   },
   "source": [
    "<br/><br/><br/>\n",
    "\n",
    "--- \n",
    "\n",
    "## Question 3f\n",
    "\n",
    "Examine the `invalid_zip_bus` dataframe we computed above and look at the businesses that DO NOT have the special MISSING ZIP code value.  Some of the invalid postal codes are just the full 9 digit code rather than the first 5 digits.  Create a new column named `postal5` in the original `bus` dataframe which contains only the first 5 digits of the `postal_code` column.   Finally, for any of the `postal5` ZIP code entries that were not a valid San Fransisco ZIP Code (according to `valid_zips`) set the entry to `None`.  \n",
    "\n",
    "\n",
    "<!--\n",
    "BEGIN QUESTION\n",
    "name: q3f\n",
    "points: 2\n",
    "-->"
   ]
  },
  {
   "cell_type": "code",
   "execution_count": 184,
   "metadata": {},
   "outputs": [
    {
     "data": {
      "text/html": [
       "<div>\n",
       "<style scoped>\n",
       "    .dataframe tbody tr th:only-of-type {\n",
       "        vertical-align: middle;\n",
       "    }\n",
       "\n",
       "    .dataframe tbody tr th {\n",
       "        vertical-align: top;\n",
       "    }\n",
       "\n",
       "    .dataframe thead th {\n",
       "        text-align: right;\n",
       "    }\n",
       "</style>\n",
       "<table border=\"1\" class=\"dataframe\">\n",
       "  <thead>\n",
       "    <tr style=\"text-align: right;\">\n",
       "      <th></th>\n",
       "      <th>bid</th>\n",
       "      <th>name</th>\n",
       "      <th>postal_code</th>\n",
       "      <th>postal5</th>\n",
       "    </tr>\n",
       "  </thead>\n",
       "  <tbody>\n",
       "    <tr>\n",
       "      <th>22</th>\n",
       "      <td>100126</td>\n",
       "      <td>Lamas Peruvian Food Truck</td>\n",
       "      <td>-9999</td>\n",
       "      <td>None</td>\n",
       "    </tr>\n",
       "    <tr>\n",
       "      <th>68</th>\n",
       "      <td>100417</td>\n",
       "      <td>COMPASS ONE, LLC</td>\n",
       "      <td>94105-1420</td>\n",
       "      <td>94105</td>\n",
       "    </tr>\n",
       "    <tr>\n",
       "      <th>96</th>\n",
       "      <td>100660</td>\n",
       "      <td>TEAPENTER</td>\n",
       "      <td>94122-1909</td>\n",
       "      <td>94122</td>\n",
       "    </tr>\n",
       "    <tr>\n",
       "      <th>109</th>\n",
       "      <td>100781</td>\n",
       "      <td>LE CAFE DU SOLEIL</td>\n",
       "      <td>94117-3504</td>\n",
       "      <td>94117</td>\n",
       "    </tr>\n",
       "    <tr>\n",
       "      <th>144</th>\n",
       "      <td>101084</td>\n",
       "      <td>Deli North 200</td>\n",
       "      <td>94518</td>\n",
       "      <td>None</td>\n",
       "    </tr>\n",
       "    <tr>\n",
       "      <th>...</th>\n",
       "      <td>...</td>\n",
       "      <td>...</td>\n",
       "      <td>...</td>\n",
       "      <td>...</td>\n",
       "    </tr>\n",
       "    <tr>\n",
       "      <th>6173</th>\n",
       "      <td>99369</td>\n",
       "      <td>HOTEL BIRON</td>\n",
       "      <td>94102-5917</td>\n",
       "      <td>94102</td>\n",
       "    </tr>\n",
       "    <tr>\n",
       "      <th>6174</th>\n",
       "      <td>99376</td>\n",
       "      <td>Mashallah Halal Food truck Ind</td>\n",
       "      <td>-9999</td>\n",
       "      <td>None</td>\n",
       "    </tr>\n",
       "    <tr>\n",
       "      <th>6199</th>\n",
       "      <td>99536</td>\n",
       "      <td>FAITH SANDWICH #2</td>\n",
       "      <td>94105-2907</td>\n",
       "      <td>94105</td>\n",
       "    </tr>\n",
       "    <tr>\n",
       "      <th>6204</th>\n",
       "      <td>99681</td>\n",
       "      <td>Twister</td>\n",
       "      <td>95112</td>\n",
       "      <td>None</td>\n",
       "    </tr>\n",
       "    <tr>\n",
       "      <th>6241</th>\n",
       "      <td>99819</td>\n",
       "      <td>CHESTNUT DINER</td>\n",
       "      <td>94123-3106</td>\n",
       "      <td>94123</td>\n",
       "    </tr>\n",
       "  </tbody>\n",
       "</table>\n",
       "<p>230 rows × 4 columns</p>\n",
       "</div>"
      ],
      "text/plain": [
       "         bid                            name postal_code postal5\n",
       "22    100126       Lamas Peruvian Food Truck       -9999    None\n",
       "68    100417                COMPASS ONE, LLC  94105-1420   94105\n",
       "96    100660                       TEAPENTER  94122-1909   94122\n",
       "109   100781               LE CAFE DU SOLEIL  94117-3504   94117\n",
       "144   101084                  Deli North 200       94518    None\n",
       "...      ...                             ...         ...     ...\n",
       "6173   99369                     HOTEL BIRON  94102-5917   94102\n",
       "6174   99376  Mashallah Halal Food truck Ind       -9999    None\n",
       "6199   99536               FAITH SANDWICH #2  94105-2907   94105\n",
       "6204   99681                         Twister       95112    None\n",
       "6241   99819                  CHESTNUT DINER  94123-3106   94123\n",
       "\n",
       "[230 rows x 4 columns]"
      ]
     },
     "execution_count": 184,
     "metadata": {},
     "output_type": "execute_result"
    }
   ],
   "source": [
    "bus['postal5'] = None\n",
    "first5_postal = bus['postal_code'].str[:5]\n",
    "bus.loc[bus[first5_postal.isin(valid_zips)].index, 'postal5'] = first5_postal\n",
    "\n",
    "# Checking the corrected postal5 column\n",
    "bus.loc[invalid_zip_bus.index, ['bid', 'name', 'postal_code', 'postal5']]"
   ]
  },
  {
   "cell_type": "code",
   "execution_count": 185,
   "metadata": {
    "deletable": false,
    "editable": false
   },
   "outputs": [
    {
     "name": "stdout",
     "output_type": "stream",
     "text": [
      "~~~~~~~~~~~~~~~~~~~~~~~~~~~~~~~~~~~~~~~~~~~~~~~~~~~~~~~~~~~~~~~~~~~~~\n",
      "Running tests\n",
      "\n",
      "---------------------------------------------------------------------\n",
      "Test summary\n",
      "    Passed: 4\n",
      "    Failed: 0\n",
      "[ooooooooook] 100.0% passed\n",
      "\n"
     ]
    }
   ],
   "source": [
    "ok.grade(\"q3f\");"
   ]
  },
  {
   "cell_type": "markdown",
   "metadata": {
    "nbgrader": {
     "grade": false,
     "grade_id": "business-data",
     "locked": true,
     "schema_version": 2,
     "solution": false
    }
   },
   "source": [
    "<br/><br/><br/>\n",
    "\n",
    "---\n",
    "\n",
    "<br/><br/><br/>\n",
    "\n",
    "# 4: Investigate the Inspection Data\n",
    "\n",
    "Let's now turn to the inspection DataFrame. Earlier, we found that `ins` has 4 columns named \n",
    "`iid`, `score`, `date` and `type`.  In this section, we determine the granularity of `ins` and investigate the kinds of information provided for the inspections. "
   ]
  },
  {
   "cell_type": "markdown",
   "metadata": {
    "nbgrader": {
     "grade": false,
     "grade_id": "cell-174ed23c543ad9da",
     "locked": true,
     "schema_version": 2,
     "solution": false
    }
   },
   "source": [
    "Let's start by looking again at the first 5 rows of `ins` to see what we're working with."
   ]
  },
  {
   "cell_type": "code",
   "execution_count": 186,
   "metadata": {
    "nbgrader": {
     "grade": false,
     "grade_id": "cell-f0fbe724a2783e33",
     "locked": true,
     "schema_version": 2,
     "solution": false
    }
   },
   "outputs": [
    {
     "data": {
      "text/html": [
       "<div>\n",
       "<style scoped>\n",
       "    .dataframe tbody tr th:only-of-type {\n",
       "        vertical-align: middle;\n",
       "    }\n",
       "\n",
       "    .dataframe tbody tr th {\n",
       "        vertical-align: top;\n",
       "    }\n",
       "\n",
       "    .dataframe thead th {\n",
       "        text-align: right;\n",
       "    }\n",
       "</style>\n",
       "<table border=\"1\" class=\"dataframe\">\n",
       "  <thead>\n",
       "    <tr style=\"text-align: right;\">\n",
       "      <th></th>\n",
       "      <th>iid</th>\n",
       "      <th>date</th>\n",
       "      <th>score</th>\n",
       "      <th>type</th>\n",
       "    </tr>\n",
       "  </thead>\n",
       "  <tbody>\n",
       "    <tr>\n",
       "      <th>0</th>\n",
       "      <td>100010_20190329</td>\n",
       "      <td>03/29/2019 12:00:00 AM</td>\n",
       "      <td>-1</td>\n",
       "      <td>New Construction</td>\n",
       "    </tr>\n",
       "    <tr>\n",
       "      <th>1</th>\n",
       "      <td>100010_20190403</td>\n",
       "      <td>04/03/2019 12:00:00 AM</td>\n",
       "      <td>100</td>\n",
       "      <td>Routine - Unscheduled</td>\n",
       "    </tr>\n",
       "    <tr>\n",
       "      <th>2</th>\n",
       "      <td>100017_20190417</td>\n",
       "      <td>04/17/2019 12:00:00 AM</td>\n",
       "      <td>-1</td>\n",
       "      <td>New Ownership</td>\n",
       "    </tr>\n",
       "    <tr>\n",
       "      <th>3</th>\n",
       "      <td>100017_20190816</td>\n",
       "      <td>08/16/2019 12:00:00 AM</td>\n",
       "      <td>91</td>\n",
       "      <td>Routine - Unscheduled</td>\n",
       "    </tr>\n",
       "    <tr>\n",
       "      <th>4</th>\n",
       "      <td>100017_20190826</td>\n",
       "      <td>08/26/2019 12:00:00 AM</td>\n",
       "      <td>-1</td>\n",
       "      <td>Reinspection/Followup</td>\n",
       "    </tr>\n",
       "  </tbody>\n",
       "</table>\n",
       "</div>"
      ],
      "text/plain": [
       "               iid                    date  score                   type\n",
       "0  100010_20190329  03/29/2019 12:00:00 AM     -1       New Construction\n",
       "1  100010_20190403  04/03/2019 12:00:00 AM    100  Routine - Unscheduled\n",
       "2  100017_20190417  04/17/2019 12:00:00 AM     -1          New Ownership\n",
       "3  100017_20190816  08/16/2019 12:00:00 AM     91  Routine - Unscheduled\n",
       "4  100017_20190826  08/26/2019 12:00:00 AM     -1  Reinspection/Followup"
      ]
     },
     "execution_count": 186,
     "metadata": {},
     "output_type": "execute_result"
    }
   ],
   "source": [
    "ins.head(5)"
   ]
  },
  {
   "cell_type": "markdown",
   "metadata": {
    "deletable": false,
    "editable": false
   },
   "source": [
    "<br/><br/><br/>\n",
    "\n",
    "---\n",
    "\n",
    "## Question 4a\n",
    "\n",
    "The column `iid` probably corresponds to an inspection id.  Is it a primary key?  Write an expression (line of code) that evaluates to 'True' or 'False' based on whether all the values are unique.\n",
    "\n",
    "\n",
    "<!--\n",
    "BEGIN QUESTION\n",
    "name: q4a\n",
    "points: 1\n",
    "-->"
   ]
  },
  {
   "cell_type": "code",
   "execution_count": 187,
   "metadata": {},
   "outputs": [
    {
     "data": {
      "text/plain": [
       "True"
      ]
     },
     "execution_count": 187,
     "metadata": {},
     "output_type": "execute_result"
    }
   ],
   "source": [
    "is_ins_iid_a_primary_key = all(ins['iid'].value_counts() == 1)\n",
    "is_ins_iid_a_primary_key"
   ]
  },
  {
   "cell_type": "code",
   "execution_count": 188,
   "metadata": {
    "deletable": false,
    "editable": false
   },
   "outputs": [
    {
     "name": "stdout",
     "output_type": "stream",
     "text": [
      "~~~~~~~~~~~~~~~~~~~~~~~~~~~~~~~~~~~~~~~~~~~~~~~~~~~~~~~~~~~~~~~~~~~~~\n",
      "Running tests\n",
      "\n",
      "---------------------------------------------------------------------\n",
      "Test summary\n",
      "    Passed: 1\n",
      "    Failed: 0\n",
      "[ooooooooook] 100.0% passed\n",
      "\n"
     ]
    }
   ],
   "source": [
    "ok.grade(\"q4a\");"
   ]
  },
  {
   "cell_type": "markdown",
   "metadata": {},
   "source": [
    "<br/><br/><br/>\n",
    "\n",
    "---\n",
    "\n",
    "## Question 4b\n",
    "\n",
    "The column `iid` appears to be the composition of two numbers and the first number looks like a business id.  \n",
    "\n",
    "**Part 1.**: Create a new column called `bid` in the `ins` dataframe containing just the business id.  You will want to use `ins['iid'].str` operations to do this.  Also be sure to convert the type of this column to `int`\n",
    "\n",
    "**Part 2.**: Then compute how many values in this new column are also valid business ids (appear in the `bus['bid']` column). This is verifying a foreign key relationship. Consider using the `pd.Series.isin` function.\n",
    "\n",
    "**Part 3.**: Answer True or False, `ins['bid']` is a foreign key reference to `bus['bid']`.\n",
    "\n",
    "\n",
    "**No python `for` loops or list comprehensions required!**"
   ]
  },
  {
   "cell_type": "markdown",
   "metadata": {
    "deletable": false,
    "editable": false
   },
   "source": [
    "**Part 1**\n",
    "\n",
    "<!--\n",
    "BEGIN QUESTION\n",
    "name: q4bi\n",
    "points: 1\n",
    "-->"
   ]
  },
  {
   "cell_type": "code",
   "execution_count": 189,
   "metadata": {},
   "outputs": [
    {
     "data": {
      "text/html": [
       "<div>\n",
       "<style scoped>\n",
       "    .dataframe tbody tr th:only-of-type {\n",
       "        vertical-align: middle;\n",
       "    }\n",
       "\n",
       "    .dataframe tbody tr th {\n",
       "        vertical-align: top;\n",
       "    }\n",
       "\n",
       "    .dataframe thead th {\n",
       "        text-align: right;\n",
       "    }\n",
       "</style>\n",
       "<table border=\"1\" class=\"dataframe\">\n",
       "  <thead>\n",
       "    <tr style=\"text-align: right;\">\n",
       "      <th></th>\n",
       "      <th>iid</th>\n",
       "      <th>date</th>\n",
       "      <th>score</th>\n",
       "      <th>type</th>\n",
       "      <th>bid</th>\n",
       "    </tr>\n",
       "  </thead>\n",
       "  <tbody>\n",
       "    <tr>\n",
       "      <th>0</th>\n",
       "      <td>100010_20190329</td>\n",
       "      <td>03/29/2019 12:00:00 AM</td>\n",
       "      <td>-1</td>\n",
       "      <td>New Construction</td>\n",
       "      <td>100010</td>\n",
       "    </tr>\n",
       "    <tr>\n",
       "      <th>1</th>\n",
       "      <td>100010_20190403</td>\n",
       "      <td>04/03/2019 12:00:00 AM</td>\n",
       "      <td>100</td>\n",
       "      <td>Routine - Unscheduled</td>\n",
       "      <td>100010</td>\n",
       "    </tr>\n",
       "    <tr>\n",
       "      <th>2</th>\n",
       "      <td>100017_20190417</td>\n",
       "      <td>04/17/2019 12:00:00 AM</td>\n",
       "      <td>-1</td>\n",
       "      <td>New Ownership</td>\n",
       "      <td>100017</td>\n",
       "    </tr>\n",
       "    <tr>\n",
       "      <th>3</th>\n",
       "      <td>100017_20190816</td>\n",
       "      <td>08/16/2019 12:00:00 AM</td>\n",
       "      <td>91</td>\n",
       "      <td>Routine - Unscheduled</td>\n",
       "      <td>100017</td>\n",
       "    </tr>\n",
       "    <tr>\n",
       "      <th>4</th>\n",
       "      <td>100017_20190826</td>\n",
       "      <td>08/26/2019 12:00:00 AM</td>\n",
       "      <td>-1</td>\n",
       "      <td>Reinspection/Followup</td>\n",
       "      <td>100017</td>\n",
       "    </tr>\n",
       "  </tbody>\n",
       "</table>\n",
       "</div>"
      ],
      "text/plain": [
       "               iid                    date  score                   type  \\\n",
       "0  100010_20190329  03/29/2019 12:00:00 AM     -1       New Construction   \n",
       "1  100010_20190403  04/03/2019 12:00:00 AM    100  Routine - Unscheduled   \n",
       "2  100017_20190417  04/17/2019 12:00:00 AM     -1          New Ownership   \n",
       "3  100017_20190816  08/16/2019 12:00:00 AM     91  Routine - Unscheduled   \n",
       "4  100017_20190826  08/26/2019 12:00:00 AM     -1  Reinspection/Followup   \n",
       "\n",
       "      bid  \n",
       "0  100010  \n",
       "1  100010  \n",
       "2  100017  \n",
       "3  100017  \n",
       "4  100017  "
      ]
     },
     "execution_count": 189,
     "metadata": {},
     "output_type": "execute_result"
    }
   ],
   "source": [
    "ins['bid'] = ins['iid'].str.split('_').str[0].astype(int)\n",
    "ins.head()"
   ]
  },
  {
   "cell_type": "code",
   "execution_count": 190,
   "metadata": {
    "deletable": false,
    "editable": false
   },
   "outputs": [
    {
     "name": "stdout",
     "output_type": "stream",
     "text": [
      "~~~~~~~~~~~~~~~~~~~~~~~~~~~~~~~~~~~~~~~~~~~~~~~~~~~~~~~~~~~~~~~~~~~~~\n",
      "Running tests\n",
      "\n",
      "---------------------------------------------------------------------\n",
      "Test summary\n",
      "    Passed: 3\n",
      "    Failed: 0\n",
      "[ooooooooook] 100.0% passed\n",
      "\n"
     ]
    }
   ],
   "source": [
    "ok.grade(\"q4bi\");"
   ]
  },
  {
   "cell_type": "markdown",
   "metadata": {
    "deletable": false,
    "editable": false
   },
   "source": [
    "**Part 2**\n",
    "\n",
    "<!--\n",
    "BEGIN QUESTION\n",
    "name: q4bii\n",
    "points: 1\n",
    "-->"
   ]
  },
  {
   "cell_type": "code",
   "execution_count": 191,
   "metadata": {},
   "outputs": [
    {
     "data": {
      "text/plain": [
       "0"
      ]
     },
     "execution_count": 191,
     "metadata": {},
     "output_type": "execute_result"
    }
   ],
   "source": [
    "invalid_bid_count = len(ins[~ins['bid'].isin(bus['bid'])])\n",
    "invalid_bid_count"
   ]
  },
  {
   "cell_type": "code",
   "execution_count": 192,
   "metadata": {
    "deletable": false,
    "editable": false
   },
   "outputs": [
    {
     "name": "stdout",
     "output_type": "stream",
     "text": [
      "~~~~~~~~~~~~~~~~~~~~~~~~~~~~~~~~~~~~~~~~~~~~~~~~~~~~~~~~~~~~~~~~~~~~~\n",
      "Running tests\n",
      "\n",
      "---------------------------------------------------------------------\n",
      "Test summary\n",
      "    Passed: 1\n",
      "    Failed: 0\n",
      "[ooooooooook] 100.0% passed\n",
      "\n"
     ]
    }
   ],
   "source": [
    "ok.grade(\"q4bii\");"
   ]
  },
  {
   "cell_type": "markdown",
   "metadata": {
    "deletable": false,
    "editable": false
   },
   "source": [
    "**Part 3**\n",
    "\n",
    "<!--\n",
    "BEGIN QUESTION\n",
    "name: q4biii\n",
    "points: 1\n",
    "-->"
   ]
  },
  {
   "cell_type": "code",
   "execution_count": 193,
   "metadata": {},
   "outputs": [],
   "source": [
    "# True or False: The column ins['bid'] is a foreign key \n",
    "#   referencing the bus['bid'] primary key.\n",
    "\n",
    "q4b_is_foreign_key = True"
   ]
  },
  {
   "cell_type": "code",
   "execution_count": 194,
   "metadata": {
    "deletable": false,
    "editable": false
   },
   "outputs": [
    {
     "name": "stdout",
     "output_type": "stream",
     "text": [
      "~~~~~~~~~~~~~~~~~~~~~~~~~~~~~~~~~~~~~~~~~~~~~~~~~~~~~~~~~~~~~~~~~~~~~\n",
      "Running tests\n",
      "\n",
      "---------------------------------------------------------------------\n",
      "Test summary\n",
      "    Passed: 1\n",
      "    Failed: 0\n",
      "[ooooooooook] 100.0% passed\n",
      "\n"
     ]
    }
   ],
   "source": [
    "ok.grade(\"q4biii\");"
   ]
  },
  {
   "cell_type": "markdown",
   "metadata": {},
   "source": [
    "<br/><br/><br/>\n",
    "\n",
    "---\n",
    "\n",
    "## Question 4c\n",
    "\n",
    "What if we are interested in a time component of the inspection data?  We need to examine the date column of each inspection. \n",
    "\n",
    "**Part 1:** What is the type of the individual `ins['date']` entries. You may want to grab the very first entry and use the `type` function in python. \n",
    "\n",
    "**Part 2:** Use `pd.to_datetime` to create a new `ins['timestamp']` column containing of `pd.Timestamp` objects.  These will allow us to do more date manipulation.\n",
    "\n",
    "**Part 3:** What are the earliest and latest dates in our inspection data?  *Hint: you can use `min` and `max` on dates of the correct type.*\n",
    "\n",
    "**Part 4:** We probably want to examine the inspections by year. Create an additional `ins['year']` column containing just the year of the inspection.  Consider using `pd.Series.dt.year` to do this.\n",
    "\n",
    "**No python `for` loops or list comprehensions required!**"
   ]
  },
  {
   "cell_type": "markdown",
   "metadata": {
    "deletable": false,
    "editable": false
   },
   "source": [
    "**Part 1**\n",
    "\n",
    "<!--\n",
    "BEGIN QUESTION\n",
    "name: q4ci\n",
    "points: 1\n",
    "-->"
   ]
  },
  {
   "cell_type": "code",
   "execution_count": 195,
   "metadata": {},
   "outputs": [
    {
     "data": {
      "text/plain": [
       "pandas.core.series.Series"
      ]
     },
     "execution_count": 195,
     "metadata": {},
     "output_type": "execute_result"
    }
   ],
   "source": [
    "ins_date_type = type(ins['date'])\n",
    "ins_date_type"
   ]
  },
  {
   "cell_type": "code",
   "execution_count": 196,
   "metadata": {
    "deletable": false,
    "editable": false
   },
   "outputs": [
    {
     "name": "stdout",
     "output_type": "stream",
     "text": [
      "~~~~~~~~~~~~~~~~~~~~~~~~~~~~~~~~~~~~~~~~~~~~~~~~~~~~~~~~~~~~~~~~~~~~~\n",
      "Running tests\n",
      "\n",
      "---------------------------------------------------------------------\n",
      "Test summary\n",
      "    Passed: 1\n",
      "    Failed: 0\n",
      "[ooooooooook] 100.0% passed\n",
      "\n"
     ]
    }
   ],
   "source": [
    "ok.grade(\"q4ci\");"
   ]
  },
  {
   "cell_type": "markdown",
   "metadata": {
    "deletable": false,
    "editable": false
   },
   "source": [
    "**Part 2**\n",
    "\n",
    "<!--\n",
    "BEGIN QUESTION\n",
    "name: q4cii\n",
    "points: 1\n",
    "-->"
   ]
  },
  {
   "cell_type": "code",
   "execution_count": 197,
   "metadata": {},
   "outputs": [
    {
     "data": {
      "text/html": [
       "<div>\n",
       "<style scoped>\n",
       "    .dataframe tbody tr th:only-of-type {\n",
       "        vertical-align: middle;\n",
       "    }\n",
       "\n",
       "    .dataframe tbody tr th {\n",
       "        vertical-align: top;\n",
       "    }\n",
       "\n",
       "    .dataframe thead th {\n",
       "        text-align: right;\n",
       "    }\n",
       "</style>\n",
       "<table border=\"1\" class=\"dataframe\">\n",
       "  <thead>\n",
       "    <tr style=\"text-align: right;\">\n",
       "      <th></th>\n",
       "      <th>iid</th>\n",
       "      <th>date</th>\n",
       "      <th>score</th>\n",
       "      <th>type</th>\n",
       "      <th>bid</th>\n",
       "      <th>timestamp</th>\n",
       "    </tr>\n",
       "  </thead>\n",
       "  <tbody>\n",
       "    <tr>\n",
       "      <th>0</th>\n",
       "      <td>100010_20190329</td>\n",
       "      <td>03/29/2019 12:00:00 AM</td>\n",
       "      <td>-1</td>\n",
       "      <td>New Construction</td>\n",
       "      <td>100010</td>\n",
       "      <td>2019-03-29</td>\n",
       "    </tr>\n",
       "    <tr>\n",
       "      <th>1</th>\n",
       "      <td>100010_20190403</td>\n",
       "      <td>04/03/2019 12:00:00 AM</td>\n",
       "      <td>100</td>\n",
       "      <td>Routine - Unscheduled</td>\n",
       "      <td>100010</td>\n",
       "      <td>2019-04-03</td>\n",
       "    </tr>\n",
       "    <tr>\n",
       "      <th>2</th>\n",
       "      <td>100017_20190417</td>\n",
       "      <td>04/17/2019 12:00:00 AM</td>\n",
       "      <td>-1</td>\n",
       "      <td>New Ownership</td>\n",
       "      <td>100017</td>\n",
       "      <td>2019-04-17</td>\n",
       "    </tr>\n",
       "    <tr>\n",
       "      <th>3</th>\n",
       "      <td>100017_20190816</td>\n",
       "      <td>08/16/2019 12:00:00 AM</td>\n",
       "      <td>91</td>\n",
       "      <td>Routine - Unscheduled</td>\n",
       "      <td>100017</td>\n",
       "      <td>2019-08-16</td>\n",
       "    </tr>\n",
       "    <tr>\n",
       "      <th>4</th>\n",
       "      <td>100017_20190826</td>\n",
       "      <td>08/26/2019 12:00:00 AM</td>\n",
       "      <td>-1</td>\n",
       "      <td>Reinspection/Followup</td>\n",
       "      <td>100017</td>\n",
       "      <td>2019-08-26</td>\n",
       "    </tr>\n",
       "  </tbody>\n",
       "</table>\n",
       "</div>"
      ],
      "text/plain": [
       "               iid                    date  score                   type  \\\n",
       "0  100010_20190329  03/29/2019 12:00:00 AM     -1       New Construction   \n",
       "1  100010_20190403  04/03/2019 12:00:00 AM    100  Routine - Unscheduled   \n",
       "2  100017_20190417  04/17/2019 12:00:00 AM     -1          New Ownership   \n",
       "3  100017_20190816  08/16/2019 12:00:00 AM     91  Routine - Unscheduled   \n",
       "4  100017_20190826  08/26/2019 12:00:00 AM     -1  Reinspection/Followup   \n",
       "\n",
       "      bid  timestamp  \n",
       "0  100010 2019-03-29  \n",
       "1  100010 2019-04-03  \n",
       "2  100017 2019-04-17  \n",
       "3  100017 2019-08-16  \n",
       "4  100017 2019-08-26  "
      ]
     },
     "execution_count": 197,
     "metadata": {},
     "output_type": "execute_result"
    }
   ],
   "source": [
    "ins['timestamp'] = pd.to_datetime(ins['date'])\n",
    "ins.head()"
   ]
  },
  {
   "cell_type": "code",
   "execution_count": 198,
   "metadata": {
    "deletable": false,
    "editable": false
   },
   "outputs": [
    {
     "name": "stdout",
     "output_type": "stream",
     "text": [
      "~~~~~~~~~~~~~~~~~~~~~~~~~~~~~~~~~~~~~~~~~~~~~~~~~~~~~~~~~~~~~~~~~~~~~\n",
      "Running tests\n",
      "\n",
      "---------------------------------------------------------------------\n",
      "Test summary\n",
      "    Passed: 1\n",
      "    Failed: 0\n",
      "[ooooooooook] 100.0% passed\n",
      "\n"
     ]
    }
   ],
   "source": [
    "ok.grade(\"q4cii\");"
   ]
  },
  {
   "cell_type": "markdown",
   "metadata": {
    "deletable": false,
    "editable": false
   },
   "source": [
    "**Part 3**\n",
    "\n",
    "<!--\n",
    "BEGIN QUESTION\n",
    "name: q4ciii\n",
    "points: 1\n",
    "-->"
   ]
  },
  {
   "cell_type": "code",
   "execution_count": 199,
   "metadata": {},
   "outputs": [
    {
     "name": "stdout",
     "output_type": "stream",
     "text": [
      "Earliest Date: 2016-10-04 00:00:00\n",
      "Latest Date: 2019-11-28 00:00:00\n"
     ]
    }
   ],
   "source": [
    "earliest_date = min(ins['timestamp'])\n",
    "latest_date = max(ins['timestamp'])\n",
    "\n",
    "print(\"Earliest Date:\", earliest_date)\n",
    "print(\"Latest Date:\", latest_date)"
   ]
  },
  {
   "cell_type": "code",
   "execution_count": 200,
   "metadata": {
    "deletable": false,
    "editable": false
   },
   "outputs": [
    {
     "name": "stdout",
     "output_type": "stream",
     "text": [
      "~~~~~~~~~~~~~~~~~~~~~~~~~~~~~~~~~~~~~~~~~~~~~~~~~~~~~~~~~~~~~~~~~~~~~\n",
      "Running tests\n",
      "\n",
      "---------------------------------------------------------------------\n",
      "Test summary\n",
      "    Passed: 2\n",
      "    Failed: 0\n",
      "[ooooooooook] 100.0% passed\n",
      "\n"
     ]
    }
   ],
   "source": [
    "ok.grade(\"q4ciii\");"
   ]
  },
  {
   "cell_type": "markdown",
   "metadata": {
    "deletable": false,
    "editable": false
   },
   "source": [
    "**Part 4**\n",
    "\n",
    "<!--\n",
    "BEGIN QUESTION\n",
    "name: q4civ\n",
    "points: 1\n",
    "-->"
   ]
  },
  {
   "cell_type": "code",
   "execution_count": 201,
   "metadata": {},
   "outputs": [],
   "source": [
    "ins['year'] = ins['timestamp'].dt.year"
   ]
  },
  {
   "cell_type": "code",
   "execution_count": 202,
   "metadata": {
    "deletable": false,
    "editable": false
   },
   "outputs": [
    {
     "name": "stdout",
     "output_type": "stream",
     "text": [
      "~~~~~~~~~~~~~~~~~~~~~~~~~~~~~~~~~~~~~~~~~~~~~~~~~~~~~~~~~~~~~~~~~~~~~\n",
      "Running tests\n",
      "\n",
      "---------------------------------------------------------------------\n",
      "Test summary\n",
      "    Passed: 1\n",
      "    Failed: 0\n",
      "[ooooooooook] 100.0% passed\n",
      "\n"
     ]
    }
   ],
   "source": [
    "ok.grade(\"q4civ\");"
   ]
  },
  {
   "cell_type": "code",
   "execution_count": 203,
   "metadata": {},
   "outputs": [
    {
     "data": {
      "text/html": [
       "<div>\n",
       "<style scoped>\n",
       "    .dataframe tbody tr th:only-of-type {\n",
       "        vertical-align: middle;\n",
       "    }\n",
       "\n",
       "    .dataframe tbody tr th {\n",
       "        vertical-align: top;\n",
       "    }\n",
       "\n",
       "    .dataframe thead th {\n",
       "        text-align: right;\n",
       "    }\n",
       "</style>\n",
       "<table border=\"1\" class=\"dataframe\">\n",
       "  <thead>\n",
       "    <tr style=\"text-align: right;\">\n",
       "      <th></th>\n",
       "      <th>iid</th>\n",
       "      <th>date</th>\n",
       "      <th>score</th>\n",
       "      <th>type</th>\n",
       "      <th>bid</th>\n",
       "      <th>timestamp</th>\n",
       "      <th>year</th>\n",
       "    </tr>\n",
       "  </thead>\n",
       "  <tbody>\n",
       "    <tr>\n",
       "      <th>0</th>\n",
       "      <td>100010_20190329</td>\n",
       "      <td>03/29/2019 12:00:00 AM</td>\n",
       "      <td>-1</td>\n",
       "      <td>New Construction</td>\n",
       "      <td>100010</td>\n",
       "      <td>2019-03-29</td>\n",
       "      <td>2019</td>\n",
       "    </tr>\n",
       "    <tr>\n",
       "      <th>1</th>\n",
       "      <td>100010_20190403</td>\n",
       "      <td>04/03/2019 12:00:00 AM</td>\n",
       "      <td>100</td>\n",
       "      <td>Routine - Unscheduled</td>\n",
       "      <td>100010</td>\n",
       "      <td>2019-04-03</td>\n",
       "      <td>2019</td>\n",
       "    </tr>\n",
       "    <tr>\n",
       "      <th>2</th>\n",
       "      <td>100017_20190417</td>\n",
       "      <td>04/17/2019 12:00:00 AM</td>\n",
       "      <td>-1</td>\n",
       "      <td>New Ownership</td>\n",
       "      <td>100017</td>\n",
       "      <td>2019-04-17</td>\n",
       "      <td>2019</td>\n",
       "    </tr>\n",
       "    <tr>\n",
       "      <th>3</th>\n",
       "      <td>100017_20190816</td>\n",
       "      <td>08/16/2019 12:00:00 AM</td>\n",
       "      <td>91</td>\n",
       "      <td>Routine - Unscheduled</td>\n",
       "      <td>100017</td>\n",
       "      <td>2019-08-16</td>\n",
       "      <td>2019</td>\n",
       "    </tr>\n",
       "    <tr>\n",
       "      <th>4</th>\n",
       "      <td>100017_20190826</td>\n",
       "      <td>08/26/2019 12:00:00 AM</td>\n",
       "      <td>-1</td>\n",
       "      <td>Reinspection/Followup</td>\n",
       "      <td>100017</td>\n",
       "      <td>2019-08-26</td>\n",
       "      <td>2019</td>\n",
       "    </tr>\n",
       "  </tbody>\n",
       "</table>\n",
       "</div>"
      ],
      "text/plain": [
       "               iid                    date  score                   type  \\\n",
       "0  100010_20190329  03/29/2019 12:00:00 AM     -1       New Construction   \n",
       "1  100010_20190403  04/03/2019 12:00:00 AM    100  Routine - Unscheduled   \n",
       "2  100017_20190417  04/17/2019 12:00:00 AM     -1          New Ownership   \n",
       "3  100017_20190816  08/16/2019 12:00:00 AM     91  Routine - Unscheduled   \n",
       "4  100017_20190826  08/26/2019 12:00:00 AM     -1  Reinspection/Followup   \n",
       "\n",
       "      bid  timestamp  year  \n",
       "0  100010 2019-03-29  2019  \n",
       "1  100010 2019-04-03  2019  \n",
       "2  100017 2019-04-17  2019  \n",
       "3  100017 2019-08-16  2019  \n",
       "4  100017 2019-08-26  2019  "
      ]
     },
     "execution_count": 203,
     "metadata": {},
     "output_type": "execute_result"
    }
   ],
   "source": [
    "ins.head()"
   ]
  },
  {
   "cell_type": "markdown",
   "metadata": {},
   "source": [
    "<br/><br/><br/>\n",
    "\n",
    "---\n",
    "\n",
    "## Question 4d\n",
    "\n",
    "What is the relationship between the type of inspection over the 2016 to 2019 timeframe? \n",
    "\n",
    "**Part 1**\n",
    "\n",
    "Construct the following table by\n",
    "1. Using the `pivot_table` containing the number (`size`) of inspections for the given `type` and `year`.\n",
    "1. Adding an extra `Total` column to the result using `sum`\n",
    "1. Sort the results in descending order by the `Total`.\n",
    "\n",
    "<table border=\"1\" class=\"dataframe\">  <thead>    <tr style=\"text-align: right;\">      <th>year</th>      <th>2016</th>      <th>2017</th>      <th>2018</th>      <th>2019</th>      <th>Total</th>    </tr>    <tr>      <th>type</th>      <th></th>      <th></th>      <th></th>      <th></th>      <th></th>    </tr>  </thead>  <tbody>    <tr>      <th>Routine - Unscheduled</th>      <td>966</td>      <td>4057</td>      <td>4373</td>      <td>4681</td>      <td>14077</td>    </tr>    <tr>      <th>Reinspection/Followup</th>      <td>445</td>      <td>1767</td>      <td>1935</td>      <td>2292</td>      <td>6439</td>    </tr>    <tr>      <th>New Ownership</th>      <td>99</td>      <td>506</td>      <td>528</td>      <td>459</td>      <td>1592</td>    </tr>    <tr>      <th>Complaint</th>      <td>91</td>      <td>418</td>      <td>512</td>      <td>437</td>      <td>1458</td>    </tr>    <tr>      <th>New Construction</th>      <td>102</td>      <td>485</td>      <td>218</td>      <td>189</td>      <td>994</td>    </tr>    <tr>      <th>Non-inspection site visit</th>      <td>51</td>      <td>276</td>      <td>253</td>      <td>231</td>      <td>811</td>    </tr>    <tr>      <th>New Ownership - Followup</th>      <td>0</td>      <td>45</td>      <td>219</td>      <td>235</td>      <td>499</td>    </tr>    <tr>      <th>Structural Inspection</th>      <td>1</td>      <td>153</td>      <td>50</td>      <td>190</td>      <td>394</td>    </tr>    <tr>      <th>Complaint Reinspection/Followup</th>      <td>19</td>      <td>68</td>      <td>70</td>      <td>70</td>      <td>227</td>    </tr>    <tr>      <th>Foodborne Illness Investigation</th>      <td>1</td>      <td>29</td>      <td>50</td>      <td>35</td>      <td>115</td>    </tr>    <tr>      <th>Routine - Scheduled</th>      <td>0</td>      <td>9</td>      <td>8</td>      <td>29</td>      <td>46</td>    </tr>    <tr>      <th>Administrative or Document Review</th>      <td>2</td>      <td>1</td>      <td>1</td>      <td>0</td>      <td>4</td>    </tr>    <tr>      <th>Multi-agency Investigation</th>      <td>0</td>      <td>0</td>      <td>1</td>      <td>2</td>      <td>3</td>    </tr>    <tr>      <th>Special Event</th>      <td>0</td>      <td>3</td>      <td>0</td>      <td>0</td>      <td>3</td>    </tr>    <tr>      <th>Community Health Assessment</th>      <td>1</td>      <td>0</td>      <td>0</td>      <td>0</td>      <td>1</td>    </tr>  </tbody></table>\n",
    "\n",
    "\n",
    "**Part 2**\n",
    "\n",
    "Based on the above analysis, which year appears to have had a lot of businesses in new buildings?\n",
    "\n",
    "**No python `for` loops or list comprehensions required!**"
   ]
  },
  {
   "cell_type": "markdown",
   "metadata": {
    "deletable": false,
    "editable": false
   },
   "source": [
    "**Part 1**\n",
    "\n",
    "<!--\n",
    "BEGIN QUESTION\n",
    "name: q4di\n",
    "points: 2\n",
    "-->"
   ]
  },
  {
   "cell_type": "code",
   "execution_count": 204,
   "metadata": {},
   "outputs": [
    {
     "data": {
      "text/html": [
       "<div>\n",
       "<style scoped>\n",
       "    .dataframe tbody tr th:only-of-type {\n",
       "        vertical-align: middle;\n",
       "    }\n",
       "\n",
       "    .dataframe tbody tr th {\n",
       "        vertical-align: top;\n",
       "    }\n",
       "\n",
       "    .dataframe thead th {\n",
       "        text-align: right;\n",
       "    }\n",
       "</style>\n",
       "<table border=\"1\" class=\"dataframe\">\n",
       "  <thead>\n",
       "    <tr style=\"text-align: right;\">\n",
       "      <th>year</th>\n",
       "      <th>2016</th>\n",
       "      <th>2017</th>\n",
       "      <th>2018</th>\n",
       "      <th>2019</th>\n",
       "      <th>Total</th>\n",
       "    </tr>\n",
       "    <tr>\n",
       "      <th>type</th>\n",
       "      <th></th>\n",
       "      <th></th>\n",
       "      <th></th>\n",
       "      <th></th>\n",
       "      <th></th>\n",
       "    </tr>\n",
       "  </thead>\n",
       "  <tbody>\n",
       "    <tr>\n",
       "      <th>Routine - Unscheduled</th>\n",
       "      <td>966</td>\n",
       "      <td>4057</td>\n",
       "      <td>4373</td>\n",
       "      <td>4681</td>\n",
       "      <td>14077</td>\n",
       "    </tr>\n",
       "    <tr>\n",
       "      <th>Reinspection/Followup</th>\n",
       "      <td>445</td>\n",
       "      <td>1767</td>\n",
       "      <td>1935</td>\n",
       "      <td>2292</td>\n",
       "      <td>6439</td>\n",
       "    </tr>\n",
       "    <tr>\n",
       "      <th>New Ownership</th>\n",
       "      <td>99</td>\n",
       "      <td>506</td>\n",
       "      <td>528</td>\n",
       "      <td>459</td>\n",
       "      <td>1592</td>\n",
       "    </tr>\n",
       "    <tr>\n",
       "      <th>Complaint</th>\n",
       "      <td>91</td>\n",
       "      <td>418</td>\n",
       "      <td>512</td>\n",
       "      <td>437</td>\n",
       "      <td>1458</td>\n",
       "    </tr>\n",
       "    <tr>\n",
       "      <th>New Construction</th>\n",
       "      <td>102</td>\n",
       "      <td>485</td>\n",
       "      <td>218</td>\n",
       "      <td>189</td>\n",
       "      <td>994</td>\n",
       "    </tr>\n",
       "    <tr>\n",
       "      <th>Non-inspection site visit</th>\n",
       "      <td>51</td>\n",
       "      <td>276</td>\n",
       "      <td>253</td>\n",
       "      <td>231</td>\n",
       "      <td>811</td>\n",
       "    </tr>\n",
       "    <tr>\n",
       "      <th>New Ownership - Followup</th>\n",
       "      <td>0</td>\n",
       "      <td>45</td>\n",
       "      <td>219</td>\n",
       "      <td>235</td>\n",
       "      <td>499</td>\n",
       "    </tr>\n",
       "    <tr>\n",
       "      <th>Structural Inspection</th>\n",
       "      <td>1</td>\n",
       "      <td>153</td>\n",
       "      <td>50</td>\n",
       "      <td>190</td>\n",
       "      <td>394</td>\n",
       "    </tr>\n",
       "    <tr>\n",
       "      <th>Complaint Reinspection/Followup</th>\n",
       "      <td>19</td>\n",
       "      <td>68</td>\n",
       "      <td>70</td>\n",
       "      <td>70</td>\n",
       "      <td>227</td>\n",
       "    </tr>\n",
       "    <tr>\n",
       "      <th>Foodborne Illness Investigation</th>\n",
       "      <td>1</td>\n",
       "      <td>29</td>\n",
       "      <td>50</td>\n",
       "      <td>35</td>\n",
       "      <td>115</td>\n",
       "    </tr>\n",
       "    <tr>\n",
       "      <th>Routine - Scheduled</th>\n",
       "      <td>0</td>\n",
       "      <td>9</td>\n",
       "      <td>8</td>\n",
       "      <td>29</td>\n",
       "      <td>46</td>\n",
       "    </tr>\n",
       "    <tr>\n",
       "      <th>Administrative or Document Review</th>\n",
       "      <td>2</td>\n",
       "      <td>1</td>\n",
       "      <td>1</td>\n",
       "      <td>0</td>\n",
       "      <td>4</td>\n",
       "    </tr>\n",
       "    <tr>\n",
       "      <th>Multi-agency Investigation</th>\n",
       "      <td>0</td>\n",
       "      <td>0</td>\n",
       "      <td>1</td>\n",
       "      <td>2</td>\n",
       "      <td>3</td>\n",
       "    </tr>\n",
       "    <tr>\n",
       "      <th>Special Event</th>\n",
       "      <td>0</td>\n",
       "      <td>3</td>\n",
       "      <td>0</td>\n",
       "      <td>0</td>\n",
       "      <td>3</td>\n",
       "    </tr>\n",
       "    <tr>\n",
       "      <th>Community Health Assessment</th>\n",
       "      <td>1</td>\n",
       "      <td>0</td>\n",
       "      <td>0</td>\n",
       "      <td>0</td>\n",
       "      <td>1</td>\n",
       "    </tr>\n",
       "  </tbody>\n",
       "</table>\n",
       "</div>"
      ],
      "text/plain": [
       "year                               2016  2017  2018  2019  Total\n",
       "type                                                            \n",
       "Routine - Unscheduled               966  4057  4373  4681  14077\n",
       "Reinspection/Followup               445  1767  1935  2292   6439\n",
       "New Ownership                        99   506   528   459   1592\n",
       "Complaint                            91   418   512   437   1458\n",
       "New Construction                    102   485   218   189    994\n",
       "Non-inspection site visit            51   276   253   231    811\n",
       "New Ownership - Followup              0    45   219   235    499\n",
       "Structural Inspection                 1   153    50   190    394\n",
       "Complaint Reinspection/Followup      19    68    70    70    227\n",
       "Foodborne Illness Investigation       1    29    50    35    115\n",
       "Routine - Scheduled                   0     9     8    29     46\n",
       "Administrative or Document Review     2     1     1     0      4\n",
       "Multi-agency Investigation            0     0     1     2      3\n",
       "Special Event                         0     3     0     0      3\n",
       "Community Health Assessment           1     0     0     0      1"
      ]
     },
     "execution_count": 204,
     "metadata": {},
     "output_type": "execute_result"
    }
   ],
   "source": [
    "ins_pivot = pd.pivot_table(ins, values = 'bid', index = ['type'], \n",
    "                           columns = ['year'], aggfunc = np.size, fill_value = 0)\n",
    "ins_pivot['Total'] = ins['type'].value_counts()\n",
    "\n",
    "ins_pivot_sorted = ins_pivot.sort_values(by = ['Total'], ascending = False)\n",
    "ins_pivot_sorted"
   ]
  },
  {
   "cell_type": "code",
   "execution_count": 205,
   "metadata": {
    "deletable": false,
    "editable": false
   },
   "outputs": [
    {
     "name": "stdout",
     "output_type": "stream",
     "text": [
      "~~~~~~~~~~~~~~~~~~~~~~~~~~~~~~~~~~~~~~~~~~~~~~~~~~~~~~~~~~~~~~~~~~~~~\n",
      "Running tests\n",
      "\n",
      "---------------------------------------------------------------------\n",
      "Test summary\n",
      "    Passed: 2\n",
      "    Failed: 0\n",
      "[ooooooooook] 100.0% passed\n",
      "\n"
     ]
    }
   ],
   "source": [
    "ok.grade(\"q4di\");"
   ]
  },
  {
   "cell_type": "markdown",
   "metadata": {
    "deletable": false,
    "editable": false
   },
   "source": [
    "**Part 2**\n",
    "\n",
    "<!--\n",
    "BEGIN QUESTION\n",
    "name: q4dii\n",
    "points: 2\n",
    "-->"
   ]
  },
  {
   "cell_type": "code",
   "execution_count": 206,
   "metadata": {},
   "outputs": [
    {
     "data": {
      "text/plain": [
       "2017"
      ]
     },
     "execution_count": 206,
     "metadata": {},
     "output_type": "execute_result"
    }
   ],
   "source": [
    "year_of_new_construction = 2017\n",
    "year_of_new_construction"
   ]
  },
  {
   "cell_type": "code",
   "execution_count": 207,
   "metadata": {
    "deletable": false,
    "editable": false
   },
   "outputs": [
    {
     "name": "stdout",
     "output_type": "stream",
     "text": [
      "~~~~~~~~~~~~~~~~~~~~~~~~~~~~~~~~~~~~~~~~~~~~~~~~~~~~~~~~~~~~~~~~~~~~~\n",
      "Running tests\n",
      "\n",
      "---------------------------------------------------------------------\n",
      "Test summary\n",
      "    Passed: 1\n",
      "    Failed: 0\n",
      "[ooooooooook] 100.0% passed\n",
      "\n"
     ]
    }
   ],
   "source": [
    "ok.grade(\"q4dii\");"
   ]
  },
  {
   "cell_type": "markdown",
   "metadata": {},
   "source": [
    "<br/><br/><br/>\n",
    "\n",
    "---\n",
    "\n",
    "## Question 4e\n",
    "\n",
    "Let's examine the inspection scores `ins['score']`\n",
    "\n"
   ]
  },
  {
   "cell_type": "code",
   "execution_count": 208,
   "metadata": {},
   "outputs": [
    {
     "data": {
      "text/plain": [
       "-1      12632\n",
       " 100     1993\n",
       " 96      1681\n",
       " 92      1260\n",
       " 94      1250\n",
       "Name: score, dtype: int64"
      ]
     },
     "execution_count": 208,
     "metadata": {},
     "output_type": "execute_result"
    }
   ],
   "source": [
    "ins['score'].value_counts().head()"
   ]
  },
  {
   "cell_type": "markdown",
   "metadata": {},
   "source": [
    "There are a large number of inspections with the `'score'` of `-1`.   These are probably missing values.  Let's see what type of inspections have scores and which do not.  Create the following dataframe using steps similar to the previous question.\n",
    "\n",
    "You should observe that inspection scores appear only to be assigned to `Routine - Unscheduled` inspections.\n",
    "\n",
    "\n",
    "<table border=\"1\" class=\"dataframe\">  <thead>    <tr style=\"text-align: right;\">      <th>Missing Score</th>      <th>False</th>      <th>True</th>      <th>Total</th>    </tr>    <tr>      <th>type</th>      <th></th>      <th></th>      <th></th>    </tr>  </thead>  <tbody>    <tr>      <th>Routine - Unscheduled</th>      <td>14031</td>      <td>46</td>      <td>14077</td>    </tr>    <tr>      <th>Reinspection/Followup</th>      <td>0</td>      <td>6439</td>      <td>6439</td>    </tr>    <tr>      <th>New Ownership</th>      <td>0</td>      <td>1592</td>      <td>1592</td>    </tr>    <tr>      <th>Complaint</th>      <td>0</td>      <td>1458</td>      <td>1458</td>    </tr>    <tr>      <th>New Construction</th>      <td>0</td>      <td>994</td>      <td>994</td>    </tr>    <tr>      <th>Non-inspection site visit</th>      <td>0</td>      <td>811</td>      <td>811</td>    </tr>    <tr>      <th>New Ownership - Followup</th>      <td>0</td>      <td>499</td>      <td>499</td>    </tr>    <tr>      <th>Structural Inspection</th>      <td>0</td>      <td>394</td>      <td>394</td>    </tr>    <tr>      <th>Complaint Reinspection/Followup</th>      <td>0</td>      <td>227</td>      <td>227</td>    </tr>    <tr>      <th>Foodborne Illness Investigation</th>      <td>0</td>      <td>115</td>      <td>115</td>    </tr>    <tr>      <th>Routine - Scheduled</th>      <td>0</td>      <td>46</td>      <td>46</td>    </tr>    <tr>      <th>Administrative or Document Review</th>      <td>0</td>      <td>4</td>      <td>4</td>    </tr>    <tr>      <th>Multi-agency Investigation</th>      <td>0</td>      <td>3</td>      <td>3</td>    </tr>    <tr>      <th>Special Event</th>      <td>0</td>      <td>3</td>      <td>3</td>    </tr>    <tr>      <th>Community Health Assessment</th>      <td>0</td>      <td>1</td>      <td>1</td>    </tr>  </tbody></table>\n",
    "\n"
   ]
  },
  {
   "cell_type": "markdown",
   "metadata": {
    "deletable": false,
    "editable": false
   },
   "source": [
    "<!--\n",
    "BEGIN QUESTION\n",
    "name: q4e\n",
    "points: 2\n",
    "-->"
   ]
  },
  {
   "cell_type": "code",
   "execution_count": 209,
   "metadata": {},
   "outputs": [
    {
     "data": {
      "text/html": [
       "<div>\n",
       "<style scoped>\n",
       "    .dataframe tbody tr th:only-of-type {\n",
       "        vertical-align: middle;\n",
       "    }\n",
       "\n",
       "    .dataframe tbody tr th {\n",
       "        vertical-align: top;\n",
       "    }\n",
       "\n",
       "    .dataframe thead th {\n",
       "        text-align: right;\n",
       "    }\n",
       "</style>\n",
       "<table border=\"1\" class=\"dataframe\">\n",
       "  <thead>\n",
       "    <tr style=\"text-align: right;\">\n",
       "      <th>Missing Score</th>\n",
       "      <th>False</th>\n",
       "      <th>True</th>\n",
       "      <th>Total</th>\n",
       "    </tr>\n",
       "    <tr>\n",
       "      <th>type</th>\n",
       "      <th></th>\n",
       "      <th></th>\n",
       "      <th></th>\n",
       "    </tr>\n",
       "  </thead>\n",
       "  <tbody>\n",
       "    <tr>\n",
       "      <th>Routine - Unscheduled</th>\n",
       "      <td>14031</td>\n",
       "      <td>46</td>\n",
       "      <td>14077</td>\n",
       "    </tr>\n",
       "    <tr>\n",
       "      <th>Reinspection/Followup</th>\n",
       "      <td>0</td>\n",
       "      <td>6439</td>\n",
       "      <td>6439</td>\n",
       "    </tr>\n",
       "    <tr>\n",
       "      <th>New Ownership</th>\n",
       "      <td>0</td>\n",
       "      <td>1592</td>\n",
       "      <td>1592</td>\n",
       "    </tr>\n",
       "    <tr>\n",
       "      <th>Complaint</th>\n",
       "      <td>0</td>\n",
       "      <td>1458</td>\n",
       "      <td>1458</td>\n",
       "    </tr>\n",
       "    <tr>\n",
       "      <th>New Construction</th>\n",
       "      <td>0</td>\n",
       "      <td>994</td>\n",
       "      <td>994</td>\n",
       "    </tr>\n",
       "    <tr>\n",
       "      <th>Non-inspection site visit</th>\n",
       "      <td>0</td>\n",
       "      <td>811</td>\n",
       "      <td>811</td>\n",
       "    </tr>\n",
       "    <tr>\n",
       "      <th>New Ownership - Followup</th>\n",
       "      <td>0</td>\n",
       "      <td>499</td>\n",
       "      <td>499</td>\n",
       "    </tr>\n",
       "    <tr>\n",
       "      <th>Structural Inspection</th>\n",
       "      <td>0</td>\n",
       "      <td>394</td>\n",
       "      <td>394</td>\n",
       "    </tr>\n",
       "    <tr>\n",
       "      <th>Complaint Reinspection/Followup</th>\n",
       "      <td>0</td>\n",
       "      <td>227</td>\n",
       "      <td>227</td>\n",
       "    </tr>\n",
       "    <tr>\n",
       "      <th>Foodborne Illness Investigation</th>\n",
       "      <td>0</td>\n",
       "      <td>115</td>\n",
       "      <td>115</td>\n",
       "    </tr>\n",
       "    <tr>\n",
       "      <th>Routine - Scheduled</th>\n",
       "      <td>0</td>\n",
       "      <td>46</td>\n",
       "      <td>46</td>\n",
       "    </tr>\n",
       "    <tr>\n",
       "      <th>Administrative or Document Review</th>\n",
       "      <td>0</td>\n",
       "      <td>4</td>\n",
       "      <td>4</td>\n",
       "    </tr>\n",
       "    <tr>\n",
       "      <th>Multi-agency Investigation</th>\n",
       "      <td>0</td>\n",
       "      <td>3</td>\n",
       "      <td>3</td>\n",
       "    </tr>\n",
       "    <tr>\n",
       "      <th>Special Event</th>\n",
       "      <td>0</td>\n",
       "      <td>3</td>\n",
       "      <td>3</td>\n",
       "    </tr>\n",
       "    <tr>\n",
       "      <th>Community Health Assessment</th>\n",
       "      <td>0</td>\n",
       "      <td>1</td>\n",
       "      <td>1</td>\n",
       "    </tr>\n",
       "  </tbody>\n",
       "</table>\n",
       "</div>"
      ],
      "text/plain": [
       "Missing Score                      False  True  Total\n",
       "type                                                 \n",
       "Routine - Unscheduled              14031    46  14077\n",
       "Reinspection/Followup                  0  6439   6439\n",
       "New Ownership                          0  1592   1592\n",
       "Complaint                              0  1458   1458\n",
       "New Construction                       0   994    994\n",
       "Non-inspection site visit              0   811    811\n",
       "New Ownership - Followup               0   499    499\n",
       "Structural Inspection                  0   394    394\n",
       "Complaint Reinspection/Followup        0   227    227\n",
       "Foodborne Illness Investigation        0   115    115\n",
       "Routine - Scheduled                    0    46     46\n",
       "Administrative or Document Review      0     4      4\n",
       "Multi-agency Investigation             0     3      3\n",
       "Special Event                          0     3      3\n",
       "Community Health Assessment            0     1      1"
      ]
     },
     "execution_count": 209,
     "metadata": {},
     "output_type": "execute_result"
    }
   ],
   "source": [
    "ins['Missing Score'] = (ins['score'] == -1)\n",
    "ins_missing_score_pivot = pd.pivot_table(ins, values = 'score', index = ['type'], \n",
    "                                         columns = ['Missing Score'], \n",
    "                                         aggfunc = np.size, fill_value = 0)\n",
    "\n",
    "ins_missing_score_pivot['Total'] = ins['type'].value_counts()\n",
    "ins_missing_score_pivot = ins_missing_score_pivot.sort_values(by = ['Total'], ascending = False)\n",
    "ins_missing_score_pivot"
   ]
  },
  {
   "cell_type": "code",
   "execution_count": 210,
   "metadata": {
    "deletable": false,
    "editable": false
   },
   "outputs": [
    {
     "name": "stdout",
     "output_type": "stream",
     "text": [
      "~~~~~~~~~~~~~~~~~~~~~~~~~~~~~~~~~~~~~~~~~~~~~~~~~~~~~~~~~~~~~~~~~~~~~\n",
      "Running tests\n",
      "\n",
      "---------------------------------------------------------------------\n",
      "Test summary\n",
      "    Passed: 1\n",
      "    Failed: 0\n",
      "[ooooooooook] 100.0% passed\n",
      "\n"
     ]
    }
   ],
   "source": [
    "ok.grade(\"q4e\");"
   ]
  },
  {
   "cell_type": "markdown",
   "metadata": {},
   "source": [
    "Notice that inspection scores appear only to be assigned to `Routine - Unscheduled` inspections. It is reasonable that for inspection types such as `New Ownership` and `Complaint` to have no associated inspection scores, but we might be curious why there are no inspection scores for the `Reinspection/Followup` inspection type."
   ]
  },
  {
   "cell_type": "markdown",
   "metadata": {
    "nbgrader": {
     "grade": false,
     "grade_id": "business-data",
     "locked": true,
     "schema_version": 2,
     "solution": false
    }
   },
   "source": [
    "<br/><br/><br/>\n",
    "\n",
    "---\n",
    "\n",
    "<br/><br/><br/>\n",
    "\n",
    "# 5: Joining Data Across Tables\n",
    "\n",
    "In this question we will start to connect data across mulitple tables.  We will be using the `merge` function. "
   ]
  },
  {
   "cell_type": "markdown",
   "metadata": {
    "deletable": false,
    "editable": false
   },
   "source": [
    "<br/><br/><br/>\n",
    "\n",
    "--- \n",
    "\n",
    "## Question 5a\n",
    "\n",
    "Let's figure out which restaurants had the lowest scores. Let's start by creating a new dataframe called `ins_named`. It should be exactly the same as `ins`, except that it should have the name and address of every business, as determined by the `bus` dataframe. \n",
    "\n",
    "*Hint*: Use the merge method to join the `ins` dataframe with the appropriate portion of the `bus` dataframe. See the official [documentation](https://pandas.pydata.org/pandas-docs/stable/user_guide/merging.html) on how to use `merge`.\n",
    "\n",
    "*Note*: For quick reference, a pandas 'left' join keeps the keys from the left frame, so if ins is the left frame, all the keys from ins are kept and if a set of these keys don't have matches in the other frame, the columns from the other frame for these \"unmatched\" key rows contains NaNs.\n",
    "\n",
    "<!--\n",
    "BEGIN QUESTION\n",
    "name: q5a\n",
    "points: 1\n",
    "-->"
   ]
  },
  {
   "cell_type": "code",
   "execution_count": 211,
   "metadata": {},
   "outputs": [
    {
     "data": {
      "text/html": [
       "<div>\n",
       "<style scoped>\n",
       "    .dataframe tbody tr th:only-of-type {\n",
       "        vertical-align: middle;\n",
       "    }\n",
       "\n",
       "    .dataframe tbody tr th {\n",
       "        vertical-align: top;\n",
       "    }\n",
       "\n",
       "    .dataframe thead th {\n",
       "        text-align: right;\n",
       "    }\n",
       "</style>\n",
       "<table border=\"1\" class=\"dataframe\">\n",
       "  <thead>\n",
       "    <tr style=\"text-align: right;\">\n",
       "      <th></th>\n",
       "      <th>iid</th>\n",
       "      <th>date</th>\n",
       "      <th>score</th>\n",
       "      <th>type</th>\n",
       "      <th>bid</th>\n",
       "      <th>timestamp</th>\n",
       "      <th>year</th>\n",
       "      <th>Missing Score</th>\n",
       "      <th>name</th>\n",
       "      <th>address</th>\n",
       "    </tr>\n",
       "  </thead>\n",
       "  <tbody>\n",
       "    <tr>\n",
       "      <th>0</th>\n",
       "      <td>100010_20190329</td>\n",
       "      <td>03/29/2019 12:00:00 AM</td>\n",
       "      <td>-1</td>\n",
       "      <td>New Construction</td>\n",
       "      <td>100010</td>\n",
       "      <td>2019-03-29</td>\n",
       "      <td>2019</td>\n",
       "      <td>True</td>\n",
       "      <td>ILLY CAFFE SF_PIER 39</td>\n",
       "      <td>PIER 39  K-106-B</td>\n",
       "    </tr>\n",
       "    <tr>\n",
       "      <th>1</th>\n",
       "      <td>100010_20190403</td>\n",
       "      <td>04/03/2019 12:00:00 AM</td>\n",
       "      <td>100</td>\n",
       "      <td>Routine - Unscheduled</td>\n",
       "      <td>100010</td>\n",
       "      <td>2019-04-03</td>\n",
       "      <td>2019</td>\n",
       "      <td>False</td>\n",
       "      <td>ILLY CAFFE SF_PIER 39</td>\n",
       "      <td>PIER 39  K-106-B</td>\n",
       "    </tr>\n",
       "    <tr>\n",
       "      <th>2</th>\n",
       "      <td>100017_20190417</td>\n",
       "      <td>04/17/2019 12:00:00 AM</td>\n",
       "      <td>-1</td>\n",
       "      <td>New Ownership</td>\n",
       "      <td>100017</td>\n",
       "      <td>2019-04-17</td>\n",
       "      <td>2019</td>\n",
       "      <td>True</td>\n",
       "      <td>AMICI'S EAST COAST PIZZERIA</td>\n",
       "      <td>475 06th St</td>\n",
       "    </tr>\n",
       "    <tr>\n",
       "      <th>3</th>\n",
       "      <td>100017_20190816</td>\n",
       "      <td>08/16/2019 12:00:00 AM</td>\n",
       "      <td>91</td>\n",
       "      <td>Routine - Unscheduled</td>\n",
       "      <td>100017</td>\n",
       "      <td>2019-08-16</td>\n",
       "      <td>2019</td>\n",
       "      <td>False</td>\n",
       "      <td>AMICI'S EAST COAST PIZZERIA</td>\n",
       "      <td>475 06th St</td>\n",
       "    </tr>\n",
       "    <tr>\n",
       "      <th>4</th>\n",
       "      <td>100017_20190826</td>\n",
       "      <td>08/26/2019 12:00:00 AM</td>\n",
       "      <td>-1</td>\n",
       "      <td>Reinspection/Followup</td>\n",
       "      <td>100017</td>\n",
       "      <td>2019-08-26</td>\n",
       "      <td>2019</td>\n",
       "      <td>True</td>\n",
       "      <td>AMICI'S EAST COAST PIZZERIA</td>\n",
       "      <td>475 06th St</td>\n",
       "    </tr>\n",
       "  </tbody>\n",
       "</table>\n",
       "</div>"
      ],
      "text/plain": [
       "               iid                    date  score                   type  \\\n",
       "0  100010_20190329  03/29/2019 12:00:00 AM     -1       New Construction   \n",
       "1  100010_20190403  04/03/2019 12:00:00 AM    100  Routine - Unscheduled   \n",
       "2  100017_20190417  04/17/2019 12:00:00 AM     -1          New Ownership   \n",
       "3  100017_20190816  08/16/2019 12:00:00 AM     91  Routine - Unscheduled   \n",
       "4  100017_20190826  08/26/2019 12:00:00 AM     -1  Reinspection/Followup   \n",
       "\n",
       "      bid  timestamp  year  Missing Score                         name  \\\n",
       "0  100010 2019-03-29  2019           True        ILLY CAFFE SF_PIER 39   \n",
       "1  100010 2019-04-03  2019          False        ILLY CAFFE SF_PIER 39   \n",
       "2  100017 2019-04-17  2019           True  AMICI'S EAST COAST PIZZERIA   \n",
       "3  100017 2019-08-16  2019          False  AMICI'S EAST COAST PIZZERIA   \n",
       "4  100017 2019-08-26  2019           True  AMICI'S EAST COAST PIZZERIA   \n",
       "\n",
       "            address  \n",
       "0  PIER 39  K-106-B  \n",
       "1  PIER 39  K-106-B  \n",
       "2       475 06th St  \n",
       "3       475 06th St  \n",
       "4       475 06th St  "
      ]
     },
     "execution_count": 211,
     "metadata": {},
     "output_type": "execute_result"
    }
   ],
   "source": [
    "ins_named = ins.merge(bus[['bid', 'name', 'address']], how = 'left', on = 'bid')\n",
    "ins_named.head()"
   ]
  },
  {
   "cell_type": "code",
   "execution_count": 212,
   "metadata": {
    "deletable": false,
    "editable": false
   },
   "outputs": [
    {
     "name": "stdout",
     "output_type": "stream",
     "text": [
      "~~~~~~~~~~~~~~~~~~~~~~~~~~~~~~~~~~~~~~~~~~~~~~~~~~~~~~~~~~~~~~~~~~~~~\n",
      "Running tests\n",
      "\n",
      "---------------------------------------------------------------------\n",
      "Test summary\n",
      "    Passed: 3\n",
      "    Failed: 0\n",
      "[ooooooooook] 100.0% passed\n",
      "\n"
     ]
    }
   ],
   "source": [
    "ok.grade(\"q5a\");"
   ]
  },
  {
   "cell_type": "markdown",
   "metadata": {
    "deletable": false,
    "editable": false
   },
   "source": [
    "<br/><br/><br/>\n",
    "\n",
    "--- \n",
    "\n",
    "## Question 5b\n",
    "\n",
    "Let's look at the 20 businesses with the lowest **median** score.  Order your results by the median score followed by the business id to break ties. The resulting table should look like:\n",
    "\n",
    "\n",
    "*Hint: You may find the `as_index` argument important*\n",
    "\n",
    "<table border=\"1\" class=\"dataframe\">  <thead>    <tr style=\"text-align: right;\">      <th></th>      <th>bid</th>      <th>name</th>      <th>median score</th>    </tr>  </thead>  <tbody>    <tr>      <th>3876</th>      <td>84590</td>      <td>Chaat Corner</td>      <td>54.0</td>    </tr>    <tr>      <th>4564</th>      <td>90622</td>      <td>Taqueria Lolita</td>      <td>57.0</td>    </tr>    <tr>      <th>4990</th>      <td>94351</td>      <td>VBowls LLC</td>      <td>58.0</td>    </tr>    <tr>      <th>2719</th>      <td>69282</td>      <td>New Jumbo Seafood Restaurant</td>      <td>60.5</td>    </tr>    <tr>      <th>222</th>      <td>1154</td>      <td>SUNFLOWER RESTAURANT</td>      <td>63.5</td>    </tr>    <tr>      <th>1991</th>      <td>39776</td>      <td>Duc Loi Supermarket</td>      <td>64.0</td>    </tr>    <tr>      <th>2734</th>      <td>69397</td>      <td>Minna SF Group LLC</td>      <td>64.0</td>    </tr>    <tr>      <th>3291</th>      <td>78328</td>      <td>Golden Wok</td>      <td>64.0</td>    </tr>    <tr>      <th>4870</th>      <td>93150</td>      <td>Chez Beesen</td>      <td>64.0</td>    </tr>    <tr>      <th>4911</th>      <td>93502</td>      <td>Smoky Man</td>      <td>64.0</td>    </tr>    <tr>      <th>5510</th>      <td>98995</td>      <td>Vallarta's Taco Bar</td>      <td>64.0</td>    </tr>    <tr>      <th>1457</th>      <td>10877</td>      <td>CHINA FIRST INC.</td>      <td>64.5</td>    </tr>    <tr>      <th>2890</th>      <td>71310</td>      <td>Golden King Vietnamese Restaurant</td>      <td>64.5</td>    </tr>    <tr>      <th>4352</th>      <td>89070</td>      <td>Lafayette Coffee Shop</td>      <td>64.5</td>    </tr>    <tr>      <th>505</th>      <td>2542</td>      <td>PETER D'S RESTAURANT</td>      <td>65.0</td>    </tr>    <tr>      <th>2874</th>      <td>71008</td>      <td>House of Pancakes</td>      <td>65.0</td>    </tr>    <tr>      <th>818</th>      <td>3862</td>      <td>IMPERIAL GARDEN SEAFOOD RESTAURANT</td>      <td>66.0</td>    </tr>    <tr>      <th>2141</th>      <td>61427</td>      <td>Nick's Foods</td>      <td>66.0</td>    </tr>    <tr>      <th>2954</th>      <td>72176</td>      <td>Wolfes Lunch</td>      <td>66.0</td>    </tr>    <tr>      <th>4367</th>      <td>89141</td>      <td>Cha Cha Cha on Mission</td>      <td>66.5</td>    </tr>  </tbody></table>\n",
    "\n",
    "\n",
    "<!--\n",
    "BEGIN QUESTION\n",
    "name: q5b\n",
    "points: 3\n",
    "-->"
   ]
  },
  {
   "cell_type": "code",
   "execution_count": 213,
   "metadata": {},
   "outputs": [
    {
     "data": {
      "text/html": [
       "<div>\n",
       "<style scoped>\n",
       "    .dataframe tbody tr th:only-of-type {\n",
       "        vertical-align: middle;\n",
       "    }\n",
       "\n",
       "    .dataframe tbody tr th {\n",
       "        vertical-align: top;\n",
       "    }\n",
       "\n",
       "    .dataframe thead th {\n",
       "        text-align: right;\n",
       "    }\n",
       "</style>\n",
       "<table border=\"1\" class=\"dataframe\">\n",
       "  <thead>\n",
       "    <tr style=\"text-align: right;\">\n",
       "      <th></th>\n",
       "      <th>bid</th>\n",
       "      <th>name</th>\n",
       "      <th>median score</th>\n",
       "    </tr>\n",
       "  </thead>\n",
       "  <tbody>\n",
       "    <tr>\n",
       "      <th>3876</th>\n",
       "      <td>84590</td>\n",
       "      <td>Chaat Corner</td>\n",
       "      <td>54.0</td>\n",
       "    </tr>\n",
       "    <tr>\n",
       "      <th>4564</th>\n",
       "      <td>90622</td>\n",
       "      <td>Taqueria Lolita</td>\n",
       "      <td>57.0</td>\n",
       "    </tr>\n",
       "    <tr>\n",
       "      <th>4990</th>\n",
       "      <td>94351</td>\n",
       "      <td>VBowls LLC</td>\n",
       "      <td>58.0</td>\n",
       "    </tr>\n",
       "    <tr>\n",
       "      <th>2719</th>\n",
       "      <td>69282</td>\n",
       "      <td>New Jumbo Seafood Restaurant</td>\n",
       "      <td>60.5</td>\n",
       "    </tr>\n",
       "    <tr>\n",
       "      <th>222</th>\n",
       "      <td>1154</td>\n",
       "      <td>SUNFLOWER RESTAURANT</td>\n",
       "      <td>63.5</td>\n",
       "    </tr>\n",
       "    <tr>\n",
       "      <th>1991</th>\n",
       "      <td>39776</td>\n",
       "      <td>Duc Loi Supermarket</td>\n",
       "      <td>64.0</td>\n",
       "    </tr>\n",
       "    <tr>\n",
       "      <th>2734</th>\n",
       "      <td>69397</td>\n",
       "      <td>Minna SF Group LLC</td>\n",
       "      <td>64.0</td>\n",
       "    </tr>\n",
       "    <tr>\n",
       "      <th>3291</th>\n",
       "      <td>78328</td>\n",
       "      <td>Golden Wok</td>\n",
       "      <td>64.0</td>\n",
       "    </tr>\n",
       "    <tr>\n",
       "      <th>4870</th>\n",
       "      <td>93150</td>\n",
       "      <td>Chez Beesen</td>\n",
       "      <td>64.0</td>\n",
       "    </tr>\n",
       "    <tr>\n",
       "      <th>4911</th>\n",
       "      <td>93502</td>\n",
       "      <td>Smoky Man</td>\n",
       "      <td>64.0</td>\n",
       "    </tr>\n",
       "    <tr>\n",
       "      <th>5510</th>\n",
       "      <td>98995</td>\n",
       "      <td>Vallarta's Taco Bar</td>\n",
       "      <td>64.0</td>\n",
       "    </tr>\n",
       "    <tr>\n",
       "      <th>1457</th>\n",
       "      <td>10877</td>\n",
       "      <td>CHINA FIRST INC.</td>\n",
       "      <td>64.5</td>\n",
       "    </tr>\n",
       "    <tr>\n",
       "      <th>2890</th>\n",
       "      <td>71310</td>\n",
       "      <td>Golden King Vietnamese Restaurant</td>\n",
       "      <td>64.5</td>\n",
       "    </tr>\n",
       "    <tr>\n",
       "      <th>4352</th>\n",
       "      <td>89070</td>\n",
       "      <td>Lafayette Coffee Shop</td>\n",
       "      <td>64.5</td>\n",
       "    </tr>\n",
       "    <tr>\n",
       "      <th>505</th>\n",
       "      <td>2542</td>\n",
       "      <td>PETER D'S RESTAURANT</td>\n",
       "      <td>65.0</td>\n",
       "    </tr>\n",
       "    <tr>\n",
       "      <th>2874</th>\n",
       "      <td>71008</td>\n",
       "      <td>House of Pancakes</td>\n",
       "      <td>65.0</td>\n",
       "    </tr>\n",
       "    <tr>\n",
       "      <th>818</th>\n",
       "      <td>3862</td>\n",
       "      <td>IMPERIAL GARDEN SEAFOOD RESTAURANT</td>\n",
       "      <td>66.0</td>\n",
       "    </tr>\n",
       "    <tr>\n",
       "      <th>2141</th>\n",
       "      <td>61427</td>\n",
       "      <td>Nick's Foods</td>\n",
       "      <td>66.0</td>\n",
       "    </tr>\n",
       "    <tr>\n",
       "      <th>2954</th>\n",
       "      <td>72176</td>\n",
       "      <td>Wolfes Lunch</td>\n",
       "      <td>66.0</td>\n",
       "    </tr>\n",
       "    <tr>\n",
       "      <th>4367</th>\n",
       "      <td>89141</td>\n",
       "      <td>Cha Cha Cha on Mission</td>\n",
       "      <td>66.5</td>\n",
       "    </tr>\n",
       "  </tbody>\n",
       "</table>\n",
       "</div>"
      ],
      "text/plain": [
       "        bid                                name  median score\n",
       "3876  84590                        Chaat Corner          54.0\n",
       "4564  90622                     Taqueria Lolita          57.0\n",
       "4990  94351                          VBowls LLC          58.0\n",
       "2719  69282        New Jumbo Seafood Restaurant          60.5\n",
       "222    1154                SUNFLOWER RESTAURANT          63.5\n",
       "1991  39776                 Duc Loi Supermarket          64.0\n",
       "2734  69397                  Minna SF Group LLC          64.0\n",
       "3291  78328                          Golden Wok          64.0\n",
       "4870  93150                         Chez Beesen          64.0\n",
       "4911  93502                           Smoky Man          64.0\n",
       "5510  98995                 Vallarta's Taco Bar          64.0\n",
       "1457  10877                    CHINA FIRST INC.          64.5\n",
       "2890  71310   Golden King Vietnamese Restaurant          64.5\n",
       "4352  89070               Lafayette Coffee Shop          64.5\n",
       "505    2542                PETER D'S RESTAURANT          65.0\n",
       "2874  71008                   House of Pancakes          65.0\n",
       "818    3862  IMPERIAL GARDEN SEAFOOD RESTAURANT          66.0\n",
       "2141  61427                        Nick's Foods          66.0\n",
       "2954  72176                        Wolfes Lunch          66.0\n",
       "4367  89141              Cha Cha Cha on Mission          66.5"
      ]
     },
     "execution_count": 213,
     "metadata": {},
     "output_type": "execute_result"
    }
   ],
   "source": [
    "no_missing_score = ins_named[ins_named['Missing Score'] == False].drop(columns = ['year', 'Missing Score'])\n",
    "twenty_lowest_scoring = no_missing_score.groupby(['bid', 'name'],\n",
    "                                                as_index = False).median().sort_values(['score', 'bid'])\n",
    "twenty_lowest_scoring = twenty_lowest_scoring.rename({'score' : 'median score'}, axis = 'columns')[:20]\n",
    "twenty_lowest_scoring\n"
   ]
  },
  {
   "cell_type": "code",
   "execution_count": 214,
   "metadata": {
    "deletable": false,
    "editable": false
   },
   "outputs": [
    {
     "name": "stdout",
     "output_type": "stream",
     "text": [
      "~~~~~~~~~~~~~~~~~~~~~~~~~~~~~~~~~~~~~~~~~~~~~~~~~~~~~~~~~~~~~~~~~~~~~\n",
      "Running tests\n",
      "\n",
      "---------------------------------------------------------------------\n",
      "Test summary\n",
      "    Passed: 2\n",
      "    Failed: 0\n",
      "[ooooooooook] 100.0% passed\n",
      "\n"
     ]
    }
   ],
   "source": [
    "ok.grade(\"q5b\");"
   ]
  },
  {
   "cell_type": "markdown",
   "metadata": {
    "deletable": false,
    "editable": false
   },
   "source": [
    "<br/><br/><br/>\n",
    "\n",
    "--- \n",
    "\n",
    "## Question 5c\n",
    "\n",
    "Let's now examine the descriptions of violations for inspections with `score > 0` and `score < 65`.  Construct a **Series** indexed by the `description` of the violation from the `vio` table with the value being the number of times that violation occured for inspections with the above score range.  Sort the results in descending order of the count.\n",
    "\n",
    "The first few entries should look like:\n",
    "\n",
    "```\n",
    "Unclean or unsanitary food contact surfaces                                  43\n",
    "High risk food holding temperature                                           42\n",
    "Unclean or degraded floors walls or ceilings                                 40\n",
    "Unapproved or unmaintained equipment or utensils                             39\n",
    "```\n",
    "You will need to use `merge` twice.\n",
    "\n",
    "<!--\n",
    "BEGIN QUESTION\n",
    "name: q5c\n",
    "points: 2\n",
    "-->"
   ]
  },
  {
   "cell_type": "code",
   "execution_count": 215,
   "metadata": {},
   "outputs": [
    {
     "data": {
      "text/plain": [
       "description\n",
       "Unclean or unsanitary food contact surfaces                                  43\n",
       "High risk food holding temperature                                           42\n",
       "Unclean or degraded floors walls or ceilings                                 40\n",
       "Unapproved or unmaintained equipment or utensils                             39\n",
       "Foods not protected from contamination                                       37\n",
       "High risk vermin infestation                                                 37\n",
       "Inadequate food safety knowledge or lack of certified food safety manager    35\n",
       "Inadequate and inaccessible handwashing facilities                           35\n",
       "Improper thawing methods                                                     30\n",
       "Unclean hands or improper use of gloves                                      27\n",
       "Improper cooling methods                                                     25\n",
       "Unclean nonfood contact surfaces                                             21\n",
       "Inadequately cleaned or sanitized food contact surfaces                      20\n",
       "Improper food storage                                                        20\n",
       "Contaminated or adulterated food                                             18\n",
       "Moderate risk vermin infestation                                             15\n",
       "Permit license or inspection report not posted                               13\n",
       "Moderate risk food holding temperature                                       13\n",
       "Food safety certificate or food handler card not available                   12\n",
       "Improper storage use or identification of toxic substances                   10\n",
       "dtype: int64"
      ]
     },
     "execution_count": 215,
     "metadata": {},
     "output_type": "execute_result"
    }
   ],
   "source": [
    "merged_vio = vio.merge(ins2vio, how = 'left', \n",
    "                       on = 'vid').merge(ins[['iid', 'score']], how = 'left', on = 'iid')\n",
    "merged_vio = merged_vio[merged_vio['score'] > 0]\n",
    "merged_vio = merged_vio[merged_vio['score'] < 65]\n",
    "merged_vio\n",
    "\n",
    "low_score_violations = merged_vio.groupby('description').size().sort_values(ascending = False)\n",
    "#merged_vio['description'].value_counts().sort_values(ascending = False)\n",
    "low_score_violations.head(20)"
   ]
  },
  {
   "cell_type": "code",
   "execution_count": 216,
   "metadata": {
    "deletable": false,
    "editable": false
   },
   "outputs": [
    {
     "name": "stdout",
     "output_type": "stream",
     "text": [
      "~~~~~~~~~~~~~~~~~~~~~~~~~~~~~~~~~~~~~~~~~~~~~~~~~~~~~~~~~~~~~~~~~~~~~\n",
      "Running tests\n",
      "\n",
      "---------------------------------------------------------------------\n",
      "Test summary\n",
      "    Passed: 3\n",
      "    Failed: 0\n",
      "[ooooooooook] 100.0% passed\n",
      "\n"
     ]
    }
   ],
   "source": [
    "ok.grade(\"q5c\");"
   ]
  },
  {
   "cell_type": "markdown",
   "metadata": {
    "deletable": false,
    "editable": false,
    "nbgrader": {
     "grade": false,
     "grade_id": "business-data",
     "locked": true,
     "schema_version": 2,
     "solution": false
    }
   },
   "source": [
    "<br/><br/><br/>\n",
    "\n",
    "---\n",
    "\n",
    "<br/><br/><br/>\n",
    "\n",
    "# 6: Compute Something Interesting\n",
    "\n",
    "Play with the data and try to compute something interesting about the data. Please try to use at least one of groupby, pivot, or merge (or all of the above).  \n",
    "\n",
    "Please show your work in the cell below and describe in words what you found in the same cell. This question will be graded leniently but good solutions may be used to create future homework problems.\n",
    "\n",
    "**Please have both your code and your explanation in the same one cell below. Any work in any other cell will not be graded.**\n",
    "\n",
    "\n",
    "<!--\n",
    "BEGIN QUESTION\n",
    "name: q6\n",
    "points: 3\n",
    "manual: True\n",
    "-->\n",
    "\n",
    "<!-- EXPORT TO PDF -->"
   ]
  },
  {
   "cell_type": "code",
   "execution_count": 217,
   "metadata": {},
   "outputs": [
    {
     "data": {
      "text/html": [
       "<div>\n",
       "<style scoped>\n",
       "    .dataframe tbody tr th:only-of-type {\n",
       "        vertical-align: middle;\n",
       "    }\n",
       "\n",
       "    .dataframe tbody tr th {\n",
       "        vertical-align: top;\n",
       "    }\n",
       "\n",
       "    .dataframe thead th {\n",
       "        text-align: right;\n",
       "    }\n",
       "</style>\n",
       "<table border=\"1\" class=\"dataframe\">\n",
       "  <thead>\n",
       "    <tr style=\"text-align: right;\">\n",
       "      <th>Has PhoneNum</th>\n",
       "      <th>False</th>\n",
       "      <th>True</th>\n",
       "      <th>Total</th>\n",
       "    </tr>\n",
       "    <tr>\n",
       "      <th>postal5</th>\n",
       "      <th></th>\n",
       "      <th></th>\n",
       "      <th></th>\n",
       "    </tr>\n",
       "  </thead>\n",
       "  <tbody>\n",
       "    <tr>\n",
       "      <th>Total</th>\n",
       "      <td>4043</td>\n",
       "      <td>1989</td>\n",
       "      <td>6032</td>\n",
       "    </tr>\n",
       "    <tr>\n",
       "      <th>94103</th>\n",
       "      <td>348</td>\n",
       "      <td>215</td>\n",
       "      <td>563</td>\n",
       "    </tr>\n",
       "    <tr>\n",
       "      <th>94110</th>\n",
       "      <td>287</td>\n",
       "      <td>269</td>\n",
       "      <td>556</td>\n",
       "    </tr>\n",
       "    <tr>\n",
       "      <th>94102</th>\n",
       "      <td>357</td>\n",
       "      <td>100</td>\n",
       "      <td>457</td>\n",
       "    </tr>\n",
       "    <tr>\n",
       "      <th>94107</th>\n",
       "      <td>329</td>\n",
       "      <td>79</td>\n",
       "      <td>408</td>\n",
       "    </tr>\n",
       "    <tr>\n",
       "      <th>94133</th>\n",
       "      <td>344</td>\n",
       "      <td>54</td>\n",
       "      <td>398</td>\n",
       "    </tr>\n",
       "    <tr>\n",
       "      <th>94109</th>\n",
       "      <td>291</td>\n",
       "      <td>91</td>\n",
       "      <td>382</td>\n",
       "    </tr>\n",
       "    <tr>\n",
       "      <th>94111</th>\n",
       "      <td>225</td>\n",
       "      <td>34</td>\n",
       "      <td>259</td>\n",
       "    </tr>\n",
       "    <tr>\n",
       "      <th>94122</th>\n",
       "      <td>136</td>\n",
       "      <td>120</td>\n",
       "      <td>256</td>\n",
       "    </tr>\n",
       "    <tr>\n",
       "      <th>94105</th>\n",
       "      <td>204</td>\n",
       "      <td>47</td>\n",
       "      <td>251</td>\n",
       "    </tr>\n",
       "    <tr>\n",
       "      <th>94118</th>\n",
       "      <td>147</td>\n",
       "      <td>84</td>\n",
       "      <td>231</td>\n",
       "    </tr>\n",
       "    <tr>\n",
       "      <th>94115</th>\n",
       "      <td>149</td>\n",
       "      <td>81</td>\n",
       "      <td>230</td>\n",
       "    </tr>\n",
       "    <tr>\n",
       "      <th>94108</th>\n",
       "      <td>179</td>\n",
       "      <td>50</td>\n",
       "      <td>229</td>\n",
       "    </tr>\n",
       "    <tr>\n",
       "      <th>94124</th>\n",
       "      <td>139</td>\n",
       "      <td>80</td>\n",
       "      <td>219</td>\n",
       "    </tr>\n",
       "    <tr>\n",
       "      <th>94114</th>\n",
       "      <td>85</td>\n",
       "      <td>115</td>\n",
       "      <td>200</td>\n",
       "    </tr>\n",
       "    <tr>\n",
       "      <th>94112</th>\n",
       "      <td>108</td>\n",
       "      <td>84</td>\n",
       "      <td>192</td>\n",
       "    </tr>\n",
       "    <tr>\n",
       "      <th>94117</th>\n",
       "      <td>103</td>\n",
       "      <td>87</td>\n",
       "      <td>190</td>\n",
       "    </tr>\n",
       "    <tr>\n",
       "      <th>94123</th>\n",
       "      <td>115</td>\n",
       "      <td>63</td>\n",
       "      <td>178</td>\n",
       "    </tr>\n",
       "    <tr>\n",
       "      <th>94121</th>\n",
       "      <td>91</td>\n",
       "      <td>66</td>\n",
       "      <td>157</td>\n",
       "    </tr>\n",
       "    <tr>\n",
       "      <th>94104</th>\n",
       "      <td>122</td>\n",
       "      <td>20</td>\n",
       "      <td>142</td>\n",
       "    </tr>\n",
       "    <tr>\n",
       "      <th>94132</th>\n",
       "      <td>42</td>\n",
       "      <td>90</td>\n",
       "      <td>132</td>\n",
       "    </tr>\n",
       "    <tr>\n",
       "      <th>94116</th>\n",
       "      <td>58</td>\n",
       "      <td>39</td>\n",
       "      <td>97</td>\n",
       "    </tr>\n",
       "    <tr>\n",
       "      <th>94158</th>\n",
       "      <td>76</td>\n",
       "      <td>14</td>\n",
       "      <td>90</td>\n",
       "    </tr>\n",
       "    <tr>\n",
       "      <th>94134</th>\n",
       "      <td>57</td>\n",
       "      <td>25</td>\n",
       "      <td>82</td>\n",
       "    </tr>\n",
       "    <tr>\n",
       "      <th>94127</th>\n",
       "      <td>22</td>\n",
       "      <td>45</td>\n",
       "      <td>67</td>\n",
       "    </tr>\n",
       "    <tr>\n",
       "      <th>94131</th>\n",
       "      <td>16</td>\n",
       "      <td>33</td>\n",
       "      <td>49</td>\n",
       "    </tr>\n",
       "    <tr>\n",
       "      <th>94130</th>\n",
       "      <td>7</td>\n",
       "      <td>1</td>\n",
       "      <td>8</td>\n",
       "    </tr>\n",
       "    <tr>\n",
       "      <th>94143</th>\n",
       "      <td>3</td>\n",
       "      <td>2</td>\n",
       "      <td>5</td>\n",
       "    </tr>\n",
       "    <tr>\n",
       "      <th>94188</th>\n",
       "      <td>1</td>\n",
       "      <td>1</td>\n",
       "      <td>2</td>\n",
       "    </tr>\n",
       "    <tr>\n",
       "      <th>94129</th>\n",
       "      <td>1</td>\n",
       "      <td>0</td>\n",
       "      <td>1</td>\n",
       "    </tr>\n",
       "    <tr>\n",
       "      <th>94120</th>\n",
       "      <td>1</td>\n",
       "      <td>0</td>\n",
       "      <td>1</td>\n",
       "    </tr>\n",
       "  </tbody>\n",
       "</table>\n",
       "</div>"
      ],
      "text/plain": [
       "Has PhoneNum  False  True  Total\n",
       "postal5                         \n",
       "Total          4043  1989   6032\n",
       "94103           348   215    563\n",
       "94110           287   269    556\n",
       "94102           357   100    457\n",
       "94107           329    79    408\n",
       "94133           344    54    398\n",
       "94109           291    91    382\n",
       "94111           225    34    259\n",
       "94122           136   120    256\n",
       "94105           204    47    251\n",
       "94118           147    84    231\n",
       "94115           149    81    230\n",
       "94108           179    50    229\n",
       "94124           139    80    219\n",
       "94114            85   115    200\n",
       "94112           108    84    192\n",
       "94117           103    87    190\n",
       "94123           115    63    178\n",
       "94121            91    66    157\n",
       "94104           122    20    142\n",
       "94132            42    90    132\n",
       "94116            58    39     97\n",
       "94158            76    14     90\n",
       "94134            57    25     82\n",
       "94127            22    45     67\n",
       "94131            16    33     49\n",
       "94130             7     1      8\n",
       "94143             3     2      5\n",
       "94188             1     1      2\n",
       "94129             1     0      1\n",
       "94120             1     0      1"
      ]
     },
     "execution_count": 217,
     "metadata": {},
     "output_type": "execute_result"
    }
   ],
   "source": [
    "#YOUR CODE HERE\n",
    "new_bus = bus\n",
    "new_bus['Has PhoneNum'] = (new_bus['phone_number'] != -9999)\n",
    "\n",
    "has_phone_pivot_table = pd.pivot_table(new_bus, values = 'bid', index = ['postal5'], \n",
    "                                       columns = ['Has PhoneNum'], aggfunc = np.size, \n",
    "                                       fill_value = 0, margins = True, margins_name = 'Total')\n",
    "has_phone_pivot_table = has_phone_pivot_table.sort_values(by = ['Total'], ascending = False)\n",
    "has_phone_pivot_table\n",
    "\n",
    "# YOUR EXPLANATION HERE (in a comment)\n",
    "# Here, I make a copy of bus dataframe called new_bus to \n",
    "# prevent changing the bus dataframe data. I make a new \n",
    "# column called 'Has PhoneNum' which have a value either\n",
    "# the restaurant has a phone number (True or False).\n",
    "\n",
    "# Then, I make a table with 'postal5' as the index and \n",
    "# 'Has PhoneNum' as the columns to know how many restaurants\n",
    "# based on the postal code have phone numbers.\n",
    "\n",
    "# Based on the table below, in San Francisco area, only 1989\n",
    "# restaurants have a phone number, and the other 4043 do not.\n",
    "# Then, based on the data, we can know that the resturants\n",
    "# that do not provide phone number have an invalid phone\n",
    "# number (-9999) based on our sorting in new_data.\n",
    "\n"
   ]
  },
  {
   "cell_type": "code",
   "execution_count": 218,
   "metadata": {},
   "outputs": [],
   "source": [
    "#THIS CELL AND ANY CELLS ADDED BELOW WILL NOT BE GRADED"
   ]
  },
  {
   "cell_type": "markdown",
   "metadata": {
    "nbgrader": {
     "grade": false,
     "grade_id": "read-only",
     "locked": true,
     "schema_version": 2,
     "solution": false
    }
   },
   "source": [
    "## Congratulations! You have finished Part 1 of Project 1! \n",
    "\n",
    "In our analysis of the business data, we found that there are some errors with the ZIP codes. As a result, we made the records with ZIP codes outside of San Francisco have a `postal5` value of `None` and shortened 9-digit zip codes to 5-digit ones. In practice, we could take the time to look up the restaurant address online and fix some of the zip code issues.\n",
    "\n",
    "In our analysis of the inspection data, we investigated the relationship between the year and type of inspection, and we figured out that only `Routine - Unscheduled` inspections have inspection scores.\n",
    "Finally, we joined the business and inspection data to identify restaurants with the worst ratings and the lowest median scores. "
   ]
  },
  {
   "cell_type": "code",
   "execution_count": null,
   "metadata": {},
   "outputs": [],
   "source": []
  },
  {
   "cell_type": "markdown",
   "metadata": {
    "deletable": false,
    "editable": false
   },
   "source": [
    "# Submit\n",
    "Make sure you have run all cells in your notebook in order before running the cell below, so that all images/graphs appear in the output.\n",
    "**Please save before submitting!**\n",
    "\n",
    "<!-- EXPECT 2 EXPORTED QUESTIONS -->"
   ]
  },
  {
   "cell_type": "code",
   "execution_count": null,
   "metadata": {
    "deletable": false,
    "editable": false
   },
   "outputs": [
    {
     "name": "stdout",
     "output_type": "stream",
     "text": [
      "Generating PDF...\n",
      "Saved proj1a.pdf\n"
     ]
    }
   ],
   "source": [
    "# Save your notebook first, then run this cell to submit.\n",
    "import jassign.to_pdf\n",
    "jassign.to_pdf.generate_pdf('proj1a.ipynb', 'proj1a.pdf')\n",
    "ok.submit()"
   ]
  }
 ],
 "metadata": {
  "celltoolbar": "Create Assignment",
  "kernelspec": {
   "display_name": "Python 3",
   "language": "python",
   "name": "python3"
  },
  "language_info": {
   "codemirror_mode": {
    "name": "ipython",
    "version": 3
   },
   "file_extension": ".py",
   "mimetype": "text/x-python",
   "name": "python",
   "nbconvert_exporter": "python",
   "pygments_lexer": "ipython3",
   "version": "3.6.4"
  }
 },
 "nbformat": 4,
 "nbformat_minor": 4
}
